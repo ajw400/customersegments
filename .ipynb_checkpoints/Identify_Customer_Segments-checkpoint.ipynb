{
 "cells": [
  {
   "cell_type": "markdown",
   "metadata": {},
   "source": [
    "# Project: Identify Customer Segments\n",
    "\n",
    "In this project, we will apply unsupervised learning techniques to identify segments of the population that form the core customer base for a mail-order sales company in Germany. These segments can then be used to direct marketing campaigns towards audiences that will have the highest expected rate of returns. The data used represents a real-life data science task. The data is private, and is thus not provided in this repository. However, the techniques employed can be used on many other data science problems. \n",
    "\n",
    "\n",
    "It should be noted that while there will be precise guidelines on how you should handle certain tasks in the project, there will also be places where an exact specification is not provided. **There will be times in the project where you will need to make and justify your own decisions on how to treat the data.** These are places where there may not be only one way to handle the data. In real-life tasks, there may be many valid ways to approach an analysis task. One of the most important things you can do is clearly document your approach so that other scientists can understand the decisions you've made.\n",
    "\n",
    "At the end of most sections, there will be a Markdown cell labeled **Discussion**. In these cells, you will report your findings for the completed section, as well as document the decisions that you made in your approach to each subtask. **Your project will be evaluated not just on the code used to complete the tasks outlined, but also your communication about your observations and conclusions at each stage.**"
   ]
  },
  {
   "cell_type": "code",
   "execution_count": 34,
   "metadata": {},
   "outputs": [],
   "source": [
    "# import libraries here; add more as necessary\n",
    "import numpy as np\n",
    "import pandas as pd\n",
    "import matplotlib.pyplot as plt\n",
    "import seaborn as sns\n",
    "from sklearn.preprocessing import Imputer\n",
    "from sklearn.preprocessing import StandardScaler\n",
    "from sklearn.decomposition import PCA\n",
    "from sklearn.cluster import KMeans \n",
    "from scipy.stats import itemfreq\n",
    "\n",
    "# magic word for producing visualizations in notebook\n",
    "%matplotlib inline"
   ]
  },
  {
   "cell_type": "markdown",
   "metadata": {},
   "source": [
    "### Step 0: Load the Data\n",
    "\n",
    "There are four files associated with this project (not including this one):\n",
    "\n",
    "- `Udacity_AZDIAS_Subset.csv`: Demographics data for the general population of Germany; 891211 persons (rows) x 85 features (columns).\n",
    "- `Udacity_CUSTOMERS_Subset.csv`: Demographics data for customers of a mail-order company; 191652 persons (rows) x 85 features (columns).\n",
    "- `Data_Dictionary.md`: Detailed information file about the features in the provided datasets.\n",
    "- `AZDIAS_Feature_Summary.csv`: Summary of feature attributes for demographics data; 85 features (rows) x 4 columns\n",
    "\n",
    "Each row of the demographics files represents a single person, but also includes information outside of individuals, including information about their household, building, and neighborhood. You will use this information to cluster the general population into groups with similar demographic properties. Then, you will see how the people in the customers dataset fit into those created clusters. The hope here is that certain clusters are over-represented in the customers data, as compared to the general population; those over-represented clusters will be assumed to be part of the core userbase. This information can then be used for further applications, such as targeting for a marketing campaign.\n",
    "\n",
    "To start off with, load in the demographics data for the general population into a pandas DataFrame, and do the same for the feature attributes summary. Note for all of the `.csv` data files in this project: they're semicolon (`;`) delimited, so you'll need an additional argument in your [`read_csv()`](https://pandas.pydata.org/pandas-docs/stable/generated/pandas.read_csv.html) call to read in the data properly. Also, considering the size of the main dataset, it may take some time for it to load completely.\n",
    "\n",
    "Once the dataset is loaded, it's recommended that you take a little bit of time just browsing the general structure of the dataset and feature summary file. You'll be getting deep into the innards of the cleaning in the first major step of the project, so gaining some general familiarity can help you get your bearings."
   ]
  },
  {
   "cell_type": "code",
   "execution_count": 130,
   "metadata": {},
   "outputs": [],
   "source": [
    "# Load in the general demographics data.\n",
    "azdias = pd.read_csv('Udacity_AZDIAS_Subset.csv', sep=';')\n",
    "\n",
    "# Load in the feature summary file.\n",
    "feat_info = pd.read_csv('AZDIAS_Feature_Summary.csv', sep=';')"
   ]
  },
  {
   "cell_type": "code",
   "execution_count": 36,
   "metadata": {},
   "outputs": [
    {
     "data": {
      "text/plain": [
       "(891221, 85)"
      ]
     },
     "execution_count": 36,
     "metadata": {},
     "output_type": "execute_result"
    }
   ],
   "source": [
    "# Check the structure of the data after it's loaded (e.g. print the number of\n",
    "# rows and columns, print the first few rows).\n",
    "azdias.shape"
   ]
  },
  {
   "cell_type": "code",
   "execution_count": 37,
   "metadata": {},
   "outputs": [
    {
     "data": {
      "text/html": [
       "<div>\n",
       "<style scoped>\n",
       "    .dataframe tbody tr th:only-of-type {\n",
       "        vertical-align: middle;\n",
       "    }\n",
       "\n",
       "    .dataframe tbody tr th {\n",
       "        vertical-align: top;\n",
       "    }\n",
       "\n",
       "    .dataframe thead th {\n",
       "        text-align: right;\n",
       "    }\n",
       "</style>\n",
       "<table border=\"1\" class=\"dataframe\">\n",
       "  <thead>\n",
       "    <tr style=\"text-align: right;\">\n",
       "      <th></th>\n",
       "      <th>AGER_TYP</th>\n",
       "      <th>ALTERSKATEGORIE_GROB</th>\n",
       "      <th>ANREDE_KZ</th>\n",
       "      <th>CJT_GESAMTTYP</th>\n",
       "      <th>FINANZ_MINIMALIST</th>\n",
       "      <th>FINANZ_SPARER</th>\n",
       "      <th>FINANZ_VORSORGER</th>\n",
       "      <th>FINANZ_ANLEGER</th>\n",
       "      <th>FINANZ_UNAUFFAELLIGER</th>\n",
       "      <th>FINANZ_HAUSBAUER</th>\n",
       "      <th>...</th>\n",
       "      <th>PLZ8_ANTG1</th>\n",
       "      <th>PLZ8_ANTG2</th>\n",
       "      <th>PLZ8_ANTG3</th>\n",
       "      <th>PLZ8_ANTG4</th>\n",
       "      <th>PLZ8_BAUMAX</th>\n",
       "      <th>PLZ8_HHZ</th>\n",
       "      <th>PLZ8_GBZ</th>\n",
       "      <th>ARBEIT</th>\n",
       "      <th>ORTSGR_KLS9</th>\n",
       "      <th>RELAT_AB</th>\n",
       "    </tr>\n",
       "  </thead>\n",
       "  <tbody>\n",
       "    <tr>\n",
       "      <th>count</th>\n",
       "      <td>891221.000000</td>\n",
       "      <td>891221.000000</td>\n",
       "      <td>891221.000000</td>\n",
       "      <td>886367.000000</td>\n",
       "      <td>891221.000000</td>\n",
       "      <td>891221.000000</td>\n",
       "      <td>891221.000000</td>\n",
       "      <td>891221.000000</td>\n",
       "      <td>891221.000000</td>\n",
       "      <td>891221.000000</td>\n",
       "      <td>...</td>\n",
       "      <td>774706.000000</td>\n",
       "      <td>774706.000000</td>\n",
       "      <td>774706.000000</td>\n",
       "      <td>774706.000000</td>\n",
       "      <td>774706.000000</td>\n",
       "      <td>774706.000000</td>\n",
       "      <td>774706.000000</td>\n",
       "      <td>794005.000000</td>\n",
       "      <td>794005.000000</td>\n",
       "      <td>794005.00000</td>\n",
       "    </tr>\n",
       "    <tr>\n",
       "      <th>mean</th>\n",
       "      <td>-0.358435</td>\n",
       "      <td>2.777398</td>\n",
       "      <td>1.522098</td>\n",
       "      <td>3.632838</td>\n",
       "      <td>3.074528</td>\n",
       "      <td>2.821039</td>\n",
       "      <td>3.401106</td>\n",
       "      <td>3.033328</td>\n",
       "      <td>2.874167</td>\n",
       "      <td>3.075121</td>\n",
       "      <td>...</td>\n",
       "      <td>2.253330</td>\n",
       "      <td>2.801858</td>\n",
       "      <td>1.595426</td>\n",
       "      <td>0.699166</td>\n",
       "      <td>1.943913</td>\n",
       "      <td>3.612821</td>\n",
       "      <td>3.381087</td>\n",
       "      <td>3.167854</td>\n",
       "      <td>5.293002</td>\n",
       "      <td>3.07222</td>\n",
       "    </tr>\n",
       "    <tr>\n",
       "      <th>std</th>\n",
       "      <td>1.198724</td>\n",
       "      <td>1.068775</td>\n",
       "      <td>0.499512</td>\n",
       "      <td>1.595021</td>\n",
       "      <td>1.321055</td>\n",
       "      <td>1.464749</td>\n",
       "      <td>1.322134</td>\n",
       "      <td>1.529603</td>\n",
       "      <td>1.486731</td>\n",
       "      <td>1.353248</td>\n",
       "      <td>...</td>\n",
       "      <td>0.972008</td>\n",
       "      <td>0.920309</td>\n",
       "      <td>0.986736</td>\n",
       "      <td>0.727137</td>\n",
       "      <td>1.459654</td>\n",
       "      <td>0.973967</td>\n",
       "      <td>1.111598</td>\n",
       "      <td>1.002376</td>\n",
       "      <td>2.303739</td>\n",
       "      <td>1.36298</td>\n",
       "    </tr>\n",
       "    <tr>\n",
       "      <th>min</th>\n",
       "      <td>-1.000000</td>\n",
       "      <td>1.000000</td>\n",
       "      <td>1.000000</td>\n",
       "      <td>1.000000</td>\n",
       "      <td>1.000000</td>\n",
       "      <td>1.000000</td>\n",
       "      <td>1.000000</td>\n",
       "      <td>1.000000</td>\n",
       "      <td>1.000000</td>\n",
       "      <td>1.000000</td>\n",
       "      <td>...</td>\n",
       "      <td>0.000000</td>\n",
       "      <td>0.000000</td>\n",
       "      <td>0.000000</td>\n",
       "      <td>0.000000</td>\n",
       "      <td>1.000000</td>\n",
       "      <td>1.000000</td>\n",
       "      <td>1.000000</td>\n",
       "      <td>1.000000</td>\n",
       "      <td>0.000000</td>\n",
       "      <td>1.00000</td>\n",
       "    </tr>\n",
       "    <tr>\n",
       "      <th>25%</th>\n",
       "      <td>-1.000000</td>\n",
       "      <td>2.000000</td>\n",
       "      <td>1.000000</td>\n",
       "      <td>2.000000</td>\n",
       "      <td>2.000000</td>\n",
       "      <td>1.000000</td>\n",
       "      <td>3.000000</td>\n",
       "      <td>2.000000</td>\n",
       "      <td>2.000000</td>\n",
       "      <td>2.000000</td>\n",
       "      <td>...</td>\n",
       "      <td>1.000000</td>\n",
       "      <td>2.000000</td>\n",
       "      <td>1.000000</td>\n",
       "      <td>0.000000</td>\n",
       "      <td>1.000000</td>\n",
       "      <td>3.000000</td>\n",
       "      <td>3.000000</td>\n",
       "      <td>3.000000</td>\n",
       "      <td>4.000000</td>\n",
       "      <td>2.00000</td>\n",
       "    </tr>\n",
       "    <tr>\n",
       "      <th>50%</th>\n",
       "      <td>-1.000000</td>\n",
       "      <td>3.000000</td>\n",
       "      <td>2.000000</td>\n",
       "      <td>4.000000</td>\n",
       "      <td>3.000000</td>\n",
       "      <td>3.000000</td>\n",
       "      <td>3.000000</td>\n",
       "      <td>3.000000</td>\n",
       "      <td>3.000000</td>\n",
       "      <td>3.000000</td>\n",
       "      <td>...</td>\n",
       "      <td>2.000000</td>\n",
       "      <td>3.000000</td>\n",
       "      <td>2.000000</td>\n",
       "      <td>1.000000</td>\n",
       "      <td>1.000000</td>\n",
       "      <td>4.000000</td>\n",
       "      <td>3.000000</td>\n",
       "      <td>3.000000</td>\n",
       "      <td>5.000000</td>\n",
       "      <td>3.00000</td>\n",
       "    </tr>\n",
       "    <tr>\n",
       "      <th>75%</th>\n",
       "      <td>-1.000000</td>\n",
       "      <td>4.000000</td>\n",
       "      <td>2.000000</td>\n",
       "      <td>5.000000</td>\n",
       "      <td>4.000000</td>\n",
       "      <td>4.000000</td>\n",
       "      <td>5.000000</td>\n",
       "      <td>5.000000</td>\n",
       "      <td>4.000000</td>\n",
       "      <td>4.000000</td>\n",
       "      <td>...</td>\n",
       "      <td>3.000000</td>\n",
       "      <td>3.000000</td>\n",
       "      <td>2.000000</td>\n",
       "      <td>1.000000</td>\n",
       "      <td>3.000000</td>\n",
       "      <td>4.000000</td>\n",
       "      <td>4.000000</td>\n",
       "      <td>4.000000</td>\n",
       "      <td>7.000000</td>\n",
       "      <td>4.00000</td>\n",
       "    </tr>\n",
       "    <tr>\n",
       "      <th>max</th>\n",
       "      <td>3.000000</td>\n",
       "      <td>9.000000</td>\n",
       "      <td>2.000000</td>\n",
       "      <td>6.000000</td>\n",
       "      <td>5.000000</td>\n",
       "      <td>5.000000</td>\n",
       "      <td>5.000000</td>\n",
       "      <td>5.000000</td>\n",
       "      <td>5.000000</td>\n",
       "      <td>5.000000</td>\n",
       "      <td>...</td>\n",
       "      <td>4.000000</td>\n",
       "      <td>4.000000</td>\n",
       "      <td>3.000000</td>\n",
       "      <td>2.000000</td>\n",
       "      <td>5.000000</td>\n",
       "      <td>5.000000</td>\n",
       "      <td>5.000000</td>\n",
       "      <td>9.000000</td>\n",
       "      <td>9.000000</td>\n",
       "      <td>9.00000</td>\n",
       "    </tr>\n",
       "  </tbody>\n",
       "</table>\n",
       "<p>8 rows × 81 columns</p>\n",
       "</div>"
      ],
      "text/plain": [
       "            AGER_TYP  ALTERSKATEGORIE_GROB      ANREDE_KZ  CJT_GESAMTTYP  \\\n",
       "count  891221.000000         891221.000000  891221.000000  886367.000000   \n",
       "mean       -0.358435              2.777398       1.522098       3.632838   \n",
       "std         1.198724              1.068775       0.499512       1.595021   \n",
       "min        -1.000000              1.000000       1.000000       1.000000   \n",
       "25%        -1.000000              2.000000       1.000000       2.000000   \n",
       "50%        -1.000000              3.000000       2.000000       4.000000   \n",
       "75%        -1.000000              4.000000       2.000000       5.000000   \n",
       "max         3.000000              9.000000       2.000000       6.000000   \n",
       "\n",
       "       FINANZ_MINIMALIST  FINANZ_SPARER  FINANZ_VORSORGER  FINANZ_ANLEGER  \\\n",
       "count      891221.000000  891221.000000     891221.000000   891221.000000   \n",
       "mean            3.074528       2.821039          3.401106        3.033328   \n",
       "std             1.321055       1.464749          1.322134        1.529603   \n",
       "min             1.000000       1.000000          1.000000        1.000000   \n",
       "25%             2.000000       1.000000          3.000000        2.000000   \n",
       "50%             3.000000       3.000000          3.000000        3.000000   \n",
       "75%             4.000000       4.000000          5.000000        5.000000   \n",
       "max             5.000000       5.000000          5.000000        5.000000   \n",
       "\n",
       "       FINANZ_UNAUFFAELLIGER  FINANZ_HAUSBAUER      ...          PLZ8_ANTG1  \\\n",
       "count          891221.000000     891221.000000      ...       774706.000000   \n",
       "mean                2.874167          3.075121      ...            2.253330   \n",
       "std                 1.486731          1.353248      ...            0.972008   \n",
       "min                 1.000000          1.000000      ...            0.000000   \n",
       "25%                 2.000000          2.000000      ...            1.000000   \n",
       "50%                 3.000000          3.000000      ...            2.000000   \n",
       "75%                 4.000000          4.000000      ...            3.000000   \n",
       "max                 5.000000          5.000000      ...            4.000000   \n",
       "\n",
       "          PLZ8_ANTG2     PLZ8_ANTG3     PLZ8_ANTG4    PLZ8_BAUMAX  \\\n",
       "count  774706.000000  774706.000000  774706.000000  774706.000000   \n",
       "mean        2.801858       1.595426       0.699166       1.943913   \n",
       "std         0.920309       0.986736       0.727137       1.459654   \n",
       "min         0.000000       0.000000       0.000000       1.000000   \n",
       "25%         2.000000       1.000000       0.000000       1.000000   \n",
       "50%         3.000000       2.000000       1.000000       1.000000   \n",
       "75%         3.000000       2.000000       1.000000       3.000000   \n",
       "max         4.000000       3.000000       2.000000       5.000000   \n",
       "\n",
       "            PLZ8_HHZ       PLZ8_GBZ         ARBEIT    ORTSGR_KLS9  \\\n",
       "count  774706.000000  774706.000000  794005.000000  794005.000000   \n",
       "mean        3.612821       3.381087       3.167854       5.293002   \n",
       "std         0.973967       1.111598       1.002376       2.303739   \n",
       "min         1.000000       1.000000       1.000000       0.000000   \n",
       "25%         3.000000       3.000000       3.000000       4.000000   \n",
       "50%         4.000000       3.000000       3.000000       5.000000   \n",
       "75%         4.000000       4.000000       4.000000       7.000000   \n",
       "max         5.000000       5.000000       9.000000       9.000000   \n",
       "\n",
       "           RELAT_AB  \n",
       "count  794005.00000  \n",
       "mean        3.07222  \n",
       "std         1.36298  \n",
       "min         1.00000  \n",
       "25%         2.00000  \n",
       "50%         3.00000  \n",
       "75%         4.00000  \n",
       "max         9.00000  \n",
       "\n",
       "[8 rows x 81 columns]"
      ]
     },
     "execution_count": 37,
     "metadata": {},
     "output_type": "execute_result"
    }
   ],
   "source": [
    "azdias.describe()"
   ]
  },
  {
   "cell_type": "code",
   "execution_count": 38,
   "metadata": {},
   "outputs": [
    {
     "data": {
      "text/html": [
       "<div>\n",
       "<style scoped>\n",
       "    .dataframe tbody tr th:only-of-type {\n",
       "        vertical-align: middle;\n",
       "    }\n",
       "\n",
       "    .dataframe tbody tr th {\n",
       "        vertical-align: top;\n",
       "    }\n",
       "\n",
       "    .dataframe thead th {\n",
       "        text-align: right;\n",
       "    }\n",
       "</style>\n",
       "<table border=\"1\" class=\"dataframe\">\n",
       "  <thead>\n",
       "    <tr style=\"text-align: right;\">\n",
       "      <th></th>\n",
       "      <th>AGER_TYP</th>\n",
       "      <th>ALTERSKATEGORIE_GROB</th>\n",
       "      <th>ANREDE_KZ</th>\n",
       "      <th>CJT_GESAMTTYP</th>\n",
       "      <th>FINANZ_MINIMALIST</th>\n",
       "      <th>FINANZ_SPARER</th>\n",
       "      <th>FINANZ_VORSORGER</th>\n",
       "      <th>FINANZ_ANLEGER</th>\n",
       "      <th>FINANZ_UNAUFFAELLIGER</th>\n",
       "      <th>FINANZ_HAUSBAUER</th>\n",
       "      <th>...</th>\n",
       "      <th>PLZ8_ANTG1</th>\n",
       "      <th>PLZ8_ANTG2</th>\n",
       "      <th>PLZ8_ANTG3</th>\n",
       "      <th>PLZ8_ANTG4</th>\n",
       "      <th>PLZ8_BAUMAX</th>\n",
       "      <th>PLZ8_HHZ</th>\n",
       "      <th>PLZ8_GBZ</th>\n",
       "      <th>ARBEIT</th>\n",
       "      <th>ORTSGR_KLS9</th>\n",
       "      <th>RELAT_AB</th>\n",
       "    </tr>\n",
       "  </thead>\n",
       "  <tbody>\n",
       "    <tr>\n",
       "      <th>0</th>\n",
       "      <td>-1</td>\n",
       "      <td>2</td>\n",
       "      <td>1</td>\n",
       "      <td>2.0</td>\n",
       "      <td>3</td>\n",
       "      <td>4</td>\n",
       "      <td>3</td>\n",
       "      <td>5</td>\n",
       "      <td>5</td>\n",
       "      <td>3</td>\n",
       "      <td>...</td>\n",
       "      <td>NaN</td>\n",
       "      <td>NaN</td>\n",
       "      <td>NaN</td>\n",
       "      <td>NaN</td>\n",
       "      <td>NaN</td>\n",
       "      <td>NaN</td>\n",
       "      <td>NaN</td>\n",
       "      <td>NaN</td>\n",
       "      <td>NaN</td>\n",
       "      <td>NaN</td>\n",
       "    </tr>\n",
       "    <tr>\n",
       "      <th>1</th>\n",
       "      <td>-1</td>\n",
       "      <td>1</td>\n",
       "      <td>2</td>\n",
       "      <td>5.0</td>\n",
       "      <td>1</td>\n",
       "      <td>5</td>\n",
       "      <td>2</td>\n",
       "      <td>5</td>\n",
       "      <td>4</td>\n",
       "      <td>5</td>\n",
       "      <td>...</td>\n",
       "      <td>2.0</td>\n",
       "      <td>3.0</td>\n",
       "      <td>2.0</td>\n",
       "      <td>1.0</td>\n",
       "      <td>1.0</td>\n",
       "      <td>5.0</td>\n",
       "      <td>4.0</td>\n",
       "      <td>3.0</td>\n",
       "      <td>5.0</td>\n",
       "      <td>4.0</td>\n",
       "    </tr>\n",
       "    <tr>\n",
       "      <th>2</th>\n",
       "      <td>-1</td>\n",
       "      <td>3</td>\n",
       "      <td>2</td>\n",
       "      <td>3.0</td>\n",
       "      <td>1</td>\n",
       "      <td>4</td>\n",
       "      <td>1</td>\n",
       "      <td>2</td>\n",
       "      <td>3</td>\n",
       "      <td>5</td>\n",
       "      <td>...</td>\n",
       "      <td>3.0</td>\n",
       "      <td>3.0</td>\n",
       "      <td>1.0</td>\n",
       "      <td>0.0</td>\n",
       "      <td>1.0</td>\n",
       "      <td>4.0</td>\n",
       "      <td>4.0</td>\n",
       "      <td>3.0</td>\n",
       "      <td>5.0</td>\n",
       "      <td>2.0</td>\n",
       "    </tr>\n",
       "    <tr>\n",
       "      <th>3</th>\n",
       "      <td>2</td>\n",
       "      <td>4</td>\n",
       "      <td>2</td>\n",
       "      <td>2.0</td>\n",
       "      <td>4</td>\n",
       "      <td>2</td>\n",
       "      <td>5</td>\n",
       "      <td>2</td>\n",
       "      <td>1</td>\n",
       "      <td>2</td>\n",
       "      <td>...</td>\n",
       "      <td>2.0</td>\n",
       "      <td>2.0</td>\n",
       "      <td>2.0</td>\n",
       "      <td>0.0</td>\n",
       "      <td>1.0</td>\n",
       "      <td>3.0</td>\n",
       "      <td>4.0</td>\n",
       "      <td>2.0</td>\n",
       "      <td>3.0</td>\n",
       "      <td>3.0</td>\n",
       "    </tr>\n",
       "    <tr>\n",
       "      <th>4</th>\n",
       "      <td>-1</td>\n",
       "      <td>3</td>\n",
       "      <td>1</td>\n",
       "      <td>5.0</td>\n",
       "      <td>4</td>\n",
       "      <td>3</td>\n",
       "      <td>4</td>\n",
       "      <td>1</td>\n",
       "      <td>3</td>\n",
       "      <td>2</td>\n",
       "      <td>...</td>\n",
       "      <td>2.0</td>\n",
       "      <td>4.0</td>\n",
       "      <td>2.0</td>\n",
       "      <td>1.0</td>\n",
       "      <td>2.0</td>\n",
       "      <td>3.0</td>\n",
       "      <td>3.0</td>\n",
       "      <td>4.0</td>\n",
       "      <td>6.0</td>\n",
       "      <td>5.0</td>\n",
       "    </tr>\n",
       "  </tbody>\n",
       "</table>\n",
       "<p>5 rows × 85 columns</p>\n",
       "</div>"
      ],
      "text/plain": [
       "   AGER_TYP  ALTERSKATEGORIE_GROB  ANREDE_KZ  CJT_GESAMTTYP  \\\n",
       "0        -1                     2          1            2.0   \n",
       "1        -1                     1          2            5.0   \n",
       "2        -1                     3          2            3.0   \n",
       "3         2                     4          2            2.0   \n",
       "4        -1                     3          1            5.0   \n",
       "\n",
       "   FINANZ_MINIMALIST  FINANZ_SPARER  FINANZ_VORSORGER  FINANZ_ANLEGER  \\\n",
       "0                  3              4                 3               5   \n",
       "1                  1              5                 2               5   \n",
       "2                  1              4                 1               2   \n",
       "3                  4              2                 5               2   \n",
       "4                  4              3                 4               1   \n",
       "\n",
       "   FINANZ_UNAUFFAELLIGER  FINANZ_HAUSBAUER    ...     PLZ8_ANTG1  PLZ8_ANTG2  \\\n",
       "0                      5                 3    ...            NaN         NaN   \n",
       "1                      4                 5    ...            2.0         3.0   \n",
       "2                      3                 5    ...            3.0         3.0   \n",
       "3                      1                 2    ...            2.0         2.0   \n",
       "4                      3                 2    ...            2.0         4.0   \n",
       "\n",
       "   PLZ8_ANTG3  PLZ8_ANTG4  PLZ8_BAUMAX  PLZ8_HHZ  PLZ8_GBZ  ARBEIT  \\\n",
       "0         NaN         NaN          NaN       NaN       NaN     NaN   \n",
       "1         2.0         1.0          1.0       5.0       4.0     3.0   \n",
       "2         1.0         0.0          1.0       4.0       4.0     3.0   \n",
       "3         2.0         0.0          1.0       3.0       4.0     2.0   \n",
       "4         2.0         1.0          2.0       3.0       3.0     4.0   \n",
       "\n",
       "   ORTSGR_KLS9  RELAT_AB  \n",
       "0          NaN       NaN  \n",
       "1          5.0       4.0  \n",
       "2          5.0       2.0  \n",
       "3          3.0       3.0  \n",
       "4          6.0       5.0  \n",
       "\n",
       "[5 rows x 85 columns]"
      ]
     },
     "execution_count": 38,
     "metadata": {},
     "output_type": "execute_result"
    }
   ],
   "source": [
    "azdias.head()"
   ]
  },
  {
   "cell_type": "code",
   "execution_count": 39,
   "metadata": {},
   "outputs": [
    {
     "name": "stdout",
     "output_type": "stream",
     "text": [
      "<class 'pandas.core.frame.DataFrame'>\n",
      "RangeIndex: 891221 entries, 0 to 891220\n",
      "Data columns (total 85 columns):\n",
      "AGER_TYP                 891221 non-null int64\n",
      "ALTERSKATEGORIE_GROB     891221 non-null int64\n",
      "ANREDE_KZ                891221 non-null int64\n",
      "CJT_GESAMTTYP            886367 non-null float64\n",
      "FINANZ_MINIMALIST        891221 non-null int64\n",
      "FINANZ_SPARER            891221 non-null int64\n",
      "FINANZ_VORSORGER         891221 non-null int64\n",
      "FINANZ_ANLEGER           891221 non-null int64\n",
      "FINANZ_UNAUFFAELLIGER    891221 non-null int64\n",
      "FINANZ_HAUSBAUER         891221 non-null int64\n",
      "FINANZTYP                891221 non-null int64\n",
      "GEBURTSJAHR              891221 non-null int64\n",
      "GFK_URLAUBERTYP          886367 non-null float64\n",
      "GREEN_AVANTGARDE         891221 non-null int64\n",
      "HEALTH_TYP               891221 non-null int64\n",
      "LP_LEBENSPHASE_FEIN      886367 non-null float64\n",
      "LP_LEBENSPHASE_GROB      886367 non-null float64\n",
      "LP_FAMILIE_FEIN          886367 non-null float64\n",
      "LP_FAMILIE_GROB          886367 non-null float64\n",
      "LP_STATUS_FEIN           886367 non-null float64\n",
      "LP_STATUS_GROB           886367 non-null float64\n",
      "NATIONALITAET_KZ         891221 non-null int64\n",
      "PRAEGENDE_JUGENDJAHRE    891221 non-null int64\n",
      "RETOURTYP_BK_S           886367 non-null float64\n",
      "SEMIO_SOZ                891221 non-null int64\n",
      "SEMIO_FAM                891221 non-null int64\n",
      "SEMIO_REL                891221 non-null int64\n",
      "SEMIO_MAT                891221 non-null int64\n",
      "SEMIO_VERT               891221 non-null int64\n",
      "SEMIO_LUST               891221 non-null int64\n",
      "SEMIO_ERL                891221 non-null int64\n",
      "SEMIO_KULT               891221 non-null int64\n",
      "SEMIO_RAT                891221 non-null int64\n",
      "SEMIO_KRIT               891221 non-null int64\n",
      "SEMIO_DOM                891221 non-null int64\n",
      "SEMIO_KAEM               891221 non-null int64\n",
      "SEMIO_PFLICHT            891221 non-null int64\n",
      "SEMIO_TRADV              891221 non-null int64\n",
      "SHOPPER_TYP              891221 non-null int64\n",
      "SOHO_KZ                  817722 non-null float64\n",
      "TITEL_KZ                 817722 non-null float64\n",
      "VERS_TYP                 891221 non-null int64\n",
      "ZABEOTYP                 891221 non-null int64\n",
      "ALTER_HH                 817722 non-null float64\n",
      "ANZ_PERSONEN             817722 non-null float64\n",
      "ANZ_TITEL                817722 non-null float64\n",
      "HH_EINKOMMEN_SCORE       872873 non-null float64\n",
      "KK_KUNDENTYP             306609 non-null float64\n",
      "W_KEIT_KIND_HH           783619 non-null float64\n",
      "WOHNDAUER_2008           817722 non-null float64\n",
      "ANZ_HAUSHALTE_AKTIV      798073 non-null float64\n",
      "ANZ_HH_TITEL             794213 non-null float64\n",
      "GEBAEUDETYP              798073 non-null float64\n",
      "KONSUMNAEHE              817252 non-null float64\n",
      "MIN_GEBAEUDEJAHR         798073 non-null float64\n",
      "OST_WEST_KZ              798073 non-null object\n",
      "WOHNLAGE                 798073 non-null float64\n",
      "CAMEO_DEUG_2015          792242 non-null object\n",
      "CAMEO_DEU_2015           792242 non-null object\n",
      "CAMEO_INTL_2015          792242 non-null object\n",
      "KBA05_ANTG1              757897 non-null float64\n",
      "KBA05_ANTG2              757897 non-null float64\n",
      "KBA05_ANTG3              757897 non-null float64\n",
      "KBA05_ANTG4              757897 non-null float64\n",
      "KBA05_BAUMAX             757897 non-null float64\n",
      "KBA05_GBZ                757897 non-null float64\n",
      "BALLRAUM                 797481 non-null float64\n",
      "EWDICHTE                 797481 non-null float64\n",
      "INNENSTADT               797481 non-null float64\n",
      "GEBAEUDETYP_RASTER       798066 non-null float64\n",
      "KKK                      770025 non-null float64\n",
      "MOBI_REGIO               757897 non-null float64\n",
      "ONLINE_AFFINITAET        886367 non-null float64\n",
      "REGIOTYP                 770025 non-null float64\n",
      "KBA13_ANZAHL_PKW         785421 non-null float64\n",
      "PLZ8_ANTG1               774706 non-null float64\n",
      "PLZ8_ANTG2               774706 non-null float64\n",
      "PLZ8_ANTG3               774706 non-null float64\n",
      "PLZ8_ANTG4               774706 non-null float64\n",
      "PLZ8_BAUMAX              774706 non-null float64\n",
      "PLZ8_HHZ                 774706 non-null float64\n",
      "PLZ8_GBZ                 774706 non-null float64\n",
      "ARBEIT                   794005 non-null float64\n",
      "ORTSGR_KLS9              794005 non-null float64\n",
      "RELAT_AB                 794005 non-null float64\n",
      "dtypes: float64(49), int64(32), object(4)\n",
      "memory usage: 578.0+ MB\n"
     ]
    }
   ],
   "source": [
    "azdias.info()"
   ]
  },
  {
   "cell_type": "code",
   "execution_count": 40,
   "metadata": {},
   "outputs": [
    {
     "data": {
      "text/html": [
       "<div>\n",
       "<style scoped>\n",
       "    .dataframe tbody tr th:only-of-type {\n",
       "        vertical-align: middle;\n",
       "    }\n",
       "\n",
       "    .dataframe tbody tr th {\n",
       "        vertical-align: top;\n",
       "    }\n",
       "\n",
       "    .dataframe thead th {\n",
       "        text-align: right;\n",
       "    }\n",
       "</style>\n",
       "<table border=\"1\" class=\"dataframe\">\n",
       "  <thead>\n",
       "    <tr style=\"text-align: right;\">\n",
       "      <th></th>\n",
       "      <th>attribute</th>\n",
       "      <th>information_level</th>\n",
       "      <th>type</th>\n",
       "      <th>missing_or_unknown</th>\n",
       "    </tr>\n",
       "  </thead>\n",
       "  <tbody>\n",
       "    <tr>\n",
       "      <th>0</th>\n",
       "      <td>AGER_TYP</td>\n",
       "      <td>person</td>\n",
       "      <td>categorical</td>\n",
       "      <td>[-1,0]</td>\n",
       "    </tr>\n",
       "    <tr>\n",
       "      <th>1</th>\n",
       "      <td>ALTERSKATEGORIE_GROB</td>\n",
       "      <td>person</td>\n",
       "      <td>ordinal</td>\n",
       "      <td>[-1,0,9]</td>\n",
       "    </tr>\n",
       "    <tr>\n",
       "      <th>2</th>\n",
       "      <td>ANREDE_KZ</td>\n",
       "      <td>person</td>\n",
       "      <td>categorical</td>\n",
       "      <td>[-1,0]</td>\n",
       "    </tr>\n",
       "    <tr>\n",
       "      <th>3</th>\n",
       "      <td>CJT_GESAMTTYP</td>\n",
       "      <td>person</td>\n",
       "      <td>categorical</td>\n",
       "      <td>[0]</td>\n",
       "    </tr>\n",
       "    <tr>\n",
       "      <th>4</th>\n",
       "      <td>FINANZ_MINIMALIST</td>\n",
       "      <td>person</td>\n",
       "      <td>ordinal</td>\n",
       "      <td>[-1]</td>\n",
       "    </tr>\n",
       "  </tbody>\n",
       "</table>\n",
       "</div>"
      ],
      "text/plain": [
       "              attribute information_level         type missing_or_unknown\n",
       "0              AGER_TYP            person  categorical             [-1,0]\n",
       "1  ALTERSKATEGORIE_GROB            person      ordinal           [-1,0,9]\n",
       "2             ANREDE_KZ            person  categorical             [-1,0]\n",
       "3         CJT_GESAMTTYP            person  categorical                [0]\n",
       "4     FINANZ_MINIMALIST            person      ordinal               [-1]"
      ]
     },
     "execution_count": 40,
     "metadata": {},
     "output_type": "execute_result"
    }
   ],
   "source": [
    "feat_info.head()"
   ]
  },
  {
   "cell_type": "markdown",
   "metadata": {},
   "source": [
    "> **Tip**: Add additional cells to keep everything in reasonably-sized chunks! Keyboard shortcut `esc --> a` (press escape to enter command mode, then press the 'A' key) adds a new cell before the active cell, and `esc --> b` adds a new cell after the active cell. If you need to convert an active cell to a markdown cell, use `esc --> m` and to convert to a code cell, use `esc --> y`. \n",
    "\n",
    "## Step 1: Preprocessing\n",
    "\n",
    "### Step 1.1: Assess Missing Data\n",
    "\n",
    "The feature summary file contains a summary of properties for each demographics data column. You will use this file to help you make cleaning decisions during this stage of the project. First of all, you should assess the demographics data in terms of missing data. Pay attention to the following points as you perform your analysis, and take notes on what you observe. Make sure that you fill in the **Discussion** cell with your findings and decisions at the end of each step that has one!\n",
    "\n",
    "#### Step 1.1.1: Convert Missing Value Codes to NaNs\n",
    "The fourth column of the feature attributes summary (loaded in above as `feat_info`) documents the codes from the data dictionary that indicate missing or unknown data. While the file encodes this as a list (e.g. `[-1,0]`), this will get read in as a string object. You'll need to do a little bit of parsing to make use of it to identify and clean the data. Convert data that matches a 'missing' or 'unknown' value code into a numpy NaN value. You might want to see how much data takes on a 'missing' or 'unknown' code, and how much data is naturally missing, as a point of interest.\n",
    "\n",
    "**As one more reminder, you are encouraged to add additional cells to break up your analysis into manageable chunks.**"
   ]
  },
  {
   "cell_type": "code",
   "execution_count": 41,
   "metadata": {},
   "outputs": [
    {
     "data": {
      "text/plain": [
       "KK_KUNDENTYP    0.655967\n",
       "KBA05_ANTG1     0.149597\n",
       "KBA05_ANTG2     0.149597\n",
       "KBA05_ANTG3     0.149597\n",
       "KBA05_ANTG4     0.149597\n",
       "dtype: float64"
      ]
     },
     "execution_count": 41,
     "metadata": {},
     "output_type": "execute_result"
    }
   ],
   "source": [
    "# Identify missing or unknown data values and convert them to NaNs.\n",
    "azdias.isnull().mean().sort_values(ascending=False).head()"
   ]
  },
  {
   "cell_type": "code",
   "execution_count": 42,
   "metadata": {},
   "outputs": [
    {
     "name": "stdout",
     "output_type": "stream",
     "text": [
      "6.46% of the data is null before preprocessing\n"
     ]
    }
   ],
   "source": [
    "total_cells = np.product(azdias.shape)\n",
    "null_cells = azdias.isnull().sum().sum()\n",
    "percent_null = round(azdias.isnull().sum().sum() / np.product(azdias.shape) * 100, 2)\n",
    "print(f'{percent_null}% of the data is null before preprocessing')"
   ]
  },
  {
   "cell_type": "markdown",
   "metadata": {},
   "source": [
    "From this analysis, we see that the column KK_KUNDENTYP has 65% data missing, and that 6.46% of the data is missing over the whole data set. Now let's take a look at how else missing data is represented in the data set. In the feat_info data frame, the fourth column represents the missing or unknown data identifier used for each specific column in the azdias data set. Take a look at the following example:"
   ]
  },
  {
   "cell_type": "code",
   "execution_count": 43,
   "metadata": {},
   "outputs": [
    {
     "data": {
      "text/html": [
       "<div>\n",
       "<style scoped>\n",
       "    .dataframe tbody tr th:only-of-type {\n",
       "        vertical-align: middle;\n",
       "    }\n",
       "\n",
       "    .dataframe tbody tr th {\n",
       "        vertical-align: top;\n",
       "    }\n",
       "\n",
       "    .dataframe thead th {\n",
       "        text-align: right;\n",
       "    }\n",
       "</style>\n",
       "<table border=\"1\" class=\"dataframe\">\n",
       "  <thead>\n",
       "    <tr style=\"text-align: right;\">\n",
       "      <th></th>\n",
       "      <th>attribute</th>\n",
       "      <th>information_level</th>\n",
       "      <th>type</th>\n",
       "      <th>missing_or_unknown</th>\n",
       "    </tr>\n",
       "  </thead>\n",
       "  <tbody>\n",
       "    <tr>\n",
       "      <th>0</th>\n",
       "      <td>AGER_TYP</td>\n",
       "      <td>person</td>\n",
       "      <td>categorical</td>\n",
       "      <td>[-1,0]</td>\n",
       "    </tr>\n",
       "    <tr>\n",
       "      <th>1</th>\n",
       "      <td>ALTERSKATEGORIE_GROB</td>\n",
       "      <td>person</td>\n",
       "      <td>ordinal</td>\n",
       "      <td>[-1,0,9]</td>\n",
       "    </tr>\n",
       "    <tr>\n",
       "      <th>2</th>\n",
       "      <td>ANREDE_KZ</td>\n",
       "      <td>person</td>\n",
       "      <td>categorical</td>\n",
       "      <td>[-1,0]</td>\n",
       "    </tr>\n",
       "    <tr>\n",
       "      <th>3</th>\n",
       "      <td>CJT_GESAMTTYP</td>\n",
       "      <td>person</td>\n",
       "      <td>categorical</td>\n",
       "      <td>[0]</td>\n",
       "    </tr>\n",
       "    <tr>\n",
       "      <th>4</th>\n",
       "      <td>FINANZ_MINIMALIST</td>\n",
       "      <td>person</td>\n",
       "      <td>ordinal</td>\n",
       "      <td>[-1]</td>\n",
       "    </tr>\n",
       "  </tbody>\n",
       "</table>\n",
       "</div>"
      ],
      "text/plain": [
       "              attribute information_level         type missing_or_unknown\n",
       "0              AGER_TYP            person  categorical             [-1,0]\n",
       "1  ALTERSKATEGORIE_GROB            person      ordinal           [-1,0,9]\n",
       "2             ANREDE_KZ            person  categorical             [-1,0]\n",
       "3         CJT_GESAMTTYP            person  categorical                [0]\n",
       "4     FINANZ_MINIMALIST            person      ordinal               [-1]"
      ]
     },
     "execution_count": 43,
     "metadata": {},
     "output_type": "execute_result"
    }
   ],
   "source": [
    "feat_info.head()"
   ]
  },
  {
   "cell_type": "code",
   "execution_count": 44,
   "metadata": {},
   "outputs": [],
   "source": [
    "#method to help converting strings to integers, strings, or None\n",
    "def make_int(x):\n",
    "    if len(x) == 0:\n",
    "        return None \n",
    "    try:\n",
    "        int(x)\n",
    "        return int(x)\n",
    "    except:\n",
    "        return(x)"
   ]
  },
  {
   "cell_type": "code",
   "execution_count": 45,
   "metadata": {},
   "outputs": [
    {
     "name": "stdout",
     "output_type": "stream",
     "text": [
      "column number 0: AGER_TYP has 0 missing before preprocessing, and [-1, 0] will be converted to nans\n",
      "column AGER_TYP has 685843 missing after preprocessing\n",
      "column number 1: ALTERSKATEGORIE_GROB has 0 missing before preprocessing, and [-1, 0, 9] will be converted to nans\n",
      "column ALTERSKATEGORIE_GROB has 2881 missing after preprocessing\n",
      "column number 2: ANREDE_KZ has 0 missing before preprocessing, and [-1, 0] will be converted to nans\n",
      "column ANREDE_KZ has 0 missing after preprocessing\n",
      "column number 3: CJT_GESAMTTYP has 4854 missing before preprocessing, and [0] will be converted to nans\n",
      "column CJT_GESAMTTYP has 4854 missing after preprocessing\n",
      "column number 4: FINANZ_MINIMALIST has 0 missing before preprocessing, and [-1] will be converted to nans\n",
      "column FINANZ_MINIMALIST has 0 missing after preprocessing\n",
      "column number 5: FINANZ_SPARER has 0 missing before preprocessing, and [-1] will be converted to nans\n",
      "column FINANZ_SPARER has 0 missing after preprocessing\n",
      "column number 6: FINANZ_VORSORGER has 0 missing before preprocessing, and [-1] will be converted to nans\n",
      "column FINANZ_VORSORGER has 0 missing after preprocessing\n",
      "column number 7: FINANZ_ANLEGER has 0 missing before preprocessing, and [-1] will be converted to nans\n",
      "column FINANZ_ANLEGER has 0 missing after preprocessing\n",
      "column number 8: FINANZ_UNAUFFAELLIGER has 0 missing before preprocessing, and [-1] will be converted to nans\n",
      "column FINANZ_UNAUFFAELLIGER has 0 missing after preprocessing\n",
      "column number 9: FINANZ_HAUSBAUER has 0 missing before preprocessing, and [-1] will be converted to nans\n",
      "column FINANZ_HAUSBAUER has 0 missing after preprocessing\n",
      "column number 10: FINANZTYP has 0 missing before preprocessing, and [-1] will be converted to nans\n",
      "column FINANZTYP has 0 missing after preprocessing\n",
      "column number 11: GEBURTSJAHR has 0 missing before preprocessing, and [0] will be converted to nans\n",
      "column GEBURTSJAHR has 392318 missing after preprocessing\n",
      "column number 12: GFK_URLAUBERTYP has 4854 missing before preprocessing, and [None] will be converted to nans\n",
      "column GFK_URLAUBERTYP has 4854 missing after preprocessing\n",
      "column number 13: GREEN_AVANTGARDE has 0 missing before preprocessing, and [None] will be converted to nans\n",
      "column GREEN_AVANTGARDE has 0 missing after preprocessing\n",
      "column number 14: HEALTH_TYP has 0 missing before preprocessing, and [-1, 0] will be converted to nans\n",
      "column HEALTH_TYP has 111196 missing after preprocessing\n",
      "column number 15: LP_LEBENSPHASE_FEIN has 4854 missing before preprocessing, and [0] will be converted to nans\n",
      "column LP_LEBENSPHASE_FEIN has 97632 missing after preprocessing\n",
      "column number 16: LP_LEBENSPHASE_GROB has 4854 missing before preprocessing, and [0] will be converted to nans\n",
      "column LP_LEBENSPHASE_GROB has 94572 missing after preprocessing\n",
      "column number 17: LP_FAMILIE_FEIN has 4854 missing before preprocessing, and [0] will be converted to nans\n",
      "column LP_FAMILIE_FEIN has 77792 missing after preprocessing\n",
      "column number 18: LP_FAMILIE_GROB has 4854 missing before preprocessing, and [0] will be converted to nans\n",
      "column LP_FAMILIE_GROB has 77792 missing after preprocessing\n",
      "column number 19: LP_STATUS_FEIN has 4854 missing before preprocessing, and [0] will be converted to nans\n",
      "column LP_STATUS_FEIN has 4854 missing after preprocessing\n",
      "column number 20: LP_STATUS_GROB has 4854 missing before preprocessing, and [0] will be converted to nans\n",
      "column LP_STATUS_GROB has 4854 missing after preprocessing\n",
      "column number 21: NATIONALITAET_KZ has 0 missing before preprocessing, and [-1, 0] will be converted to nans\n",
      "column NATIONALITAET_KZ has 108315 missing after preprocessing\n",
      "column number 22: PRAEGENDE_JUGENDJAHRE has 0 missing before preprocessing, and [-1, 0] will be converted to nans\n",
      "column PRAEGENDE_JUGENDJAHRE has 108164 missing after preprocessing\n",
      "column number 23: RETOURTYP_BK_S has 4854 missing before preprocessing, and [0] will be converted to nans\n",
      "column RETOURTYP_BK_S has 4854 missing after preprocessing\n",
      "column number 24: SEMIO_SOZ has 0 missing before preprocessing, and [-1, 9] will be converted to nans\n",
      "column SEMIO_SOZ has 0 missing after preprocessing\n",
      "column number 25: SEMIO_FAM has 0 missing before preprocessing, and [-1, 9] will be converted to nans\n",
      "column SEMIO_FAM has 0 missing after preprocessing\n",
      "column number 26: SEMIO_REL has 0 missing before preprocessing, and [-1, 9] will be converted to nans\n",
      "column SEMIO_REL has 0 missing after preprocessing\n",
      "column number 27: SEMIO_MAT has 0 missing before preprocessing, and [-1, 9] will be converted to nans\n",
      "column SEMIO_MAT has 0 missing after preprocessing\n",
      "column number 28: SEMIO_VERT has 0 missing before preprocessing, and [-1, 9] will be converted to nans\n",
      "column SEMIO_VERT has 0 missing after preprocessing\n",
      "column number 29: SEMIO_LUST has 0 missing before preprocessing, and [-1, 9] will be converted to nans\n",
      "column SEMIO_LUST has 0 missing after preprocessing\n",
      "column number 30: SEMIO_ERL has 0 missing before preprocessing, and [-1, 9] will be converted to nans\n",
      "column SEMIO_ERL has 0 missing after preprocessing\n",
      "column number 31: SEMIO_KULT has 0 missing before preprocessing, and [-1, 9] will be converted to nans\n",
      "column SEMIO_KULT has 0 missing after preprocessing\n",
      "column number 32: SEMIO_RAT has 0 missing before preprocessing, and [-1, 9] will be converted to nans\n",
      "column SEMIO_RAT has 0 missing after preprocessing\n",
      "column number 33: SEMIO_KRIT has 0 missing before preprocessing, and [-1, 9] will be converted to nans\n",
      "column SEMIO_KRIT has 0 missing after preprocessing\n",
      "column number 34: SEMIO_DOM has 0 missing before preprocessing, and [-1, 9] will be converted to nans\n",
      "column SEMIO_DOM has 0 missing after preprocessing\n",
      "column number 35: SEMIO_KAEM has 0 missing before preprocessing, and [-1, 9] will be converted to nans\n",
      "column SEMIO_KAEM has 0 missing after preprocessing\n",
      "column number 36: SEMIO_PFLICHT has 0 missing before preprocessing, and [-1, 9] will be converted to nans\n",
      "column SEMIO_PFLICHT has 0 missing after preprocessing\n",
      "column number 37: SEMIO_TRADV has 0 missing before preprocessing, and [-1, 9] will be converted to nans\n",
      "column SEMIO_TRADV has 0 missing after preprocessing\n",
      "column number 38: SHOPPER_TYP has 0 missing before preprocessing, and [-1] will be converted to nans\n",
      "column SHOPPER_TYP has 111196 missing after preprocessing\n",
      "column number 39: SOHO_KZ has 73499 missing before preprocessing, and [-1] will be converted to nans\n",
      "column SOHO_KZ has 73499 missing after preprocessing\n",
      "column number 40: TITEL_KZ has 73499 missing before preprocessing, and [-1, 0] will be converted to nans\n",
      "column TITEL_KZ has 889061 missing after preprocessing\n",
      "column number 41: VERS_TYP has 0 missing before preprocessing, and [-1] will be converted to nans\n",
      "column VERS_TYP has 111196 missing after preprocessing\n",
      "column number 42: ZABEOTYP has 0 missing before preprocessing, and [-1, 9] will be converted to nans\n",
      "column ZABEOTYP has 0 missing after preprocessing\n",
      "column number 43: ALTER_HH has 73499 missing before preprocessing, and [0] will be converted to nans\n",
      "column ALTER_HH has 310267 missing after preprocessing\n",
      "column number 44: ANZ_PERSONEN has 73499 missing before preprocessing, and [None] will be converted to nans\n",
      "column ANZ_PERSONEN has 73499 missing after preprocessing\n",
      "column number 45: ANZ_TITEL has 73499 missing before preprocessing, and [None] will be converted to nans\n",
      "column ANZ_TITEL has 73499 missing after preprocessing\n",
      "column number 46: HH_EINKOMMEN_SCORE has 18348 missing before preprocessing, and [-1, 0] will be converted to nans\n",
      "column HH_EINKOMMEN_SCORE has 18348 missing after preprocessing\n",
      "column number 47: KK_KUNDENTYP has 584612 missing before preprocessing, and [-1] will be converted to nans\n",
      "column KK_KUNDENTYP has 584612 missing after preprocessing\n",
      "column number 48: W_KEIT_KIND_HH has 107602 missing before preprocessing, and [-1, 0] will be converted to nans\n",
      "column W_KEIT_KIND_HH has 147988 missing after preprocessing\n",
      "column number 49: WOHNDAUER_2008 has 73499 missing before preprocessing, and [-1, 0] will be converted to nans\n",
      "column WOHNDAUER_2008 has 73499 missing after preprocessing\n",
      "column number 50: ANZ_HAUSHALTE_AKTIV has 93148 missing before preprocessing, and [0] will be converted to nans\n",
      "column ANZ_HAUSHALTE_AKTIV has 99611 missing after preprocessing\n",
      "column number 51: ANZ_HH_TITEL has 97008 missing before preprocessing, and [None] will be converted to nans\n",
      "column ANZ_HH_TITEL has 97008 missing after preprocessing\n",
      "column number 52: GEBAEUDETYP has 93148 missing before preprocessing, and [-1, 0] will be converted to nans\n",
      "column GEBAEUDETYP has 93148 missing after preprocessing\n",
      "column number 53: KONSUMNAEHE has 73969 missing before preprocessing, and [None] will be converted to nans\n",
      "column KONSUMNAEHE has 73969 missing after preprocessing\n",
      "column number 54: MIN_GEBAEUDEJAHR has 93148 missing before preprocessing, and [0] will be converted to nans\n",
      "column MIN_GEBAEUDEJAHR has 93148 missing after preprocessing\n",
      "column number 55: OST_WEST_KZ has 93148 missing before preprocessing, and [-1] will be converted to nans\n",
      "column OST_WEST_KZ has 93148 missing after preprocessing\n",
      "column number 56: WOHNLAGE has 93148 missing before preprocessing, and [-1] will be converted to nans\n",
      "column WOHNLAGE has 93148 missing after preprocessing\n",
      "column number 57: CAMEO_DEUG_2015 has 98979 missing before preprocessing, and [-1, 'X'] will be converted to nans\n",
      "column CAMEO_DEUG_2015 has 99352 missing after preprocessing\n",
      "column number 58: CAMEO_DEU_2015 has 98979 missing before preprocessing, and ['XX'] will be converted to nans\n",
      "column CAMEO_DEU_2015 has 99352 missing after preprocessing\n",
      "column number 59: CAMEO_INTL_2015 has 98979 missing before preprocessing, and [-1, 'XX'] will be converted to nans\n",
      "column CAMEO_INTL_2015 has 99352 missing after preprocessing\n",
      "column number 60: KBA05_ANTG1 has 133324 missing before preprocessing, and [-1] will be converted to nans\n",
      "column KBA05_ANTG1 has 133324 missing after preprocessing\n",
      "column number 61: KBA05_ANTG2 has 133324 missing before preprocessing, and [-1] will be converted to nans\n",
      "column KBA05_ANTG2 has 133324 missing after preprocessing\n",
      "column number 62: KBA05_ANTG3 has 133324 missing before preprocessing, and [-1] will be converted to nans\n",
      "column KBA05_ANTG3 has 133324 missing after preprocessing\n",
      "column number 63: KBA05_ANTG4 has 133324 missing before preprocessing, and [-1] will be converted to nans\n",
      "column KBA05_ANTG4 has 133324 missing after preprocessing\n",
      "column number 64: KBA05_BAUMAX has 133324 missing before preprocessing, and [-1, 0] will be converted to nans\n",
      "column KBA05_BAUMAX has 476524 missing after preprocessing\n",
      "column number 65: KBA05_GBZ has 133324 missing before preprocessing, and [-1, 0] will be converted to nans\n",
      "column KBA05_GBZ has 133324 missing after preprocessing\n",
      "column number 66: BALLRAUM has 93740 missing before preprocessing, and [-1] will be converted to nans\n",
      "column BALLRAUM has 93740 missing after preprocessing\n",
      "column number 67: EWDICHTE has 93740 missing before preprocessing, and [-1] will be converted to nans\n",
      "column EWDICHTE has 93740 missing after preprocessing\n",
      "column number 68: INNENSTADT has 93740 missing before preprocessing, and [-1] will be converted to nans\n",
      "column INNENSTADT has 93740 missing after preprocessing\n",
      "column number 69: GEBAEUDETYP_RASTER has 93155 missing before preprocessing, and [None] will be converted to nans\n",
      "column GEBAEUDETYP_RASTER has 93155 missing after preprocessing\n",
      "column number 70: KKK has 121196 missing before preprocessing, and [-1, 0] will be converted to nans\n",
      "column KKK has 158064 missing after preprocessing\n",
      "column number 71: MOBI_REGIO has 133324 missing before preprocessing, and [None] will be converted to nans\n",
      "column MOBI_REGIO has 133324 missing after preprocessing\n",
      "column number 72: ONLINE_AFFINITAET has 4854 missing before preprocessing, and [None] will be converted to nans\n",
      "column ONLINE_AFFINITAET has 4854 missing after preprocessing\n",
      "column number 73: REGIOTYP has 121196 missing before preprocessing, and [-1, 0] will be converted to nans\n",
      "column REGIOTYP has 158064 missing after preprocessing\n",
      "column number 74: KBA13_ANZAHL_PKW has 105800 missing before preprocessing, and [None] will be converted to nans\n",
      "column KBA13_ANZAHL_PKW has 105800 missing after preprocessing\n",
      "column number 75: PLZ8_ANTG1 has 116515 missing before preprocessing, and [-1] will be converted to nans\n",
      "column PLZ8_ANTG1 has 116515 missing after preprocessing\n",
      "column number 76: PLZ8_ANTG2 has 116515 missing before preprocessing, and [-1] will be converted to nans\n",
      "column PLZ8_ANTG2 has 116515 missing after preprocessing\n",
      "column number 77: PLZ8_ANTG3 has 116515 missing before preprocessing, and [-1] will be converted to nans\n",
      "column PLZ8_ANTG3 has 116515 missing after preprocessing\n",
      "column number 78: PLZ8_ANTG4 has 116515 missing before preprocessing, and [-1] will be converted to nans\n",
      "column PLZ8_ANTG4 has 116515 missing after preprocessing\n",
      "column number 79: PLZ8_BAUMAX has 116515 missing before preprocessing, and [-1, 0] will be converted to nans\n",
      "column PLZ8_BAUMAX has 116515 missing after preprocessing\n",
      "column number 80: PLZ8_HHZ has 116515 missing before preprocessing, and [-1] will be converted to nans\n",
      "column PLZ8_HHZ has 116515 missing after preprocessing\n",
      "column number 81: PLZ8_GBZ has 116515 missing before preprocessing, and [-1] will be converted to nans\n",
      "column PLZ8_GBZ has 116515 missing after preprocessing\n",
      "column number 82: ARBEIT has 97216 missing before preprocessing, and [-1, 9] will be converted to nans\n",
      "column ARBEIT has 97375 missing after preprocessing\n",
      "column number 83: ORTSGR_KLS9 has 97216 missing before preprocessing, and [-1, 0] will be converted to nans\n",
      "column ORTSGR_KLS9 has 97274 missing after preprocessing\n",
      "column number 84: RELAT_AB has 97216 missing before preprocessing, and [-1, 9] will be converted to nans\n",
      "column RELAT_AB has 97375 missing after preprocessing\n"
     ]
    }
   ],
   "source": [
    "nans = [np.nan, np.nan, np.nan, np.nan]\n",
    "for i in range(azdias.shape[1]):\n",
    "    nan_list = feat_info['missing_or_unknown'][i][1:-1]\n",
    "    nan_list = nan_list.split(',')\n",
    "    nan_list = [make_int(x) for x in nan_list]\n",
    "    nan_dict = dict(zip(nan_list, nans))\n",
    "    column_name = azdias.columns[i]\n",
    "    print(f'column number {i}: {azdias.columns[i]} has {azdias.iloc[:,i].isnull().sum()} missing before preprocessing, and {nan_list} will be converted to nans')\n",
    "    azdias[column_name].replace(inplace=True, to_replace=nan_dict)\n",
    "    print(f'column {azdias.columns[i]} has {azdias.iloc[:,i].isnull().sum()} missing after preprocessing')"
   ]
  },
  {
   "cell_type": "markdown",
   "metadata": {},
   "source": [
    "#### Step 1.1.2: Assess Missing Data in Each Column\n",
    "\n",
    "How much missing data is present in each column? There are a few columns that are outliers in terms of the proportion of values that are missing. You will want to use matplotlib's [`hist()`](https://matplotlib.org/api/_as_gen/matplotlib.pyplot.hist.html) function to visualize the distribution of missing value counts to find these columns. Identify and document these columns. While some of these columns might have justifications for keeping or re-encoding the data, for this project you should just remove them from the dataframe. (Feel free to make remarks about these outlier columns in the discussion, however!)\n",
    "\n",
    "For the remaining features, are there any patterns in which columns have, or share, missing data?"
   ]
  },
  {
   "cell_type": "code",
   "execution_count": 46,
   "metadata": {},
   "outputs": [
    {
     "name": "stdout",
     "output_type": "stream",
     "text": [
      "11.05% of the data is null after preprocessing\n"
     ]
    }
   ],
   "source": [
    "# Perform an assessment of how much missing data there is in each column of the\n",
    "# dataset.\n",
    "total_cells = np.product(azdias.shape)\n",
    "null_cells = azdias.isnull().sum().sum()\n",
    "percent_null = round(azdias.isnull().sum().sum() / np.product(azdias.shape) * 100, 2)\n",
    "print(f'{percent_null}% of the data is null after preprocessing')"
   ]
  },
  {
   "cell_type": "code",
   "execution_count": 47,
   "metadata": {},
   "outputs": [
    {
     "data": {
      "text/plain": [
       "TITEL_KZ                 0.997576\n",
       "AGER_TYP                 0.769554\n",
       "KK_KUNDENTYP             0.655967\n",
       "KBA05_BAUMAX             0.534687\n",
       "GEBURTSJAHR              0.440203\n",
       "ALTER_HH                 0.348137\n",
       "REGIOTYP                 0.177357\n",
       "KKK                      0.177357\n",
       "W_KEIT_KIND_HH           0.166051\n",
       "KBA05_ANTG4              0.149597\n",
       "KBA05_GBZ                0.149597\n",
       "MOBI_REGIO               0.149597\n",
       "KBA05_ANTG1              0.149597\n",
       "KBA05_ANTG2              0.149597\n",
       "KBA05_ANTG3              0.149597\n",
       "PLZ8_GBZ                 0.130736\n",
       "PLZ8_HHZ                 0.130736\n",
       "PLZ8_BAUMAX              0.130736\n",
       "PLZ8_ANTG4               0.130736\n",
       "PLZ8_ANTG1               0.130736\n",
       "PLZ8_ANTG3               0.130736\n",
       "PLZ8_ANTG2               0.130736\n",
       "SHOPPER_TYP              0.124768\n",
       "VERS_TYP                 0.124768\n",
       "HEALTH_TYP               0.124768\n",
       "NATIONALITAET_KZ         0.121536\n",
       "PRAEGENDE_JUGENDJAHRE    0.121366\n",
       "KBA13_ANZAHL_PKW         0.118714\n",
       "ANZ_HAUSHALTE_AKTIV      0.111769\n",
       "CAMEO_INTL_2015          0.111479\n",
       "                           ...   \n",
       "RETOURTYP_BK_S           0.005446\n",
       "ONLINE_AFFINITAET        0.005446\n",
       "LP_STATUS_FEIN           0.005446\n",
       "LP_STATUS_GROB           0.005446\n",
       "GFK_URLAUBERTYP          0.005446\n",
       "ALTERSKATEGORIE_GROB     0.003233\n",
       "FINANZTYP                0.000000\n",
       "GREEN_AVANTGARDE         0.000000\n",
       "FINANZ_HAUSBAUER         0.000000\n",
       "FINANZ_UNAUFFAELLIGER    0.000000\n",
       "FINANZ_ANLEGER           0.000000\n",
       "FINANZ_SPARER            0.000000\n",
       "FINANZ_MINIMALIST        0.000000\n",
       "ANREDE_KZ                0.000000\n",
       "FINANZ_VORSORGER         0.000000\n",
       "SEMIO_FAM                0.000000\n",
       "SEMIO_SOZ                0.000000\n",
       "SEMIO_REL                0.000000\n",
       "SEMIO_MAT                0.000000\n",
       "SEMIO_VERT               0.000000\n",
       "SEMIO_LUST               0.000000\n",
       "SEMIO_ERL                0.000000\n",
       "SEMIO_KULT               0.000000\n",
       "SEMIO_RAT                0.000000\n",
       "SEMIO_KRIT               0.000000\n",
       "SEMIO_DOM                0.000000\n",
       "SEMIO_KAEM               0.000000\n",
       "SEMIO_PFLICHT            0.000000\n",
       "SEMIO_TRADV              0.000000\n",
       "ZABEOTYP                 0.000000\n",
       "Length: 85, dtype: float64"
      ]
     },
     "execution_count": 47,
     "metadata": {},
     "output_type": "execute_result"
    }
   ],
   "source": [
    "# Investigate patterns in the amount of missing data in each column.\n",
    "percent_missing = (azdias.isnull().mean()).sort_values(ascending=False)\n",
    "percent_missing"
   ]
  },
  {
   "cell_type": "markdown",
   "metadata": {},
   "source": [
    "From the result above, we see that some columns have a large percentage of data missing. Since we want to remove outliers, let's explore with a histogram the distribution of percentages:"
   ]
  },
  {
   "cell_type": "code",
   "execution_count": 48,
   "metadata": {},
   "outputs": [
    {
     "data": {
      "image/png": "[encoded data removed]",
      "text/plain": [
       "<matplotlib.figure.Figure at 0x7f117ef81828>"
      ]
     },
     "metadata": {
      "needs_background": "light"
     },
     "output_type": "display_data"
    }
   ],
   "source": [
    "a = plt.hist(percent_missing)"
   ]
  },
  {
   "cell_type": "markdown",
   "metadata": {},
   "source": [
    "We see that of columns with data missing, most of the columns have less than .2 (20%) missing. So let's make 20% the cutoff and remove all columns with a greater percentage of data missing. Let's look at which columns we will drop:"
   ]
  },
  {
   "cell_type": "code",
   "execution_count": 49,
   "metadata": {},
   "outputs": [
    {
     "data": {
      "text/plain": [
       "TITEL_KZ        0.997576\n",
       "AGER_TYP        0.769554\n",
       "KK_KUNDENTYP    0.655967\n",
       "KBA05_BAUMAX    0.534687\n",
       "GEBURTSJAHR     0.440203\n",
       "ALTER_HH        0.348137\n",
       "dtype: float64"
      ]
     },
     "execution_count": 49,
     "metadata": {},
     "output_type": "execute_result"
    }
   ],
   "source": [
    "# Remove the outlier columns from the dataset. (You'll perform other data\n",
    "# engineering tasks such as re-encoding and imputation later.)\n",
    "remove_columns = percent_missing[percent_missing>0.2]\n",
    "remove_columns"
   ]
  },
  {
   "cell_type": "markdown",
   "metadata": {},
   "source": [
    "#### Discussion 1.1.2: Assess Missing Data\n",
    "\n",
    "So far, we have identified the columns with the most missing data. We decided to make the cutoff of 20% data, so columns with more than 20% missing will be dropped.\n",
    "\n",
    "#### Missing data patterns\n",
    "\n",
    "We see that the columns without any missing data relate to person / personality traits. The data with 10% - 20% missing is shows a certain pattern since the missing percentages are clustered. The clustered percentages are data fields that relate to region and housing. It is possible that this dataset was enriched by the regional / housing data, each of which was missing some of the people in our azdias dataset. These regional / housing columns represent most of the columns between 10% and 20%. However, there is also a column about likelihood to have children in the household, and at the low end, a few columns that reflect personal traits.\n",
    "\n",
    "#### Columns that will be dropped\n",
    "\n",
    "So we are dropping a total of six columns. Before we do that, let's take a look at what those columns represent. Looking at the informational file that came with the data set, we see that:\n",
    "\n",
    "TITEL_KZ is a designation of academic title\n",
    "\n",
    "AGER_TYP designates the type of ager, with the following classifications:\n",
    "    Best-ager typology\n",
    "- -1: unknown\n",
    "-  0: no classification possible\n",
    "-  1: passive elderly\n",
    "-  2: cultural elderly\n",
    "-  3: experience-driven elderly\n",
    "\n",
    "KK_KUNDENTYP is a categorization of consumer habits. Consumer pattern over past 12 months\n",
    "- -1: unknown\n",
    "-  1: regular customer\n",
    "-  2: active customer\n",
    "-  3: new costumer\n",
    "-  4: stray customer\n",
    "-  5: inactive customer\n",
    "-  6: passive customer\n",
    "\n",
    "KBA05_BAUMAX refers to the most common building type in the neighborhood (how many families per home)\n",
    "\n",
    "GEBURTSJAHR gives the birth year. Because there are other features that estimate age (ALTERSKATEGORIE_GROB for example), this one adds little extra information.\n",
    "\n",
    "ALTER_HH gives the birthdate for the head of the household\n",
    "\n",
    "With the exception of KBA05_BAUMAX, these columns mostly refer to personal data. While these columns do contain data relevant to the purposes of this project, there is not enough data to make them useful right now, so we will drop them.\n"
   ]
  },
  {
   "cell_type": "code",
   "execution_count": 50,
   "metadata": {},
   "outputs": [
    {
     "data": {
      "text/plain": [
       "(891221, 79)"
      ]
     },
     "execution_count": 50,
     "metadata": {},
     "output_type": "execute_result"
    }
   ],
   "source": [
    "azdias = azdias.drop(labels=remove_columns.keys(), axis=1)\n",
    "azdias.shape"
   ]
  },
  {
   "cell_type": "markdown",
   "metadata": {},
   "source": [
    "#### Step 1.1.3: Assess Missing Data in Each Row\n",
    "\n",
    "Now, you'll perform a similar assessment for the rows of the dataset. How much data is missing in each row? As with the columns, you should see some groups of points that have a very different numbers of missing values. Divide the data into two subsets: one for data points that are above some threshold for missing values, and a second subset for points below that threshold.\n",
    "\n",
    "In order to know what to do with the outlier rows, we should see if the distribution of data values on columns that are not missing data (or are missing very little data) are similar or different between the two groups. Select at least five of these columns and compare the distribution of values.\n",
    "- You can use seaborn's [`countplot()`](https://seaborn.pydata.org/generated/seaborn.countplot.html) function to create a bar chart of code frequencies and matplotlib's [`subplot()`](https://matplotlib.org/api/_as_gen/matplotlib.pyplot.subplot.html) function to put bar charts for the two subplots side by side.\n",
    "- To reduce repeated code, you might want to write a function that can perform this comparison, taking as one of its arguments a column to be compared.\n",
    "\n",
    "Depending on what you observe in your comparison, this will have implications on how you approach your conclusions later in the analysis. If the distributions of non-missing features look similar between the data with many missing values and the data with few or no missing values, then we could argue that simply dropping those points from the analysis won't present a major issue. On the other hand, if the data with many missing values looks very different from the data with few or no missing values, then we should make a note on those data as special. We'll revisit these data later on. **Either way, you should continue your analysis for now using just the subset of the data with few or no missing values.**"
   ]
  },
  {
   "cell_type": "code",
   "execution_count": 51,
   "metadata": {},
   "outputs": [
    {
     "data": {
      "text/plain": [
       "0    0.544304\n",
       "1    0.000000\n",
       "2    0.000000\n",
       "3    0.088608\n",
       "4    0.000000\n",
       "Name: nan_percent, dtype: float64"
      ]
     },
     "execution_count": 51,
     "metadata": {},
     "output_type": "execute_result"
    }
   ],
   "source": [
    "# How much data is missing in each row of the dataset?\n",
    "azdias['nan_percent'] = azdias.isnull().mean(axis=1)\n",
    "azdias['nan_percent'].head()"
   ]
  },
  {
   "cell_type": "markdown",
   "metadata": {},
   "source": [
    "Above, we have computed the percent of missing data for each row, and recorded it into the dataframe. We can visualize the distribution with a histogram:"
   ]
  },
  {
   "cell_type": "code",
   "execution_count": 52,
   "metadata": {},
   "outputs": [
    {
     "data": {
      "image/png": "[encoded data removed]",
      "text/plain": [
       "<matplotlib.figure.Figure at 0x7f117f522940>"
      ]
     },
     "metadata": {
      "needs_background": "light"
     },
     "output_type": "display_data"
    }
   ],
   "source": [
    "a = plt.hist(azdias['nan_percent'], bins=50)"
   ]
  },
  {
   "cell_type": "markdown",
   "metadata": {},
   "source": [
    "From this histogram, we can see that the majority of the rows have lss than 0.1 (10%) of their data missing. So, now we will divide the dataset into two subsets with 10% as the cutoff."
   ]
  },
  {
   "cell_type": "code",
   "execution_count": 53,
   "metadata": {},
   "outputs": [],
   "source": [
    "# Write code to divide the data into two subsets based on the number of missing\n",
    "# values in each row.\n",
    "azdias_high = azdias[azdias.nan_percent > 0.1]\n",
    "azdias_low = azdias[azdias.nan_percent <= 0.1]"
   ]
  },
  {
   "cell_type": "markdown",
   "metadata": {},
   "source": [
    "Now we can examine the distribution of some columns between the two datasets. We will make histograms for 5 columns with no missing values between both sets."
   ]
  },
  {
   "cell_type": "code",
   "execution_count": 54,
   "metadata": {
    "scrolled": false
   },
   "outputs": [
    {
     "data": {
      "image/png": "[encoded data removed]",
      "text/plain": [
       "<matplotlib.figure.Figure at 0x7f117f2b7780>"
      ]
     },
     "metadata": {
      "needs_background": "light"
     },
     "output_type": "display_data"
    },
    {
     "data": {
      "image/png": "[encoded data removed]",
      "text/plain": [
       "<matplotlib.figure.Figure at 0x7f117f2f91d0>"
      ]
     },
     "metadata": {
      "needs_background": "light"
     },
     "output_type": "display_data"
    },
    {
     "data": {
      "image/png": "[encoded data removed]",
      "text/plain": [
       "<matplotlib.figure.Figure at 0x7f118195e4a8>"
      ]
     },
     "metadata": {
      "needs_background": "light"
     },
     "output_type": "display_data"
    },
    {
     "data": {
      "image/png": "[encoded data removed]",
      "text/plain": [
       "<matplotlib.figure.Figure at 0x7f117f735a90>"
      ]
     },
     "metadata": {
      "needs_background": "light"
     },
     "output_type": "display_data"
    },
    {
     "data": {
      "image/png": "[encoded data removed]",
      "text/plain": [
       "<matplotlib.figure.Figure at 0x7f117f68b2e8>"
      ]
     },
     "metadata": {
      "needs_background": "light"
     },
     "output_type": "display_data"
    }
   ],
   "source": [
    "# Compare the distribution of values for at least five columns where there are\n",
    "# no or few missing values, between the two subsets.\n",
    "for col in percent_missing.tail().keys():\n",
    "    fig, axes = plt.subplots(1,2, figsize=(14, 6), sharey=True)\n",
    "    sns.countplot(azdias_high[col], ax=axes[0], color = 'g')\n",
    "    sns.countplot(azdias_low[col], ax=axes[1], color = 'b')"
   ]
  },
  {
   "cell_type": "markdown",
   "metadata": {},
   "source": [
    "#### Discussion 1.1.3: Assess Missing Data in Each Row\n",
    "\n",
    "The distribution of data (shown above) for rows with more than 10% missing data is quite distinct from the distribution shown for rows with less than 10% missing data. There could be many reasons that the data is missing, and these different distributions show that potentially valuable information is lost when discarding the rows with more than 10% of the data missing. However, this loss must be weighed against the risk of including many very incomplete data rows, which might negatively impact the performance of our model. \n",
    "\n",
    "The data with more than 10% missing show some signs of methodological shortcomings in the collection process. The differing distribution is therefore not to be trusted. So we will proceed with only the the rows which have a low percentage of missing data (less than 10%)."
   ]
  },
  {
   "cell_type": "code",
   "execution_count": 55,
   "metadata": {},
   "outputs": [],
   "source": [
    "azdias = azdias_low.drop(columns='nan_percent')"
   ]
  },
  {
   "cell_type": "markdown",
   "metadata": {},
   "source": [
    "### Step 1.2: Select and Re-Encode Features\n",
    "\n",
    "Checking for missing data isn't the only way in which you can prepare a dataset for analysis. Since the unsupervised learning techniques to be used will only work on data that is encoded numerically, you need to make a few encoding changes or additional assumptions to be able to make progress. In addition, while almost all of the values in the dataset are encoded using numbers, not all of them represent numeric values. Check the third column of the feature summary (`feat_info`) for a summary of types of measurement.\n",
    "- For numeric and interval data, these features can be kept without changes.\n",
    "- Most of the variables in the dataset are ordinal in nature. While ordinal values may technically be non-linear in spacing, make the simplifying assumption that the ordinal variables can be treated as being interval in nature (that is, kept without any changes).\n",
    "- Special handling may be necessary for the remaining two variable types: categorical, and 'mixed'.\n",
    "\n",
    "In the first two parts of this sub-step, you will perform an investigation of the categorical and mixed-type features and make a decision on each of them, whether you will keep, drop, or re-encode each. Then, in the last part, you will create a new data frame with only the selected and engineered columns.\n",
    "\n",
    "Data wrangling is often the trickiest part of the data analysis process, and there's a lot of it to be done here. But stick with it: once you're done with this step, you'll be ready to get to the machine learning parts of the project!"
   ]
  },
  {
   "cell_type": "code",
   "execution_count": 56,
   "metadata": {},
   "outputs": [
    {
     "data": {
      "image/png": "[encoded data removed]",
      "text/plain": [
       "<matplotlib.figure.Figure at 0x7f117f435a90>"
      ]
     },
     "metadata": {
      "needs_background": "light"
     },
     "output_type": "display_data"
    }
   ],
   "source": [
    "# Count how many features are there of each data type? Save labels for each\n",
    "feat_info = feat_info[feat_info.attribute.isin(azdias.columns)]\n",
    "types = ['categorical', 'mixed', 'ordinal', 'numeric', 'interval']\n",
    "sums = []\n",
    "labels = []\n",
    "for x in types:\n",
    "    sum = feat_info[feat_info.type == x].shape[0]\n",
    "    sums.append(sum)\n",
    "    labels.append(feat_info[feat_info.type == x].attribute)\n",
    "a = plt.bar(x=types, height=sums)"
   ]
  },
  {
   "cell_type": "markdown",
   "metadata": {},
   "source": [
    "#### Step 1.2.1: Re-Encode Categorical Features\n",
    "\n",
    "For categorical data, you would ordinarily need to encode the levels as dummy variables. Depending on the number of categories, perform one of the following:\n",
    "- For binary (two-level) categoricals that take numeric values, you can keep them without needing to do anything.\n",
    "- There is one binary variable that takes on non-numeric values. For this one, you need to re-encode the values as numbers or create a dummy variable.\n",
    "- For multi-level categoricals (three or more values), you can choose to encode the values using multiple dummy variables (e.g. via [OneHotEncoder](http://scikit-learn.org/stable/modules/generated/sklearn.preprocessing.OneHotEncoder.html)), or (to keep things straightforward) just drop them from the analysis. As always, document your choices in the Discussion section."
   ]
  },
  {
   "cell_type": "code",
   "execution_count": 57,
   "metadata": {},
   "outputs": [
    {
     "data": {
      "text/plain": [
       "2            ANREDE_KZ\n",
       "3        CJT_GESAMTTYP\n",
       "10           FINANZTYP\n",
       "12     GFK_URLAUBERTYP\n",
       "13    GREEN_AVANTGARDE\n",
       "17     LP_FAMILIE_FEIN\n",
       "18     LP_FAMILIE_GROB\n",
       "19      LP_STATUS_FEIN\n",
       "20      LP_STATUS_GROB\n",
       "21    NATIONALITAET_KZ\n",
       "38         SHOPPER_TYP\n",
       "39             SOHO_KZ\n",
       "41            VERS_TYP\n",
       "42            ZABEOTYP\n",
       "52         GEBAEUDETYP\n",
       "55         OST_WEST_KZ\n",
       "57     CAMEO_DEUG_2015\n",
       "58      CAMEO_DEU_2015\n",
       "Name: attribute, dtype: object"
      ]
     },
     "execution_count": 57,
     "metadata": {},
     "output_type": "execute_result"
    }
   ],
   "source": [
    "# Assess categorical variables: which are binary, which are multi-level, and\n",
    "# which one needs to be re-encoded?\n",
    "cat = labels[0]\n",
    "cat"
   ]
  },
  {
   "cell_type": "markdown",
   "metadata": {},
   "source": [
    "The columns above are categorical. Now let's look how many categories for each column. "
   ]
  },
  {
   "cell_type": "code",
   "execution_count": 58,
   "metadata": {},
   "outputs": [
    {
     "data": {
      "text/plain": [
       "ANREDE_KZ            2\n",
       "CJT_GESAMTTYP        6\n",
       "FINANZTYP            6\n",
       "GFK_URLAUBERTYP     12\n",
       "GREEN_AVANTGARDE     2\n",
       "LP_FAMILIE_FEIN     11\n",
       "LP_FAMILIE_GROB      5\n",
       "LP_STATUS_FEIN      10\n",
       "LP_STATUS_GROB       5\n",
       "NATIONALITAET_KZ     3\n",
       "SHOPPER_TYP          4\n",
       "SOHO_KZ              2\n",
       "VERS_TYP             2\n",
       "ZABEOTYP             6\n",
       "GEBAEUDETYP          7\n",
       "OST_WEST_KZ          2\n",
       "CAMEO_DEUG_2015      9\n",
       "CAMEO_DEU_2015      44\n",
       "dtype: int64"
      ]
     },
     "execution_count": 58,
     "metadata": {},
     "output_type": "execute_result"
    }
   ],
   "source": [
    "# Re-encode categorical variable(s) to be kept in the analysis.\n",
    "nunique = azdias[cat].nunique()\n",
    "nunique"
   ]
  },
  {
   "cell_type": "code",
   "execution_count": 59,
   "metadata": {},
   "outputs": [
    {
     "data": {
      "text/plain": [
       "ANREDE_KZ           2\n",
       "GREEN_AVANTGARDE    2\n",
       "SOHO_KZ             2\n",
       "VERS_TYP            2\n",
       "OST_WEST_KZ         2\n",
       "dtype: int64"
      ]
     },
     "execution_count": 59,
     "metadata": {},
     "output_type": "execute_result"
    }
   ],
   "source": [
    "#select binary variables\n",
    "binary = nunique.loc[nunique == 2]\n",
    "binary"
   ]
  },
  {
   "cell_type": "markdown",
   "metadata": {},
   "source": [
    "We see that there are a number of binary columns. Let's look to check that data types to see if they are numerically encoded."
   ]
  },
  {
   "cell_type": "code",
   "execution_count": 60,
   "metadata": {},
   "outputs": [
    {
     "data": {
      "text/html": [
       "<div>\n",
       "<style scoped>\n",
       "    .dataframe tbody tr th:only-of-type {\n",
       "        vertical-align: middle;\n",
       "    }\n",
       "\n",
       "    .dataframe tbody tr th {\n",
       "        vertical-align: top;\n",
       "    }\n",
       "\n",
       "    .dataframe thead th {\n",
       "        text-align: right;\n",
       "    }\n",
       "</style>\n",
       "<table border=\"1\" class=\"dataframe\">\n",
       "  <thead>\n",
       "    <tr style=\"text-align: right;\">\n",
       "      <th></th>\n",
       "      <th>ANREDE_KZ</th>\n",
       "      <th>GREEN_AVANTGARDE</th>\n",
       "      <th>SOHO_KZ</th>\n",
       "      <th>VERS_TYP</th>\n",
       "      <th>OST_WEST_KZ</th>\n",
       "    </tr>\n",
       "  </thead>\n",
       "  <tbody>\n",
       "    <tr>\n",
       "      <th>1</th>\n",
       "      <td>2</td>\n",
       "      <td>0</td>\n",
       "      <td>1.0</td>\n",
       "      <td>2.0</td>\n",
       "      <td>W</td>\n",
       "    </tr>\n",
       "    <tr>\n",
       "      <th>2</th>\n",
       "      <td>2</td>\n",
       "      <td>1</td>\n",
       "      <td>0.0</td>\n",
       "      <td>1.0</td>\n",
       "      <td>W</td>\n",
       "    </tr>\n",
       "    <tr>\n",
       "      <th>3</th>\n",
       "      <td>2</td>\n",
       "      <td>0</td>\n",
       "      <td>0.0</td>\n",
       "      <td>1.0</td>\n",
       "      <td>W</td>\n",
       "    </tr>\n",
       "    <tr>\n",
       "      <th>4</th>\n",
       "      <td>1</td>\n",
       "      <td>0</td>\n",
       "      <td>0.0</td>\n",
       "      <td>2.0</td>\n",
       "      <td>W</td>\n",
       "    </tr>\n",
       "    <tr>\n",
       "      <th>5</th>\n",
       "      <td>2</td>\n",
       "      <td>0</td>\n",
       "      <td>0.0</td>\n",
       "      <td>2.0</td>\n",
       "      <td>W</td>\n",
       "    </tr>\n",
       "  </tbody>\n",
       "</table>\n",
       "</div>"
      ],
      "text/plain": [
       "   ANREDE_KZ  GREEN_AVANTGARDE  SOHO_KZ  VERS_TYP OST_WEST_KZ\n",
       "1          2                 0      1.0       2.0           W\n",
       "2          2                 1      0.0       1.0           W\n",
       "3          2                 0      0.0       1.0           W\n",
       "4          1                 0      0.0       2.0           W\n",
       "5          2                 0      0.0       2.0           W"
      ]
     },
     "execution_count": 60,
     "metadata": {},
     "output_type": "execute_result"
    }
   ],
   "source": [
    "azdias[binary.keys()].head()"
   ]
  },
  {
   "cell_type": "markdown",
   "metadata": {},
   "source": [
    "We want our binary columns all to be with 0 and 1, so let's convert them programmatically."
   ]
  },
  {
   "cell_type": "code",
   "execution_count": 61,
   "metadata": {},
   "outputs": [
    {
     "data": {
      "text/html": [
       "<div>\n",
       "<style scoped>\n",
       "    .dataframe tbody tr th:only-of-type {\n",
       "        vertical-align: middle;\n",
       "    }\n",
       "\n",
       "    .dataframe tbody tr th {\n",
       "        vertical-align: top;\n",
       "    }\n",
       "\n",
       "    .dataframe thead th {\n",
       "        text-align: right;\n",
       "    }\n",
       "</style>\n",
       "<table border=\"1\" class=\"dataframe\">\n",
       "  <thead>\n",
       "    <tr style=\"text-align: right;\">\n",
       "      <th></th>\n",
       "      <th>ANREDE_KZ</th>\n",
       "      <th>GREEN_AVANTGARDE</th>\n",
       "      <th>SOHO_KZ</th>\n",
       "      <th>VERS_TYP</th>\n",
       "      <th>OST_WEST_KZ</th>\n",
       "    </tr>\n",
       "  </thead>\n",
       "  <tbody>\n",
       "    <tr>\n",
       "      <th>1</th>\n",
       "      <td>1</td>\n",
       "      <td>0</td>\n",
       "      <td>1</td>\n",
       "      <td>1.0</td>\n",
       "      <td>1</td>\n",
       "    </tr>\n",
       "    <tr>\n",
       "      <th>2</th>\n",
       "      <td>1</td>\n",
       "      <td>1</td>\n",
       "      <td>0</td>\n",
       "      <td>0.0</td>\n",
       "      <td>1</td>\n",
       "    </tr>\n",
       "    <tr>\n",
       "      <th>3</th>\n",
       "      <td>1</td>\n",
       "      <td>0</td>\n",
       "      <td>0</td>\n",
       "      <td>0.0</td>\n",
       "      <td>1</td>\n",
       "    </tr>\n",
       "    <tr>\n",
       "      <th>4</th>\n",
       "      <td>0</td>\n",
       "      <td>0</td>\n",
       "      <td>0</td>\n",
       "      <td>1.0</td>\n",
       "      <td>1</td>\n",
       "    </tr>\n",
       "    <tr>\n",
       "      <th>5</th>\n",
       "      <td>1</td>\n",
       "      <td>0</td>\n",
       "      <td>0</td>\n",
       "      <td>1.0</td>\n",
       "      <td>1</td>\n",
       "    </tr>\n",
       "  </tbody>\n",
       "</table>\n",
       "</div>"
      ],
      "text/plain": [
       "   ANREDE_KZ  GREEN_AVANTGARDE  SOHO_KZ  VERS_TYP  OST_WEST_KZ\n",
       "1          1                 0        1       1.0            1\n",
       "2          1                 1        0       0.0            1\n",
       "3          1                 0        0       0.0            1\n",
       "4          0                 0        0       1.0            1\n",
       "5          1                 0        0       1.0            1"
      ]
     },
     "execution_count": 61,
     "metadata": {},
     "output_type": "execute_result"
    }
   ],
   "source": [
    "for x in binary.keys():\n",
    "    col = azdias[x]\n",
    "    u = col.unique()\n",
    "    u.sort()\n",
    "    d = dict(zip(u, [0,1]))\n",
    "    col = col.replace(to_replace=d)\n",
    "    col = pd.to_numeric(col, downcast='integer')\n",
    "    azdias[x] = col\n",
    "azdias[binary.keys()].head()"
   ]
  },
  {
   "cell_type": "markdown",
   "metadata": {},
   "source": [
    "For non-binary categorical columns, we need to separate them into dummy variables, each with a column. This is best achieved with the pandas get_dummies() encoder. We will do this for all the columns that have more than 2 unique values (non-binary)."
   ]
  },
  {
   "cell_type": "code",
   "execution_count": 62,
   "metadata": {},
   "outputs": [
    {
     "data": {
      "text/plain": [
       "CJT_GESAMTTYP        6\n",
       "FINANZTYP            6\n",
       "GFK_URLAUBERTYP     12\n",
       "LP_FAMILIE_FEIN     11\n",
       "LP_FAMILIE_GROB      5\n",
       "LP_STATUS_FEIN      10\n",
       "LP_STATUS_GROB       5\n",
       "NATIONALITAET_KZ     3\n",
       "SHOPPER_TYP          4\n",
       "ZABEOTYP             6\n",
       "GEBAEUDETYP          7\n",
       "CAMEO_DEUG_2015      9\n",
       "CAMEO_DEU_2015      44\n",
       "dtype: int64"
      ]
     },
     "execution_count": 62,
     "metadata": {},
     "output_type": "execute_result"
    }
   ],
   "source": [
    "higher_order = nunique.loc[nunique > 2]\n",
    "higher_order"
   ]
  },
  {
   "cell_type": "code",
   "execution_count": 63,
   "metadata": {},
   "outputs": [
    {
     "data": {
      "text/html": [
       "<div>\n",
       "<style scoped>\n",
       "    .dataframe tbody tr th:only-of-type {\n",
       "        vertical-align: middle;\n",
       "    }\n",
       "\n",
       "    .dataframe tbody tr th {\n",
       "        vertical-align: top;\n",
       "    }\n",
       "\n",
       "    .dataframe thead th {\n",
       "        text-align: right;\n",
       "    }\n",
       "</style>\n",
       "<table border=\"1\" class=\"dataframe\">\n",
       "  <thead>\n",
       "    <tr style=\"text-align: right;\">\n",
       "      <th></th>\n",
       "      <th>ALTERSKATEGORIE_GROB</th>\n",
       "      <th>ANREDE_KZ</th>\n",
       "      <th>FINANZ_MINIMALIST</th>\n",
       "      <th>FINANZ_SPARER</th>\n",
       "      <th>FINANZ_VORSORGER</th>\n",
       "      <th>FINANZ_ANLEGER</th>\n",
       "      <th>FINANZ_UNAUFFAELLIGER</th>\n",
       "      <th>FINANZ_HAUSBAUER</th>\n",
       "      <th>GREEN_AVANTGARDE</th>\n",
       "      <th>HEALTH_TYP</th>\n",
       "      <th>...</th>\n",
       "      <th>CAMEO_DEU_2015_7E</th>\n",
       "      <th>CAMEO_DEU_2015_8A</th>\n",
       "      <th>CAMEO_DEU_2015_8B</th>\n",
       "      <th>CAMEO_DEU_2015_8C</th>\n",
       "      <th>CAMEO_DEU_2015_8D</th>\n",
       "      <th>CAMEO_DEU_2015_9A</th>\n",
       "      <th>CAMEO_DEU_2015_9B</th>\n",
       "      <th>CAMEO_DEU_2015_9C</th>\n",
       "      <th>CAMEO_DEU_2015_9D</th>\n",
       "      <th>CAMEO_DEU_2015_9E</th>\n",
       "    </tr>\n",
       "  </thead>\n",
       "  <tbody>\n",
       "    <tr>\n",
       "      <th>1</th>\n",
       "      <td>1.0</td>\n",
       "      <td>1</td>\n",
       "      <td>1</td>\n",
       "      <td>5</td>\n",
       "      <td>2</td>\n",
       "      <td>5</td>\n",
       "      <td>4</td>\n",
       "      <td>5</td>\n",
       "      <td>0</td>\n",
       "      <td>3.0</td>\n",
       "      <td>...</td>\n",
       "      <td>0</td>\n",
       "      <td>1</td>\n",
       "      <td>0</td>\n",
       "      <td>0</td>\n",
       "      <td>0</td>\n",
       "      <td>0</td>\n",
       "      <td>0</td>\n",
       "      <td>0</td>\n",
       "      <td>0</td>\n",
       "      <td>0</td>\n",
       "    </tr>\n",
       "    <tr>\n",
       "      <th>2</th>\n",
       "      <td>3.0</td>\n",
       "      <td>1</td>\n",
       "      <td>1</td>\n",
       "      <td>4</td>\n",
       "      <td>1</td>\n",
       "      <td>2</td>\n",
       "      <td>3</td>\n",
       "      <td>5</td>\n",
       "      <td>1</td>\n",
       "      <td>3.0</td>\n",
       "      <td>...</td>\n",
       "      <td>0</td>\n",
       "      <td>0</td>\n",
       "      <td>0</td>\n",
       "      <td>0</td>\n",
       "      <td>0</td>\n",
       "      <td>0</td>\n",
       "      <td>0</td>\n",
       "      <td>0</td>\n",
       "      <td>0</td>\n",
       "      <td>0</td>\n",
       "    </tr>\n",
       "    <tr>\n",
       "      <th>3</th>\n",
       "      <td>4.0</td>\n",
       "      <td>1</td>\n",
       "      <td>4</td>\n",
       "      <td>2</td>\n",
       "      <td>5</td>\n",
       "      <td>2</td>\n",
       "      <td>1</td>\n",
       "      <td>2</td>\n",
       "      <td>0</td>\n",
       "      <td>2.0</td>\n",
       "      <td>...</td>\n",
       "      <td>0</td>\n",
       "      <td>0</td>\n",
       "      <td>0</td>\n",
       "      <td>0</td>\n",
       "      <td>0</td>\n",
       "      <td>0</td>\n",
       "      <td>0</td>\n",
       "      <td>0</td>\n",
       "      <td>0</td>\n",
       "      <td>0</td>\n",
       "    </tr>\n",
       "    <tr>\n",
       "      <th>4</th>\n",
       "      <td>3.0</td>\n",
       "      <td>0</td>\n",
       "      <td>4</td>\n",
       "      <td>3</td>\n",
       "      <td>4</td>\n",
       "      <td>1</td>\n",
       "      <td>3</td>\n",
       "      <td>2</td>\n",
       "      <td>0</td>\n",
       "      <td>3.0</td>\n",
       "      <td>...</td>\n",
       "      <td>0</td>\n",
       "      <td>0</td>\n",
       "      <td>0</td>\n",
       "      <td>0</td>\n",
       "      <td>0</td>\n",
       "      <td>0</td>\n",
       "      <td>0</td>\n",
       "      <td>0</td>\n",
       "      <td>0</td>\n",
       "      <td>0</td>\n",
       "    </tr>\n",
       "    <tr>\n",
       "      <th>5</th>\n",
       "      <td>1.0</td>\n",
       "      <td>1</td>\n",
       "      <td>3</td>\n",
       "      <td>1</td>\n",
       "      <td>5</td>\n",
       "      <td>2</td>\n",
       "      <td>2</td>\n",
       "      <td>5</td>\n",
       "      <td>0</td>\n",
       "      <td>3.0</td>\n",
       "      <td>...</td>\n",
       "      <td>0</td>\n",
       "      <td>0</td>\n",
       "      <td>0</td>\n",
       "      <td>1</td>\n",
       "      <td>0</td>\n",
       "      <td>0</td>\n",
       "      <td>0</td>\n",
       "      <td>0</td>\n",
       "      <td>0</td>\n",
       "      <td>0</td>\n",
       "    </tr>\n",
       "  </tbody>\n",
       "</table>\n",
       "<p>5 rows × 194 columns</p>\n",
       "</div>"
      ],
      "text/plain": [
       "   ALTERSKATEGORIE_GROB  ANREDE_KZ  FINANZ_MINIMALIST  FINANZ_SPARER  \\\n",
       "1                   1.0          1                  1              5   \n",
       "2                   3.0          1                  1              4   \n",
       "3                   4.0          1                  4              2   \n",
       "4                   3.0          0                  4              3   \n",
       "5                   1.0          1                  3              1   \n",
       "\n",
       "   FINANZ_VORSORGER  FINANZ_ANLEGER  FINANZ_UNAUFFAELLIGER  FINANZ_HAUSBAUER  \\\n",
       "1                 2               5                      4                 5   \n",
       "2                 1               2                      3                 5   \n",
       "3                 5               2                      1                 2   \n",
       "4                 4               1                      3                 2   \n",
       "5                 5               2                      2                 5   \n",
       "\n",
       "   GREEN_AVANTGARDE  HEALTH_TYP        ...          CAMEO_DEU_2015_7E  \\\n",
       "1                 0         3.0        ...                          0   \n",
       "2                 1         3.0        ...                          0   \n",
       "3                 0         2.0        ...                          0   \n",
       "4                 0         3.0        ...                          0   \n",
       "5                 0         3.0        ...                          0   \n",
       "\n",
       "   CAMEO_DEU_2015_8A  CAMEO_DEU_2015_8B  CAMEO_DEU_2015_8C  CAMEO_DEU_2015_8D  \\\n",
       "1                  1                  0                  0                  0   \n",
       "2                  0                  0                  0                  0   \n",
       "3                  0                  0                  0                  0   \n",
       "4                  0                  0                  0                  0   \n",
       "5                  0                  0                  1                  0   \n",
       "\n",
       "   CAMEO_DEU_2015_9A  CAMEO_DEU_2015_9B  CAMEO_DEU_2015_9C  CAMEO_DEU_2015_9D  \\\n",
       "1                  0                  0                  0                  0   \n",
       "2                  0                  0                  0                  0   \n",
       "3                  0                  0                  0                  0   \n",
       "4                  0                  0                  0                  0   \n",
       "5                  0                  0                  0                  0   \n",
       "\n",
       "   CAMEO_DEU_2015_9E  \n",
       "1                  0  \n",
       "2                  0  \n",
       "3                  0  \n",
       "4                  0  \n",
       "5                  0  \n",
       "\n",
       "[5 rows x 194 columns]"
      ]
     },
     "execution_count": 63,
     "metadata": {},
     "output_type": "execute_result"
    }
   ],
   "source": [
    "cols = higher_order.keys()\n",
    "azdias = pd.get_dummies(azdias, columns=cols)\n",
    "azdias.head()"
   ]
  },
  {
   "cell_type": "code",
   "execution_count": 64,
   "metadata": {},
   "outputs": [
    {
     "data": {
      "text/plain": [
       "(747109, 194)"
      ]
     },
     "execution_count": 64,
     "metadata": {},
     "output_type": "execute_result"
    }
   ],
   "source": [
    "azdias.shape"
   ]
  },
  {
   "cell_type": "markdown",
   "metadata": {},
   "source": [
    "#### Discussion 1.2.1: Re-Encode Categorical Features\n",
    "\n",
    "For categorical features, it made sense to keep all of the data in the form of dummy variable columns with 0's and 1's. This results in a lot of columns (194), but we will use feature reduction methods subsequently to reduce these."
   ]
  },
  {
   "cell_type": "markdown",
   "metadata": {},
   "source": [
    "#### Step 1.2.2: Engineer Mixed-Type Features\n",
    "\n",
    "There are a handful of features that are marked as \"mixed\" in the feature summary that require special treatment in order to be included in the analysis. There are two in particular that deserve attention; the handling of the rest are up to your own choices:\n",
    "- \"PRAEGENDE_JUGENDJAHRE\" combines information on three dimensions: generation by decade, movement (mainstream vs. avantgarde), and nation (east vs. west). While there aren't enough levels to disentangle east from west, you should create two new variables to capture the other two dimensions: an interval-type variable for decade, and a binary variable for movement.\n",
    "- \"CAMEO_INTL_2015\" combines information on two axes: wealth and life stage. Break up the two-digit codes by their 'tens'-place and 'ones'-place digits into two new ordinal variables (which, for the purposes of this project, is equivalent to just treating them as their raw numeric values).\n",
    "- If you decide to keep or engineer new features around the other mixed-type features, make sure you note your steps in the Discussion section.\n",
    "\n",
    "Be sure to check `Data_Dictionary.md` for the details needed to finish these tasks."
   ]
  },
  {
   "cell_type": "markdown",
   "metadata": {},
   "source": [
    "Now let's investigate the mixed type columns. They are\n"
   ]
  },
  {
   "cell_type": "code",
   "execution_count": 65,
   "metadata": {},
   "outputs": [
    {
     "data": {
      "text/html": [
       "<div>\n",
       "<style scoped>\n",
       "    .dataframe tbody tr th:only-of-type {\n",
       "        vertical-align: middle;\n",
       "    }\n",
       "\n",
       "    .dataframe tbody tr th {\n",
       "        vertical-align: top;\n",
       "    }\n",
       "\n",
       "    .dataframe thead th {\n",
       "        text-align: right;\n",
       "    }\n",
       "</style>\n",
       "<table border=\"1\" class=\"dataframe\">\n",
       "  <thead>\n",
       "    <tr style=\"text-align: right;\">\n",
       "      <th></th>\n",
       "      <th>attribute</th>\n",
       "      <th>information_level</th>\n",
       "      <th>type</th>\n",
       "      <th>missing_or_unknown</th>\n",
       "    </tr>\n",
       "  </thead>\n",
       "  <tbody>\n",
       "    <tr>\n",
       "      <th>15</th>\n",
       "      <td>LP_LEBENSPHASE_FEIN</td>\n",
       "      <td>person</td>\n",
       "      <td>mixed</td>\n",
       "      <td>[0]</td>\n",
       "    </tr>\n",
       "    <tr>\n",
       "      <th>16</th>\n",
       "      <td>LP_LEBENSPHASE_GROB</td>\n",
       "      <td>person</td>\n",
       "      <td>mixed</td>\n",
       "      <td>[0]</td>\n",
       "    </tr>\n",
       "    <tr>\n",
       "      <th>22</th>\n",
       "      <td>PRAEGENDE_JUGENDJAHRE</td>\n",
       "      <td>person</td>\n",
       "      <td>mixed</td>\n",
       "      <td>[-1,0]</td>\n",
       "    </tr>\n",
       "    <tr>\n",
       "      <th>56</th>\n",
       "      <td>WOHNLAGE</td>\n",
       "      <td>building</td>\n",
       "      <td>mixed</td>\n",
       "      <td>[-1]</td>\n",
       "    </tr>\n",
       "    <tr>\n",
       "      <th>59</th>\n",
       "      <td>CAMEO_INTL_2015</td>\n",
       "      <td>microcell_rr4</td>\n",
       "      <td>mixed</td>\n",
       "      <td>[-1,XX]</td>\n",
       "    </tr>\n",
       "    <tr>\n",
       "      <th>79</th>\n",
       "      <td>PLZ8_BAUMAX</td>\n",
       "      <td>macrocell_plz8</td>\n",
       "      <td>mixed</td>\n",
       "      <td>[-1,0]</td>\n",
       "    </tr>\n",
       "  </tbody>\n",
       "</table>\n",
       "</div>"
      ],
      "text/plain": [
       "                attribute information_level   type missing_or_unknown\n",
       "15    LP_LEBENSPHASE_FEIN            person  mixed                [0]\n",
       "16    LP_LEBENSPHASE_GROB            person  mixed                [0]\n",
       "22  PRAEGENDE_JUGENDJAHRE            person  mixed             [-1,0]\n",
       "56               WOHNLAGE          building  mixed               [-1]\n",
       "59        CAMEO_INTL_2015     microcell_rr4  mixed            [-1,XX]\n",
       "79            PLZ8_BAUMAX    macrocell_plz8  mixed             [-1,0]"
      ]
     },
     "execution_count": 65,
     "metadata": {},
     "output_type": "execute_result"
    }
   ],
   "source": [
    "feat_info[feat_info.type == 'mixed']"
   ]
  },
  {
   "cell_type": "markdown",
   "metadata": {},
   "source": [
    "First, we can see from the data dictionary that PRAEGENDE_JUGENDJAHRE is a mix of three potential features: generation, movement, and east/west. "
   ]
  },
  {
   "cell_type": "markdown",
   "metadata": {},
   "source": [
    "### 1.18. PRAEGENDE_JUGENDJAHRE\n",
    "Dominating movement of person's youth (avantgarde vs. mainstream; east vs. west)\n",
    "- -1: unknown\n",
    "-  0: unknown\n",
    "-  1: 40s - war years (Mainstream, E+W)\n",
    "-  2: 40s - reconstruction years (Avantgarde, E+W)\n",
    "-  3: 50s - economic miracle (Mainstream, E+W)\n",
    "-  4: 50s - milk bar / Individualisation (Avantgarde, E+W)\n",
    "-  5: 60s - economic miracle (Mainstream, E+W)\n",
    "-  6: 60s - generation 68 / student protestors (Avantgarde, W)\n",
    "-  7: 60s - opponents to the building of the Wall (Avantgarde, E)\n",
    "-  8: 70s - family orientation (Mainstream, E+W)\n",
    "-  9: 70s - peace movement (Avantgarde, E+W)\n",
    "- 10: 80s - Generation Golf (Mainstream, W)\n",
    "- 11: 80s - ecological awareness (Avantgarde, W)\n",
    "- 12: 80s - FDJ / communist party youth organisation (Mainstream, E)\n",
    "- 13: 80s - Swords into ploughshares (Avantgarde, E)\n",
    "- 14: 90s - digital media kids (Mainstream, E+W)\n",
    "- 15: 90s - ecological awareness (Avantgarde, E+W)"
   ]
  },
  {
   "cell_type": "markdown",
   "metadata": {},
   "source": [
    "Let's take a look at the distribution in the dataset:"
   ]
  },
  {
   "cell_type": "code",
   "execution_count": 66,
   "metadata": {},
   "outputs": [
    {
     "data": {
      "image/png": "[encoded data removed]",
      "text/plain": [
       "<matplotlib.figure.Figure at 0x7f1167a2e8d0>"
      ]
     },
     "metadata": {
      "needs_background": "light"
     },
     "output_type": "display_data"
    }
   ],
   "source": [
    "# plt.bar(x=azdias['PRAEGENDE_JUGENDJAHRE'].unique(), height=)\n",
    "# a = plt.bar(x=types, height=sums)\n",
    "keys = azdias['PRAEGENDE_JUGENDJAHRE'].value_counts().keys()\n",
    "vals = azdias['PRAEGENDE_JUGENDJAHRE'].value_counts()\n",
    "a = plt.bar(x=keys, height=vals)"
   ]
  },
  {
   "cell_type": "markdown",
   "metadata": {},
   "source": [
    "Since east/west last doesn't have enough levels to disentangle, we can make new columns for the decade and movement. We will make a column with integer for decade and a binary column for movement, which we will put 1 for avantgarde and 0 for mainstream.\n",
    "\n",
    "For decades, we have 40's, 50's, 60's, 70's, 80's, 90's which we will represent with the digits 1 to 6.\n",
    "\n",
    "For movement, we have avantgarde vs mainstream, and we will put 0 for mainstream and 1 for avantgarde."
   ]
  },
  {
   "cell_type": "code",
   "execution_count": 67,
   "metadata": {},
   "outputs": [
    {
     "data": {
      "text/plain": [
       "(747109, 195)"
      ]
     },
     "execution_count": 67,
     "metadata": {},
     "output_type": "execute_result"
    }
   ],
   "source": [
    "decade_dict = {1: 1, 2: 1, 3: 2, 4: 2, 5: 3, 6: 3, 7:  3,\n",
    "            8: 4, 9: 4, 10: 5, 11: 5, 12: 5, 13: 5, 14: 6, 15: 6}\n",
    "movement_dict = {1: 0, 3: 0, 5: 0, 8: 0, 10: 0, 12: 0, 14: 0,\n",
    "                2: 1, 4: 1, 6: 1, 7: 1, 9: 1, 11: 1, 13: 1, 15: 1}\n",
    "\n",
    "azdias['PRAEGENDE_JUNGENDJAHRE_DECADE'] = azdias['PRAEGENDE_JUGENDJAHRE'].map(decade_dict)\n",
    "azdias['PRAEGENDE_JUNGENDJAHRE_MOVEMENT'] = azdias['PRAEGENDE_JUGENDJAHRE'].map(movement_dict)\n",
    "azdias = azdias.drop(columns='PRAEGENDE_JUGENDJAHRE')\n",
    "azdias.shape"
   ]
  },
  {
   "cell_type": "markdown",
   "metadata": {},
   "source": [
    "Let's take a look at the breakdown of the new columns, first for decades and then for movement"
   ]
  },
  {
   "cell_type": "code",
   "execution_count": 68,
   "metadata": {},
   "outputs": [
    {
     "data": {
      "image/png": "[encoded data removed]",
      "text/plain": [
       "<matplotlib.figure.Figure at 0x7f112ec17ba8>"
      ]
     },
     "metadata": {
      "needs_background": "light"
     },
     "output_type": "display_data"
    }
   ],
   "source": [
    "a = plt.bar( x=azdias['PRAEGENDE_JUNGENDJAHRE_DECADE'].value_counts().keys(), height=azdias['PRAEGENDE_JUNGENDJAHRE_DECADE'].value_counts())"
   ]
  },
  {
   "cell_type": "code",
   "execution_count": 69,
   "metadata": {},
   "outputs": [
    {
     "data": {
      "image/png": "[encoded data removed]",
      "text/plain": [
       "<matplotlib.figure.Figure at 0x7f117ee57fd0>"
      ]
     },
     "metadata": {
      "needs_background": "light"
     },
     "output_type": "display_data"
    }
   ],
   "source": [
    "a = plt.bar(x=azdias['PRAEGENDE_JUNGENDJAHRE_MOVEMENT'].value_counts().keys(), height=azdias['PRAEGENDE_JUNGENDJAHRE_MOVEMENT'].value_counts())"
   ]
  },
  {
   "cell_type": "markdown",
   "metadata": {},
   "source": [
    "From the charts above, we see that the largest representation for decade are people from the 90's, and that the majority of people belong to the mainstream movement."
   ]
  },
  {
   "cell_type": "markdown",
   "metadata": {},
   "source": [
    "Similarly, CAMEO_INTL_2015 is of mixed type. We have from our data dictionary the following breakdown:\n"
   ]
  },
  {
   "cell_type": "markdown",
   "metadata": {},
   "source": [
    "### CAMEO_INTL_2015\n",
    "German CAMEO: Wealth / Life Stage Typology, mapped to international code\n",
    "- -1: unknown\n",
    "- 11: Wealthy Households - Pre-Family Couples & Singles\n",
    "- 12: Wealthy Households - Young Couples With Children\n",
    "- 13: Wealthy Households - Families With School Age Children\n",
    "- 14: Wealthy Households - Older Families &  Mature Couples\n",
    "- 15: Wealthy Households - Elders In Retirement\n",
    "- 21: Prosperous Households - Pre-Family Couples & Singles\n",
    "- 22: Prosperous Households - Young Couples With Children\n",
    "- 23: Prosperous Households - Families With School Age Children\n",
    "- 24: Prosperous Households - Older Families & Mature Couples\n",
    "- 25: Prosperous Households - Elders In Retirement\n",
    "- 31: Comfortable Households - Pre-Family Couples & Singles\n",
    "- 32: Comfortable Households - Young Couples With Children\n",
    "- 33: Comfortable Households - Families With School Age Children\n",
    "- 34: Comfortable Households - Older Families & Mature Couples\n",
    "- 35: Comfortable Households - Elders In Retirement\n",
    "- 41: Less Affluent Households - Pre-Family Couples & Singles\n",
    "- 42: Less Affluent Households - Young Couples With Children\n",
    "- 43: Less Affluent Households - Families With School Age Children\n",
    "- 44: Less Affluent Households - Older Families & Mature Couples\n",
    "- 45: Less Affluent Households - Elders In Retirement\n",
    "- 51: Poorer Households - Pre-Family Couples & Singles\n",
    "- 52: Poorer Households - Young Couples With Children\n",
    "- 53: Poorer Households - Families With School Age Children\n",
    "- 54: Poorer Households - Older Families & Mature Couples\n",
    "- 55: Poorer Households - Elders In Retirement\n",
    "- XX: unknown"
   ]
  },
  {
   "cell_type": "markdown",
   "metadata": {},
   "source": [
    "We see clearly two dimensions in these specifications, and this is also represented by the number code: the first digit represents wealth and the second represents life stage. So let's separate this data into two columns, with the following codes:\n",
    "\n",
    "CAMEO_INTL_2015_WEALTH:\n",
    "\n",
    "Household wealth\n",
    "\n",
    "1: Wealthy \n",
    "2: Prosperous \n",
    "3: Comfortable \n",
    "4: Less Affluent \n",
    "5: Poorer \n",
    "\n",
    "CAMEO_INTL_2015_STAGE:\n",
    "\n",
    "Life Stage\n",
    "\n",
    "1: Pre-Family Couples & Singles\n",
    "2: Young Couples With Children\n",
    "3: Families With School Age Children\n",
    "4: Older Families & Mature Couples\n",
    "5: Elders In Retirement\n",
    "\n",
    "If we take a peak into the dataset, we can see the number codes represented"
   ]
  },
  {
   "cell_type": "code",
   "execution_count": 70,
   "metadata": {},
   "outputs": [
    {
     "data": {
      "text/plain": [
       "1    51\n",
       "2    24\n",
       "3    12\n",
       "4    43\n",
       "5    54\n",
       "Name: CAMEO_INTL_2015, dtype: object"
      ]
     },
     "execution_count": 70,
     "metadata": {},
     "output_type": "execute_result"
    }
   ],
   "source": [
    "azdias['CAMEO_INTL_2015'].head()"
   ]
  },
  {
   "cell_type": "code",
   "execution_count": 71,
   "metadata": {},
   "outputs": [],
   "source": [
    "#helper method to separate the digits\n",
    "def digitize(x, digit):\n",
    "    if not pd.isna(x):\n",
    "        return int(str(x)[digit])\n",
    "    return x\n",
    "\n",
    "azdias['CAMEO_INTL_2015_WEALTH'] = azdias['CAMEO_INTL_2015'].apply(digitize, digit=0)\n",
    "azdias['CAMEO_INTL_2015_STAGE'] = azdias['CAMEO_INTL_2015'].apply(digitize, digit=1)\n",
    "azdias = azdias.drop(columns='CAMEO_INTL_2015')"
   ]
  },
  {
   "cell_type": "markdown",
   "metadata": {},
   "source": [
    "Let's take a look at the breakdown of data in these two features with a chart for the count (wealth and life stage):"
   ]
  },
  {
   "cell_type": "code",
   "execution_count": 72,
   "metadata": {},
   "outputs": [
    {
     "data": {
      "image/png": "[encoded data removed]",
      "text/plain": [
       "<matplotlib.figure.Figure at 0x7f117edc54a8>"
      ]
     },
     "metadata": {
      "needs_background": "light"
     },
     "output_type": "display_data"
    }
   ],
   "source": [
    "a = plt.bar(x=azdias['CAMEO_INTL_2015_WEALTH'].value_counts().keys(), height=azdias['CAMEO_INTL_2015_WEALTH'].value_counts())"
   ]
  },
  {
   "cell_type": "code",
   "execution_count": 73,
   "metadata": {},
   "outputs": [
    {
     "data": {
      "image/png": "[encoded data removed]",
      "text/plain": [
       "<matplotlib.figure.Figure at 0x7f117ed74be0>"
      ]
     },
     "metadata": {
      "needs_background": "light"
     },
     "output_type": "display_data"
    }
   ],
   "source": [
    "a = plt.bar(x=azdias['CAMEO_INTL_2015_STAGE'].value_counts().keys(), height=azdias['CAMEO_INTL_2015_STAGE'].value_counts())"
   ]
  },
  {
   "cell_type": "markdown",
   "metadata": {},
   "source": [
    "From these breakdowns, we see that there is a reasonable spread of income levels, with the lower two income brackets having the most people. From the life stage, we see that pre-family and older families/mature couples are most represented."
   ]
  },
  {
   "cell_type": "markdown",
   "metadata": {},
   "source": [
    "#### Discussion 1.2.2: Engineer Mixed-Type Features\n",
    "\n",
    "For the CAMEO_INTL_2015 and PRAEGENDE_JUGENDJAHRE columns, we have separated the dimensions in the data and engineered new features (see analysis and feature engineering steps above).\n",
    "\n",
    "There are still several mixed feature columns:\n",
    "\n",
    "LP_LEBENSPHASE_GROB and LP_LEBENSPHASE_FEIN are two different resolutions of data about the life phase and income of the individual. Since we have already captured similar data with the features engineered from PRAEGENDE_JUGENDJAHRE and CAMEO_INTL_2015, we will discard these.\n",
    "\n",
    "WOHNLAGE and PLZ8_BAUMAX refer to the neighborhood and type of building where the person lives. We will discard this data for now, because the way it is broken down is not likely to add useful information to what we already have. "
   ]
  },
  {
   "cell_type": "code",
   "execution_count": 74,
   "metadata": {},
   "outputs": [
    {
     "data": {
      "text/plain": [
       "(747109, 192)"
      ]
     },
     "execution_count": 74,
     "metadata": {},
     "output_type": "execute_result"
    }
   ],
   "source": [
    "azdias = azdias.drop(columns=['LP_LEBENSPHASE_GROB', 'LP_LEBENSPHASE_FEIN', 'WOHNLAGE', 'PLZ8_BAUMAX'])\n",
    "azdias.shape"
   ]
  },
  {
   "cell_type": "markdown",
   "metadata": {},
   "source": [
    "#### Step 1.2.3: Complete Feature Selection\n",
    "\n",
    "In order to finish this step up, you need to make sure that your data frame now only has the columns that you want to keep. To summarize, the dataframe should consist of the following:\n",
    "- All numeric, interval, and ordinal type columns from the original dataset.\n",
    "- Binary categorical features (all numerically-encoded).\n",
    "- Engineered features from other multi-level categorical features and mixed features.\n",
    "\n",
    "Make sure that for any new columns that you have engineered, that you've excluded the original columns from the final dataset. Otherwise, their values will interfere with the analysis later on the project. For example, you should not keep \"PRAEGENDE_JUGENDJAHRE\", since its values won't be useful for the algorithm: only the values derived from it in the engineered features you created should be retained. As a reminder, your data should only be from **the subset with few or no missing values**."
   ]
  },
  {
   "cell_type": "code",
   "execution_count": 75,
   "metadata": {},
   "outputs": [
    {
     "name": "stdout",
     "output_type": "stream",
     "text": [
      "There are 4 columns with type int8\n",
      "There are 128 columns with type uint8\n",
      "There are 20 columns with type int64\n",
      "There are 40 columns with type float64\n"
     ]
    }
   ],
   "source": [
    "# Check that we have all numeric encoded data\n",
    "g = azdias.columns.to_series().groupby(azdias.dtypes).groups\n",
    "for key in g.keys():\n",
    "    print(f'There are {len(g[key])} columns with type {key}')"
   ]
  },
  {
   "cell_type": "markdown",
   "metadata": {},
   "source": [
    "### Step 1.3: Create a Cleaning Function\n",
    "\n",
    "Even though you've finished cleaning up the general population demographics data, it's important to look ahead to the future and realize that you'll need to perform the same cleaning steps on the customer demographics data. In this substep, complete the function below to execute the main feature selection, encoding, and re-engineering steps you performed above. Then, when it comes to looking at the customer data in Step 3, you can just run this function on that DataFrame to get the trimmed dataset in a single step."
   ]
  },
  {
   "cell_type": "code",
   "execution_count": 76,
   "metadata": {},
   "outputs": [],
   "source": [
    "#convert missing value to nans\n",
    "def process_nans(df):\n",
    "    feat_info = pd.read_csv('AZDIAS_Feature_Summary.csv', sep=';')\n",
    "    nans = [np.nan, np.nan, np.nan, np.nan]\n",
    "    for i in range(df.shape[1]):\n",
    "        nan_list = feat_info['missing_or_unknown'][i][1:-1]\n",
    "        nan_list = nan_list.split(',')\n",
    "        nan_list = [make_int(x) for x in nan_list]\n",
    "        nan_dict = dict(zip(nan_list, nans))\n",
    "        column_name = df.columns[i]\n",
    "        df[column_name].replace(inplace=True, to_replace=nan_dict)\n",
    "    return df\n",
    "\n",
    "#remove columns with more than 20% data missing\n",
    "def remove_cols(df):\n",
    "    df = df.drop(labels=remove_columns.keys(), axis=1)\n",
    "    return df\n",
    "    \n",
    "#remove rows with more than 10% data missing\n",
    "def remove_rows(df):\n",
    "    df['nan_percent'] = df.isnull().mean(axis=1)\n",
    "    df = df[df.nan_percent <= 0.1]\n",
    "    df = df.drop(columns='nan_percent')\n",
    "    return df\n",
    "\n",
    "#return categoricals\n",
    "def find_cats(df):\n",
    "    feat_info = pd.read_csv('AZDIAS_Feature_Summary.csv', sep=';')\n",
    "    feat_info = feat_info[feat_info.attribute.isin(df.columns)]\n",
    "    labels = []\n",
    "    for x in types:\n",
    "        labels.append(feat_info[feat_info.type == x].attribute)\n",
    "    return labels[0]\n",
    "\n",
    "#process binaries into 0 and 1\n",
    "def process_binaries(df, cat):\n",
    "    nunique = df[cat].nunique()\n",
    "    binary = nunique.loc[nunique == 2]\n",
    "    for x in binary.keys():\n",
    "        col = df[x]\n",
    "        u = col.unique()\n",
    "        u.sort()\n",
    "        d = dict(zip(u, [0,1]))\n",
    "        col = col.replace(to_replace=d)\n",
    "        col = pd.to_numeric(col, downcast='integer')\n",
    "        df[x] = col\n",
    "    return df\n",
    "\n",
    "#split mixed features into separate dimensions\n",
    "def engineer_features(df):\n",
    "    decade_dict = {1: 1, 2: 1, 3: 2, 4: 2, 5: 3, 6: 3, 7:  3,\n",
    "            8: 4, 9: 4, 10: 5, 11: 5, 12: 5, 13: 5, 14: 6, 15: 6}\n",
    "    movement_dict = {1: 0, 3: 0, 5: 0, 8: 0, 10: 0, 12: 0, 14: 0,\n",
    "                2: 1, 4: 1, 6: 1, 7: 1, 9: 1, 11: 1, 13: 1, 15: 1}\n",
    "\n",
    "    df['PRAEGENDE_JUNGENDJAHRE_DECADE'] = df['PRAEGENDE_JUGENDJAHRE'].map(decade_dict)\n",
    "    df['PRAEGENDE_JUNGENDJAHRE_MOVEMENT'] = df['PRAEGENDE_JUGENDJAHRE'].map(movement_dict)\n",
    "    df = df.drop(columns='PRAEGENDE_JUGENDJAHRE')\n",
    "    \n",
    "    df['CAMEO_INTL_2015_WEALTH'] = df['CAMEO_INTL_2015'].apply(digitize, digit=0)\n",
    "    df['CAMEO_INTL_2015_STAGE'] = df['CAMEO_INTL_2015'].apply(digitize, digit=1)\n",
    "    df = df.drop(columns='CAMEO_INTL_2015')\n",
    "    \n",
    "    df = df.drop(columns=['LP_LEBENSPHASE_GROB', 'LP_LEBENSPHASE_FEIN', 'WOHNLAGE', 'PLZ8_BAUMAX'])\n",
    "    return df\n",
    "\n",
    "#split higher order categoricals into dummy columns\n",
    "def create_dummies(df, cat):\n",
    "    nunique = df[cat].nunique()\n",
    "    higher_order = nunique.loc[nunique > 2]\n",
    "    cols = higher_order.keys()\n",
    "    df = pd.get_dummies(df, columns=cols)\n",
    "    return df\n",
    "    \n",
    "    \n",
    "def clean_data(df):\n",
    "    \"\"\"\n",
    "    Perform feature trimming, re-encoding, and engineering for demographics\n",
    "    data\n",
    "    \n",
    "    INPUT: Demographics DataFrame\n",
    "    OUTPUT: Trimmed and cleaned demographics DataFrame\n",
    "    \"\"\"\n",
    "    \n",
    "    # Put in code here to execute all main cleaning steps:\n",
    "    # convert missing value codes into NaNs, ...\n",
    "    df = process_nans(df)\n",
    "    \n",
    "    # remove selected columns and rows, ...\n",
    "    df = remove_cols(df)\n",
    "    df = remove_rows(df)\n",
    "    \n",
    "    # select, re-encode, and engineer column values.\n",
    "    cat = find_cats(df)\n",
    "    df = process_binaries(df, cat)\n",
    "    df = create_dummies(df, cat)\n",
    "    df = engineer_features(df)\n",
    "    \n",
    "    # Return the cleaned dataframe.\n",
    "    return df\n",
    "    "
   ]
  },
  {
   "cell_type": "code",
   "execution_count": 77,
   "metadata": {},
   "outputs": [
    {
     "name": "stdout",
     "output_type": "stream",
     "text": [
      "Working - this might take a minute...\n",
      "Test Passed!\n"
     ]
    }
   ],
   "source": [
    "def test_data(azdias):\n",
    "    print('Working - this might take a minute...')\n",
    "    df_test = pd.read_csv('Udacity_AZDIAS_Subset.csv', delimiter=';')\n",
    "    pd.testing.assert_frame_equal(clean_data(df_test), azdias)\n",
    "    print('Test Passed!')\n",
    "    \n",
    "test_data(azdias)"
   ]
  },
  {
   "cell_type": "markdown",
   "metadata": {},
   "source": [
    "## Step 2: Feature Transformation\n",
    "\n",
    "### Step 2.1: Apply Feature Scaling\n",
    "\n",
    "Before we apply dimensionality reduction techniques to the data, we need to perform feature scaling so that the principal component vectors are not influenced by the natural differences in scale for features. Starting from this part of the project, you'll want to keep an eye on the [API reference page for sklearn](http://scikit-learn.org/stable/modules/classes.html) to help you navigate to all of the classes and functions that you'll need. In this substep, you'll need to check the following:\n",
    "\n",
    "- sklearn requires that data not have missing values in order for its estimators to work properly. So, before applying the scaler to your data, make sure that you've cleaned the DataFrame of the remaining missing values. This can be as simple as just removing all data points with missing data, or applying an [Imputer](http://scikit-learn.org/stable/modules/generated/sklearn.preprocessing.Imputer.html) to replace all missing values. You might also try a more complicated procedure where you temporarily remove missing values in order to compute the scaling parameters before re-introducing those missing values and applying imputation. Think about how much missing data you have and what possible effects each approach might have on your analysis, and justify your decision in the discussion section below.\n",
    "- For the actual scaling function, a [StandardScaler](http://scikit-learn.org/stable/modules/generated/sklearn.preprocessing.StandardScaler.html) instance is suggested, scaling each feature to mean 0 and standard deviation 1.\n",
    "- For these classes, you can make use of the `.fit_transform()` method to both fit a procedure to the data as well as apply the transformation to the data at the same time. Don't forget to keep the fit sklearn objects handy, since you'll be applying them to the customer demographics data towards the end of the project."
   ]
  },
  {
   "cell_type": "markdown",
   "metadata": {},
   "source": [
    "We have separately already removed columns with more than 20% missing and rows with more than 10% missing data. Now let's first check what percentage of the remaining rows have data missing.\n"
   ]
  },
  {
   "cell_type": "code",
   "execution_count": 78,
   "metadata": {},
   "outputs": [
    {
     "name": "stdout",
     "output_type": "stream",
     "text": [
      "There are 123898 rows missing out of a total of 747109. This reflects 17%\n"
     ]
    }
   ],
   "source": [
    "nan_percent = azdias.isnull().mean(axis=1)\n",
    "num_missing = nan_percent[nan_percent > 0].shape[0]\n",
    "total = azdias.shape[0]\n",
    "print(f'There are {num_missing} rows missing out of a total of {total}. This reflects {round(num_missing*100/total)}%')"
   ]
  },
  {
   "cell_type": "markdown",
   "metadata": {},
   "source": [
    "While 17% is a significant number of rows with missing data, let's take a look at how many individual nans in total out of all the values in our data set. This will give us an idea whether to discard the rows or impute values for the missing data. In order to do this, we use the number of columns in the original data set minus the columns that were completely dropped (otherwise our dummy variable columns would skew the result)."
   ]
  },
  {
   "cell_type": "code",
   "execution_count": 79,
   "metadata": {},
   "outputs": [
    {
     "name": "stdout",
     "output_type": "stream",
     "text": [
      "There are 320763 NaNs out of a total of 56033175 data fields, which is 0.57245194476308%\n"
     ]
    }
   ],
   "source": [
    "nan_count = azdias.isnull().sum().sum()\n",
    "total_count = 75 * azdias.shape[0]\n",
    "print(f'There are {nan_count} NaNs out of a total of {total_count} data fields, which is {nan_count/total_count *100}%')"
   ]
  },
  {
   "cell_type": "markdown",
   "metadata": {},
   "source": [
    "This is indeed a rather small percentage of missing data, versus the 17% data that would be discarded if we simply though out all rows with NaN's. So let's use the imputer with a mean value to fill in the gaps so we can use all rows."
   ]
  },
  {
   "cell_type": "code",
   "execution_count": 80,
   "metadata": {},
   "outputs": [],
   "source": [
    "imputer = Imputer(missing_values='NaN', strategy='mean', axis=0)\n",
    "vals = imputer.fit_transform(azdias)"
   ]
  },
  {
   "cell_type": "code",
   "execution_count": 81,
   "metadata": {},
   "outputs": [
    {
     "data": {
      "text/html": [
       "<div>\n",
       "<style scoped>\n",
       "    .dataframe tbody tr th:only-of-type {\n",
       "        vertical-align: middle;\n",
       "    }\n",
       "\n",
       "    .dataframe tbody tr th {\n",
       "        vertical-align: top;\n",
       "    }\n",
       "\n",
       "    .dataframe thead th {\n",
       "        text-align: right;\n",
       "    }\n",
       "</style>\n",
       "<table border=\"1\" class=\"dataframe\">\n",
       "  <thead>\n",
       "    <tr style=\"text-align: right;\">\n",
       "      <th></th>\n",
       "      <th>ALTERSKATEGORIE_GROB</th>\n",
       "      <th>ANREDE_KZ</th>\n",
       "      <th>FINANZ_MINIMALIST</th>\n",
       "      <th>FINANZ_SPARER</th>\n",
       "      <th>FINANZ_VORSORGER</th>\n",
       "      <th>FINANZ_ANLEGER</th>\n",
       "      <th>FINANZ_UNAUFFAELLIGER</th>\n",
       "      <th>FINANZ_HAUSBAUER</th>\n",
       "      <th>GREEN_AVANTGARDE</th>\n",
       "      <th>HEALTH_TYP</th>\n",
       "      <th>...</th>\n",
       "      <th>CAMEO_DEU_2015_8D</th>\n",
       "      <th>CAMEO_DEU_2015_9A</th>\n",
       "      <th>CAMEO_DEU_2015_9B</th>\n",
       "      <th>CAMEO_DEU_2015_9C</th>\n",
       "      <th>CAMEO_DEU_2015_9D</th>\n",
       "      <th>CAMEO_DEU_2015_9E</th>\n",
       "      <th>PRAEGENDE_JUNGENDJAHRE_DECADE</th>\n",
       "      <th>PRAEGENDE_JUNGENDJAHRE_MOVEMENT</th>\n",
       "      <th>CAMEO_INTL_2015_WEALTH</th>\n",
       "      <th>CAMEO_INTL_2015_STAGE</th>\n",
       "    </tr>\n",
       "  </thead>\n",
       "  <tbody>\n",
       "    <tr>\n",
       "      <th>0</th>\n",
       "      <td>-1.754375</td>\n",
       "      <td>0.962859</td>\n",
       "      <td>-1.503661</td>\n",
       "      <td>1.559941</td>\n",
       "      <td>-1.049535</td>\n",
       "      <td>1.490708</td>\n",
       "      <td>1.013168</td>\n",
       "      <td>1.331159</td>\n",
       "      <td>-0.536372</td>\n",
       "      <td>1.065804</td>\n",
       "      <td>...</td>\n",
       "      <td>-0.152876</td>\n",
       "      <td>-0.164254</td>\n",
       "      <td>-0.19162</td>\n",
       "      <td>-0.180623</td>\n",
       "      <td>-0.195966</td>\n",
       "      <td>-0.087052</td>\n",
       "      <td>1.164694</td>\n",
       "      <td>-0.549948</td>\n",
       "      <td>1.173102</td>\n",
       "      <td>-1.259383</td>\n",
       "    </tr>\n",
       "    <tr>\n",
       "      <th>1</th>\n",
       "      <td>0.198908</td>\n",
       "      <td>0.962859</td>\n",
       "      <td>-1.503661</td>\n",
       "      <td>0.884836</td>\n",
       "      <td>-1.773085</td>\n",
       "      <td>-0.555630</td>\n",
       "      <td>0.291141</td>\n",
       "      <td>1.331159</td>\n",
       "      <td>1.864378</td>\n",
       "      <td>1.065804</td>\n",
       "      <td>...</td>\n",
       "      <td>-0.152876</td>\n",
       "      <td>-0.164254</td>\n",
       "      <td>-0.19162</td>\n",
       "      <td>-0.180623</td>\n",
       "      <td>-0.195966</td>\n",
       "      <td>-0.087052</td>\n",
       "      <td>1.164694</td>\n",
       "      <td>1.858454</td>\n",
       "      <td>-0.877743</td>\n",
       "      <td>0.756001</td>\n",
       "    </tr>\n",
       "    <tr>\n",
       "      <th>2</th>\n",
       "      <td>1.175549</td>\n",
       "      <td>0.962859</td>\n",
       "      <td>0.685685</td>\n",
       "      <td>-0.465374</td>\n",
       "      <td>1.121117</td>\n",
       "      <td>-0.555630</td>\n",
       "      <td>-1.152912</td>\n",
       "      <td>-0.831846</td>\n",
       "      <td>-0.536372</td>\n",
       "      <td>-0.280182</td>\n",
       "      <td>...</td>\n",
       "      <td>-0.152876</td>\n",
       "      <td>-0.164254</td>\n",
       "      <td>-0.19162</td>\n",
       "      <td>-0.180623</td>\n",
       "      <td>-0.195966</td>\n",
       "      <td>-0.087052</td>\n",
       "      <td>-0.219810</td>\n",
       "      <td>-0.549948</td>\n",
       "      <td>-1.561358</td>\n",
       "      <td>-0.587588</td>\n",
       "    </tr>\n",
       "    <tr>\n",
       "      <th>3</th>\n",
       "      <td>0.198908</td>\n",
       "      <td>-1.038573</td>\n",
       "      <td>0.685685</td>\n",
       "      <td>0.209731</td>\n",
       "      <td>0.397566</td>\n",
       "      <td>-1.237743</td>\n",
       "      <td>0.291141</td>\n",
       "      <td>-0.831846</td>\n",
       "      <td>-0.536372</td>\n",
       "      <td>1.065804</td>\n",
       "      <td>...</td>\n",
       "      <td>-0.152876</td>\n",
       "      <td>-0.164254</td>\n",
       "      <td>-0.19162</td>\n",
       "      <td>-0.180623</td>\n",
       "      <td>-0.195966</td>\n",
       "      <td>-0.087052</td>\n",
       "      <td>-0.219810</td>\n",
       "      <td>-0.549948</td>\n",
       "      <td>0.489487</td>\n",
       "      <td>0.084207</td>\n",
       "    </tr>\n",
       "    <tr>\n",
       "      <th>4</th>\n",
       "      <td>-1.754375</td>\n",
       "      <td>0.962859</td>\n",
       "      <td>-0.044097</td>\n",
       "      <td>-1.140479</td>\n",
       "      <td>1.121117</td>\n",
       "      <td>-0.555630</td>\n",
       "      <td>-0.430886</td>\n",
       "      <td>1.331159</td>\n",
       "      <td>-0.536372</td>\n",
       "      <td>1.065804</td>\n",
       "      <td>...</td>\n",
       "      <td>-0.152876</td>\n",
       "      <td>-0.164254</td>\n",
       "      <td>-0.19162</td>\n",
       "      <td>-0.180623</td>\n",
       "      <td>-0.195966</td>\n",
       "      <td>-0.087052</td>\n",
       "      <td>-1.604315</td>\n",
       "      <td>-0.549948</td>\n",
       "      <td>1.173102</td>\n",
       "      <td>0.756001</td>\n",
       "    </tr>\n",
       "  </tbody>\n",
       "</table>\n",
       "<p>5 rows × 192 columns</p>\n",
       "</div>"
      ],
      "text/plain": [
       "   ALTERSKATEGORIE_GROB  ANREDE_KZ  FINANZ_MINIMALIST  FINANZ_SPARER  \\\n",
       "0             -1.754375   0.962859          -1.503661       1.559941   \n",
       "1              0.198908   0.962859          -1.503661       0.884836   \n",
       "2              1.175549   0.962859           0.685685      -0.465374   \n",
       "3              0.198908  -1.038573           0.685685       0.209731   \n",
       "4             -1.754375   0.962859          -0.044097      -1.140479   \n",
       "\n",
       "   FINANZ_VORSORGER  FINANZ_ANLEGER  FINANZ_UNAUFFAELLIGER  FINANZ_HAUSBAUER  \\\n",
       "0         -1.049535        1.490708               1.013168          1.331159   \n",
       "1         -1.773085       -0.555630               0.291141          1.331159   \n",
       "2          1.121117       -0.555630              -1.152912         -0.831846   \n",
       "3          0.397566       -1.237743               0.291141         -0.831846   \n",
       "4          1.121117       -0.555630              -0.430886          1.331159   \n",
       "\n",
       "   GREEN_AVANTGARDE  HEALTH_TYP          ...            CAMEO_DEU_2015_8D  \\\n",
       "0         -0.536372    1.065804          ...                    -0.152876   \n",
       "1          1.864378    1.065804          ...                    -0.152876   \n",
       "2         -0.536372   -0.280182          ...                    -0.152876   \n",
       "3         -0.536372    1.065804          ...                    -0.152876   \n",
       "4         -0.536372    1.065804          ...                    -0.152876   \n",
       "\n",
       "   CAMEO_DEU_2015_9A  CAMEO_DEU_2015_9B  CAMEO_DEU_2015_9C  CAMEO_DEU_2015_9D  \\\n",
       "0          -0.164254           -0.19162          -0.180623          -0.195966   \n",
       "1          -0.164254           -0.19162          -0.180623          -0.195966   \n",
       "2          -0.164254           -0.19162          -0.180623          -0.195966   \n",
       "3          -0.164254           -0.19162          -0.180623          -0.195966   \n",
       "4          -0.164254           -0.19162          -0.180623          -0.195966   \n",
       "\n",
       "   CAMEO_DEU_2015_9E  PRAEGENDE_JUNGENDJAHRE_DECADE  \\\n",
       "0          -0.087052                       1.164694   \n",
       "1          -0.087052                       1.164694   \n",
       "2          -0.087052                      -0.219810   \n",
       "3          -0.087052                      -0.219810   \n",
       "4          -0.087052                      -1.604315   \n",
       "\n",
       "   PRAEGENDE_JUNGENDJAHRE_MOVEMENT  CAMEO_INTL_2015_WEALTH  \\\n",
       "0                        -0.549948                1.173102   \n",
       "1                         1.858454               -0.877743   \n",
       "2                        -0.549948               -1.561358   \n",
       "3                        -0.549948                0.489487   \n",
       "4                        -0.549948                1.173102   \n",
       "\n",
       "   CAMEO_INTL_2015_STAGE  \n",
       "0              -1.259383  \n",
       "1               0.756001  \n",
       "2              -0.587588  \n",
       "3               0.084207  \n",
       "4               0.756001  \n",
       "\n",
       "[5 rows x 192 columns]"
      ]
     },
     "execution_count": 81,
     "metadata": {},
     "output_type": "execute_result"
    }
   ],
   "source": [
    "scaler = StandardScaler()\n",
    "scaled = scaler.fit_transform(vals)\n",
    "scaled = pd.DataFrame(scaled, columns=azdias.columns)\n",
    "scaled.head()"
   ]
  },
  {
   "cell_type": "markdown",
   "metadata": {},
   "source": [
    "Let's check to make sure there are no NaN's left: "
   ]
  },
  {
   "cell_type": "code",
   "execution_count": 82,
   "metadata": {},
   "outputs": [
    {
     "name": "stdout",
     "output_type": "stream",
     "text": [
      "there are 0 NaNs in scaled\n"
     ]
    }
   ],
   "source": [
    "print(f'there are {scaled.isnull().sum().sum()} NaNs in scaled')"
   ]
  },
  {
   "cell_type": "markdown",
   "metadata": {},
   "source": [
    "### Discussion 2.1: Apply Feature Scaling\n",
    "\n",
    "In examining the missing data, we found that even though 17% of rows had missing data, there were not really so many pieces of data missing as a percentage of the whole (less than 1% of the remaining data). So it made sense to use imputation to salvage the rows with missing data. \n",
    "\n",
    "To do this, we used imputation with the mean value. \n",
    "\n",
    "For scaling, it made most sense to go with the standard scaler. At this point, our dataset has no NaN's and is scaled appropriately."
   ]
  },
  {
   "cell_type": "markdown",
   "metadata": {},
   "source": [
    "### Step 2.2: Perform Dimensionality Reduction\n",
    "\n",
    "On your scaled data, you are now ready to apply dimensionality reduction techniques.\n",
    "\n",
    "- Use sklearn's [PCA](http://scikit-learn.org/stable/modules/generated/sklearn.decomposition.PCA.html) class to apply principal component analysis on the data, thus finding the vectors of maximal variance in the data. To start, you should not set any parameters (so all components are computed) or set a number of components that is at least half the number of features (so there's enough features to see the general trend in variability).\n",
    "- Check out the ratio of variance explained by each principal component as well as the cumulative variance explained. Try plotting the cumulative or sequential values using matplotlib's [`plot()`](https://matplotlib.org/api/_as_gen/matplotlib.pyplot.plot.html) function. Based on what you find, select a value for the number of transformed features you'll retain for the clustering part of the project.\n",
    "- Once you've made a choice for the number of components to keep, make sure you re-fit a PCA instance to perform the decided-on transformation."
   ]
  },
  {
   "cell_type": "code",
   "execution_count": 83,
   "metadata": {},
   "outputs": [],
   "source": [
    "# Apply PCA to the data.\n",
    "pca = PCA()\n",
    "pca = pca.fit(scaled)"
   ]
  },
  {
   "cell_type": "code",
   "execution_count": 84,
   "metadata": {},
   "outputs": [
    {
     "name": "stdout",
     "output_type": "stream",
     "text": [
      "192\n"
     ]
    },
    {
     "data": {
      "image/png": "[encoded data removed]",
      "text/plain": [
       "<matplotlib.figure.Figure at 0x7f117ee94d30>"
      ]
     },
     "metadata": {
      "needs_background": "light"
     },
     "output_type": "display_data"
    }
   ],
   "source": [
    "# Investigate the variance accounted for by each principal component.\n",
    "# indices = range(len(pca.explained_variance_ratio_))\n",
    "print(pca.n_components_)\n",
    "a = plt.plot(pca.explained_variance_ratio_)\n"
   ]
  },
  {
   "cell_type": "markdown",
   "metadata": {},
   "source": [
    "The plot above shows an elbow at about 8 and a flattening at around 27, then another flattening around 125 features. This is hard to see, so here's a focus on the first 30 features:"
   ]
  },
  {
   "cell_type": "code",
   "execution_count": 85,
   "metadata": {},
   "outputs": [
    {
     "data": {
      "image/png": "[encoded data removed]",
      "text/plain": [
       "<matplotlib.figure.Figure at 0x7f11818855c0>"
      ]
     },
     "metadata": {
      "needs_background": "light"
     },
     "output_type": "display_data"
    }
   ],
   "source": [
    "a = plt.plot(pca.explained_variance_ratio_[0:30])"
   ]
  },
  {
   "cell_type": "markdown",
   "metadata": {},
   "source": [
    "Since there is a clear elbow at 8 features, we will refit the PCA to keep 8 features"
   ]
  },
  {
   "cell_type": "code",
   "execution_count": 86,
   "metadata": {},
   "outputs": [
    {
     "data": {
      "text/plain": [
       "PCA(copy=True, iterated_power='auto', n_components=8, random_state=None,\n",
       "  svd_solver='auto', tol=0.0, whiten=False)"
      ]
     },
     "execution_count": 86,
     "metadata": {},
     "output_type": "execute_result"
    }
   ],
   "source": [
    "# Re-apply PCA to the data while selecting for number of components to retain.\n",
    "pca_b = PCA(n_components = 8)\n",
    "pca_b.fit(scaled)"
   ]
  },
  {
   "cell_type": "code",
   "execution_count": 87,
   "metadata": {},
   "outputs": [],
   "source": [
    "#REFERENCE: The code for the scree plot function below is taken from Udacity's 'helper functions' library\n",
    "def scree_plot(pca):\n",
    "    '''\n",
    "    Creates a scree plot associated with the principal components \n",
    "    \n",
    "    INPUT: pca - the result of instantian of PCA in scikit learn\n",
    "            \n",
    "    OUTPUT:\n",
    "            None\n",
    "    '''\n",
    "    num_components=len(pca.explained_variance_ratio_)\n",
    "    ind = np.arange(num_components)\n",
    "    vals = pca.explained_variance_ratio_\n",
    " \n",
    "    plt.figure(figsize=(10, 6))\n",
    "    ax = plt.subplot(111)\n",
    "    cumvals = np.cumsum(vals)\n",
    "    ax.bar(ind, vals)\n",
    "    ax.plot(ind, cumvals)\n",
    "    for i in range(num_components):\n",
    "        ax.annotate(r\"%s%%\" % ((str(vals[i]*100)[:4])), (ind[i]+0.2, vals[i]), va=\"bottom\", ha=\"center\", fontsize=12)\n",
    " \n",
    "    ax.xaxis.set_tick_params(width=0)\n",
    "    ax.yaxis.set_tick_params(width=2, length=12)\n",
    " \n",
    "    ax.set_xlabel(\"Principal Component\")\n",
    "    ax.set_ylabel(\"Variance Explained (%)\")\n",
    "    plt.title('Explained Variance Per Principal Component')\n",
    "    "
   ]
  },
  {
   "cell_type": "code",
   "execution_count": 88,
   "metadata": {},
   "outputs": [
    {
     "data": {
      "image/png": "[encoded data removed]",
      "text/plain": [
       "<matplotlib.figure.Figure at 0x7f117f3e0cf8>"
      ]
     },
     "metadata": {
      "needs_background": "light"
     },
     "output_type": "display_data"
    }
   ],
   "source": [
    "scree_plot(pca_b)"
   ]
  },
  {
   "cell_type": "code",
   "execution_count": 89,
   "metadata": {},
   "outputs": [
    {
     "data": {
      "text/plain": [
       "0.26617780904867816"
      ]
     },
     "execution_count": 89,
     "metadata": {},
     "output_type": "execute_result"
    }
   ],
   "source": [
    "var = np.sum(pca_b.explained_variance_ratio_)\n",
    "var"
   ]
  },
  {
   "cell_type": "markdown",
   "metadata": {},
   "source": [
    "Because 8 features only explains 27% variance, we need to go back and make a PCA with more features. I had seen a flattening at 27 features, so I will try that now:"
   ]
  },
  {
   "cell_type": "code",
   "execution_count": 90,
   "metadata": {},
   "outputs": [
    {
     "data": {
      "text/plain": [
       "PCA(copy=True, iterated_power='auto', n_components=27, random_state=None,\n",
       "  svd_solver='auto', tol=0.0, whiten=False)"
      ]
     },
     "execution_count": 90,
     "metadata": {},
     "output_type": "execute_result"
    }
   ],
   "source": [
    "pca_c = PCA(n_components = 27)\n",
    "pca_c.fit(scaled)"
   ]
  },
  {
   "cell_type": "code",
   "execution_count": 91,
   "metadata": {},
   "outputs": [
    {
     "data": {
      "text/plain": [
       "0.46541340247340135"
      ]
     },
     "execution_count": 91,
     "metadata": {},
     "output_type": "execute_result"
    }
   ],
   "source": [
    "var = np.sum(pca_c.explained_variance_ratio_)\n",
    "var"
   ]
  },
  {
   "cell_type": "markdown",
   "metadata": {},
   "source": [
    "So this represents about 46.5% of the variance. It still seems rather low, so now let's try 125 features:"
   ]
  },
  {
   "cell_type": "code",
   "execution_count": 92,
   "metadata": {},
   "outputs": [
    {
     "data": {
      "text/plain": [
       "PCA(copy=True, iterated_power='auto', n_components=125, random_state=None,\n",
       "  svd_solver='auto', tol=0.0, whiten=False)"
      ]
     },
     "execution_count": 92,
     "metadata": {},
     "output_type": "execute_result"
    }
   ],
   "source": [
    "pca_d = PCA(n_components = 125)\n",
    "pca_d.fit(scaled)"
   ]
  },
  {
   "cell_type": "code",
   "execution_count": 93,
   "metadata": {},
   "outputs": [
    {
     "data": {
      "text/plain": [
       "0.96054472486715414"
      ]
     },
     "execution_count": 93,
     "metadata": {},
     "output_type": "execute_result"
    }
   ],
   "source": [
    "var = np.sum(pca_d.explained_variance_ratio_)\n",
    "var"
   ]
  },
  {
   "cell_type": "markdown",
   "metadata": {},
   "source": [
    "### 2.2.2 Discussion of PCA\n",
    "\n",
    "In deciding how many components to create using PCA, it is important to weigh two competing factors: how much information from the dataset can we use, and the performance of the kmeans algorithm in higher dimensions. In higher dimensions, the \"curse of dimensionality\" sets in. However, this is not correlated with a specific number of dimensions. Rather, it occurs based on the actual distribution of data within dimensions. Said in another way, there is no one number as a higher limit for dimensions. It all depends on the dataset itself. Our PCA with 125 dimensions captures most of the information of the data. However, it will be extremely inefficient to use so many dimensions with the kmeans algorithm and the \"curse of dimensionality\" will certainly set in. The PCA with 8 dimensions captures too little of the information in the dataset. It seems like 27 dimensions, despite only capturing 46.5% of the data, is still an awful lot of dimensions. So ultimately I decided to go with 13 dimensions, which strikes a balance between usage of information and performance for kmeans. So I will create pca_e with 13 dimensions and use it for clustering."
   ]
  },
  {
   "cell_type": "code",
   "execution_count": 94,
   "metadata": {},
   "outputs": [
    {
     "data": {
      "text/plain": [
       "PCA(copy=True, iterated_power='auto', n_components=13, random_state=None,\n",
       "  svd_solver='auto', tol=0.0, whiten=False)"
      ]
     },
     "execution_count": 94,
     "metadata": {},
     "output_type": "execute_result"
    }
   ],
   "source": [
    "pca_e = PCA(n_components = 13)\n",
    "pca_e.fit(scaled)"
   ]
  },
  {
   "cell_type": "code",
   "execution_count": 95,
   "metadata": {},
   "outputs": [
    {
     "data": {
      "text/plain": [
       "0.32780599484332751"
      ]
     },
     "execution_count": 95,
     "metadata": {},
     "output_type": "execute_result"
    }
   ],
   "source": [
    "var = np.sum(pca_e.explained_variance_ratio_)\n",
    "var"
   ]
  },
  {
   "cell_type": "code",
   "execution_count": 96,
   "metadata": {},
   "outputs": [],
   "source": [
    "#to experiment with how long it takes kmeans to train, i make all transformations\n",
    "df_pca_c = pca_c.transform(scaled)\n",
    "df_pca_d = pca_d.transform(scaled)\n",
    "df_pca_b = pca_b.transform(scaled)\n",
    "df_pca_e = pca_e.transform(scaled)"
   ]
  },
  {
   "cell_type": "markdown",
   "metadata": {},
   "source": [
    "### Step 2.3: Interpret Principal Components\n",
    "\n",
    "Now that we have our transformed principal components, it's a nice idea to check out the weight of each variable on the first few components to see if they can be interpreted in some fashion.\n",
    "\n",
    "As a reminder, each principal component is a unit vector that points in the direction of highest variance (after accounting for the variance captured by earlier principal components). The further a weight is from zero, the more the principal component is in the direction of the corresponding feature. If two features have large weights of the same sign (both positive or both negative), then increases in one tend expect to be associated with increases in the other. To contrast, features with different signs can be expected to show a negative correlation: increases in one variable should result in a decrease in the other.\n",
    "\n",
    "- To investigate the features, you should map each weight to their corresponding feature name, then sort the features according to weight. The most interesting features for each principal component, then, will be those at the beginning and end of the sorted list. Use the data dictionary document to help you understand these most prominent features, their relationships, and what a positive or negative value on the principal component might indicate.\n",
    "- You should investigate and interpret feature associations from the first three principal components in this substep. To help facilitate this, you should write a function that you can call at any time to print the sorted list of feature weights, for the *i*-th principal component. This might come in handy in the next step of the project, when you interpret the tendencies of the discovered clusters."
   ]
  },
  {
   "cell_type": "code",
   "execution_count": 97,
   "metadata": {},
   "outputs": [],
   "source": [
    "def map_pca_weights(pca, df, n_comp):\n",
    "    weights = pd.DataFrame(np.round(pca.components_, 4), columns=df.keys())\n",
    "    comp = weights.iloc[n_comp-1, :]\n",
    "    positive = comp[comp > 0].sort_values(ascending=False)\n",
    "    negative = comp[comp <= 0].sort_values()\n",
    "    return positive, negative"
   ]
  },
  {
   "cell_type": "code",
   "execution_count": 98,
   "metadata": {},
   "outputs": [],
   "source": [
    "def list_pos_neg(pos, neg, n_comp):\n",
    "    print(f'For component {n_comp}, the top positive features are:')\n",
    "    print(pos[0:10])\n",
    "    print('')\n",
    "    print(f'And for component {n_comp} the top negative features are:')\n",
    "    print(neg[0:10])"
   ]
  },
  {
   "cell_type": "code",
   "execution_count": 99,
   "metadata": {},
   "outputs": [
    {
     "name": "stdout",
     "output_type": "stream",
     "text": [
      "For component 1, the top positive features are:\n",
      "LP_STATUS_GROB_1.0        0.1956\n",
      "HH_EINKOMMEN_SCORE        0.1853\n",
      "CAMEO_INTL_2015_WEALTH    0.1851\n",
      "PLZ8_ANTG3                0.1815\n",
      "PLZ8_ANTG4                0.1756\n",
      "ORTSGR_KLS9               0.1529\n",
      "EWDICHTE                  0.1514\n",
      "FINANZ_HAUSBAUER          0.1452\n",
      "LP_STATUS_FEIN_1.0        0.1280\n",
      "KBA05_ANTG4               0.1273\n",
      "Name: 0, dtype: float64\n",
      "\n",
      "And for component 1 the top negative features are:\n",
      "MOBI_REGIO            -0.2056\n",
      "FINANZ_MINIMALIST     -0.1927\n",
      "KBA05_ANTG1           -0.1926\n",
      "KBA05_GBZ             -0.1826\n",
      "PLZ8_ANTG1            -0.1826\n",
      "KONSUMNAEHE           -0.1344\n",
      "PLZ8_GBZ              -0.1335\n",
      "INNENSTADT            -0.1259\n",
      "LP_STATUS_GROB_5.0    -0.1177\n",
      "LP_STATUS_FEIN_10.0   -0.1177\n",
      "Name: 0, dtype: float64\n"
     ]
    }
   ],
   "source": [
    "pos, neg = map_pca_weights(pca_e, scaled, 1)\n",
    "list_pos_neg(pos, neg, 1)"
   ]
  },
  {
   "cell_type": "markdown",
   "metadata": {},
   "source": [
    "In both positive and negative cases, the breakdown of the weights show that looking at the top 5 features would give a good insight into this component. So we take a look at the data dictionary, and can draw the following conclusions:"
   ]
  },
  {
   "cell_type": "markdown",
   "metadata": {},
   "source": [
    "### Component 1 - Positive\n",
    "\n",
    "LP_STATUS_GROB_1.0 - this is a categorical variable that shows low income earners\n",
    "\n",
    "HH_EINKOMMEN_SCORE - this data is also associated with income (higher numerical values show lower income)\n",
    "\n",
    "CAMEO_INTL_2015_WEALTH - this was a feature we engineered from CAMEO_INTL_2015 which shows wealth (higher numerical values show lower income)\n",
    "\n",
    "PLZ8_ANTG3 - this relates to the share of 6-10 family homes in the region where the person lives, with higher score correlating to a greater share\n",
    "\n",
    "PLZ8_ANTG4 - this relates to the share of 10+ family homes in the region where the person lives, with higher score relating to greater share\n",
    "\n",
    "### Component 1 - Negative\n",
    "\n",
    "MOBI_REGIO - Movement patterns (higher score shows lower movement)\n",
    "\n",
    "FINANZ_MINIMALIST - Financial minimalism (a higher score shows lower financial minimalism)\n",
    "\n",
    "KBA05_ANTG1 - number of 1-2 family homes (a higher score shows a high share)\n",
    "\n",
    "KBA05_GBZ - number of buildings in the microcell (a higher score shows higher number)\n",
    "\n",
    "PLZ8_ANTG1 - number of 1-2 family homes (a higher score shows a high share)\n"
   ]
  },
  {
   "cell_type": "markdown",
   "metadata": {},
   "source": [
    "### Component 1 Discussion\n",
    "\n",
    "There are two very strong components in feature one, supported by both the positive and negative features.\n",
    "\n",
    "The first is the financial status / income of the person. This component is oriented towards low income, low wealth and financial minimalism. \n",
    "\n",
    "The second is the density of housing or population in the area where the person lives. This component shows high density of buildings and larger number of families per building.\n",
    "\n",
    "So we can summarize this as low income people in high density housing.\n"
   ]
  },
  {
   "cell_type": "code",
   "execution_count": 100,
   "metadata": {},
   "outputs": [
    {
     "name": "stdout",
     "output_type": "stream",
     "text": [
      "For component 2, the top positive features are:\n",
      "ALTERSKATEGORIE_GROB    0.2305\n",
      "FINANZ_VORSORGER        0.2153\n",
      "ZABEOTYP_3              0.2001\n",
      "SEMIO_ERL               0.1804\n",
      "SEMIO_LUST              0.1614\n",
      "RETOURTYP_BK_S          0.1581\n",
      "W_KEIT_KIND_HH          0.1265\n",
      "CJT_GESAMTTYP_2.0       0.1056\n",
      "LP_STATUS_FEIN_1.0      0.1010\n",
      "FINANZTYP_5             0.0963\n",
      "Name: 1, dtype: float64\n",
      "\n",
      "And for component 2 the top negative features are:\n",
      "PRAEGENDE_JUNGENDJAHRE_DECADE   -0.2344\n",
      "FINANZ_SPARER                   -0.2235\n",
      "SEMIO_REL                       -0.2143\n",
      "FINANZ_UNAUFFAELLIGER           -0.2121\n",
      "SEMIO_TRADV                     -0.2065\n",
      "SEMIO_PFLICHT                   -0.2045\n",
      "FINANZ_ANLEGER                  -0.2022\n",
      "SEMIO_KULT                      -0.1659\n",
      "SEMIO_RAT                       -0.1658\n",
      "ONLINE_AFFINITAET               -0.1641\n",
      "Name: 1, dtype: float64\n"
     ]
    }
   ],
   "source": [
    "# Map weights for the second principal component to corresponding feature names\n",
    "# and then print the linked values, sorted by weight.\n",
    "pos, neg = map_pca_weights(pca_e, scaled, 2)\n",
    "list_pos_neg(pos, neg, 2)"
   ]
  },
  {
   "cell_type": "code",
   "execution_count": 101,
   "metadata": {},
   "outputs": [
    {
     "name": "stdout",
     "output_type": "stream",
     "text": [
      "For component 2, the top positive features are:\n",
      "ALTERSKATEGORIE_GROB    0.2305\n",
      "FINANZ_VORSORGER        0.2153\n",
      "ZABEOTYP_3              0.2001\n",
      "SEMIO_ERL               0.1804\n",
      "SEMIO_LUST              0.1614\n",
      "RETOURTYP_BK_S          0.1581\n",
      "W_KEIT_KIND_HH          0.1265\n",
      "CJT_GESAMTTYP_2.0       0.1056\n",
      "LP_STATUS_FEIN_1.0      0.1010\n",
      "FINANZTYP_5             0.0963\n",
      "Name: 1, dtype: float64\n",
      "\n",
      "And for component 2 the top negative features are:\n",
      "PRAEGENDE_JUNGENDJAHRE_DECADE   -0.2344\n",
      "FINANZ_SPARER                   -0.2235\n",
      "SEMIO_REL                       -0.2143\n",
      "FINANZ_UNAUFFAELLIGER           -0.2121\n",
      "SEMIO_TRADV                     -0.2065\n",
      "SEMIO_PFLICHT                   -0.2045\n",
      "FINANZ_ANLEGER                  -0.2022\n",
      "SEMIO_KULT                      -0.1659\n",
      "SEMIO_RAT                       -0.1658\n",
      "ONLINE_AFFINITAET               -0.1641\n",
      "Name: 1, dtype: float64\n"
     ]
    }
   ],
   "source": [
    "pos, neg = map_pca_weights(pca_e, scaled, 2)\n",
    "list_pos_neg(pos, neg, 2)"
   ]
  },
  {
   "cell_type": "markdown",
   "metadata": {},
   "source": [
    "### Component 2 Positive\n",
    "\n",
    "ALTERSKATEGORIE_GROB - Age (higher is older)\n",
    "\n",
    "FINANZ_VORSORGER - Financial preparer (higher score means lower financial preparedness)\n",
    "\n",
    "ZABEOTYP_3 - Fair supplied energy consumer (categorical)\n",
    "\n",
    "SEMIO_ERL - Event oriented personality (high score means low affinity)\n",
    "\n",
    "SEMIO_LUST - Sensual personality (high score means low affinity)\n",
    "\n",
    "RETOURTYP_BK_S - How many returns a customer makes (high score means few returns)\n",
    "\n",
    "\n",
    "### Component 2 Negative\n",
    "\n",
    "PRAEGENDE_JUNGENDJAHRE_DECADE - Decade of birth (high number is more recent)\n",
    "\n",
    "FINANZ_SPARER - Saver (high number is low saving)\n",
    "\n",
    "SEMIO_REL - Religious (high number is low affinity)\n",
    "\n",
    "FINANZ_UNAUFFAELLIGER - Financially inconspicuous (high number is low in this typology)\n",
    "\n",
    "SEMIO_TRADV - Traditional minded (high number is low affinity)\n",
    "\n",
    "SEMIO_PFLICHT - Dutiful (high number is low affinity)\n",
    "\n",
    "FINANZ_ANLEGER - Investor (high number is low in this classification)"
   ]
  },
  {
   "cell_type": "markdown",
   "metadata": {},
   "source": [
    "### Component 2 Discussion\n",
    "\n",
    "Component two is characterized by a number of traits that seem to possibly be correlated with older age and conservativism: \n",
    "\n",
    "-- lower financial preparation and financially inconspicuous, but higher rates of saving and investing\n",
    "\n",
    "-- religious, traditional minded, low affinity for sensuality and events"
   ]
  },
  {
   "cell_type": "code",
   "execution_count": 102,
   "metadata": {},
   "outputs": [
    {
     "name": "stdout",
     "output_type": "stream",
     "text": [
      "For component 3, the top positive features are:\n",
      "SEMIO_VERT           0.3204\n",
      "SEMIO_FAM            0.2603\n",
      "SEMIO_SOZ            0.2575\n",
      "SEMIO_KULT           0.2481\n",
      "FINANZTYP_5          0.1370\n",
      "FINANZ_MINIMALIST    0.1296\n",
      "SHOPPER_TYP_0.0      0.1233\n",
      "SEMIO_REL            0.1166\n",
      "ZABEOTYP_1           0.1164\n",
      "SEMIO_MAT            0.0859\n",
      "Name: 2, dtype: float64\n",
      "\n",
      "And for component 3 the top negative features are:\n",
      "ANREDE_KZ            -0.3448\n",
      "SEMIO_KAEM           -0.3149\n",
      "SEMIO_DOM            -0.2817\n",
      "SEMIO_KRIT           -0.2626\n",
      "SEMIO_ERL            -0.2050\n",
      "SEMIO_RAT            -0.1550\n",
      "FINANZ_ANLEGER       -0.1533\n",
      "FINANZTYP_1          -0.0988\n",
      "SHOPPER_TYP_2.0      -0.0983\n",
      "LP_STATUS_FEIN_2.0   -0.0804\n",
      "Name: 2, dtype: float64\n"
     ]
    }
   ],
   "source": [
    "# Map weights for the third principal component to corresponding feature names\n",
    "# and then print the linked values, sorted by weight.\n",
    "pos, neg = map_pca_weights(pca_e, scaled, 3)\n",
    "list_pos_neg(pos, neg, 3)"
   ]
  },
  {
   "cell_type": "markdown",
   "metadata": {},
   "source": [
    "### Component 3 Positive\n",
    "\n",
    "SEMIO_VERT - Dreamer (high score means low affinity)\n",
    "\n",
    "SEMIO_FAM - Family minded (high score means low affinity)\n",
    "\n",
    "SEMIO_SOZ - Socially minded (high score means low affinity)\n",
    "\n",
    "SEMIO_KULT - Cultural minded (high score means low affinity)\n",
    "\n",
    "FINANZTYP_5 - Investor (categorical)\n",
    "\n",
    "### Component 3 Negative\n",
    "\n",
    "ANREDE_KZ - Gender (higher score is more likely to be female)\n",
    "\n",
    "SEMIO_KAEM - Combative attitude (higher score is lower affinity)\n",
    "\n",
    "SEMIO_DOM - Dominant minded (higher score is lower affinity)\n",
    "\n",
    "SEMIO_KRIT - Critical minded (higher score is lower affinity)\n",
    "\n",
    "SEMIO_ERL - Event oriented (higher score is lower affinity)\n",
    "\n",
    "SEMIO_RAT - Rational (higher score is a lower affinity)\n"
   ]
  },
  {
   "cell_type": "markdown",
   "metadata": {},
   "source": [
    "### Component 3 Discussion\n",
    "\n",
    "Component 3 centers around a cluster of personality traits:\n",
    "\n",
    "-male\n",
    "\n",
    "-down to earth, not particularly socially or family oriented, less interested in culture\n",
    "\n",
    "-combative, dominant, critical, event oriented and rational\n",
    "\n",
    "Also, component 3 is associated with being an investor."
   ]
  },
  {
   "cell_type": "code",
   "execution_count": 103,
   "metadata": {},
   "outputs": [
    {
     "name": "stdout",
     "output_type": "stream",
     "text": [
      "For component 4, the top positive features are:\n",
      "PRAEGENDE_JUNGENDJAHRE_MOVEMENT    0.2906\n",
      "GREEN_AVANTGARDE                   0.2899\n",
      "LP_STATUS_FEIN_10.0                0.2395\n",
      "LP_STATUS_GROB_5.0                 0.2395\n",
      "EWDICHTE                           0.2100\n",
      "ORTSGR_KLS9                        0.2050\n",
      "ANZ_PERSONEN                       0.1364\n",
      "SEMIO_DOM                          0.1290\n",
      "ONLINE_AFFINITAET                  0.1203\n",
      "SEMIO_KAEM                         0.1183\n",
      "Name: 3, dtype: float64\n",
      "\n",
      "And for component 4 the top negative features are:\n",
      "LP_STATUS_GROB_4.0    -0.1972\n",
      "LP_STATUS_FEIN_9.0    -0.1869\n",
      "BALLRAUM              -0.1736\n",
      "INNENSTADT            -0.1706\n",
      "HH_EINKOMMEN_SCORE    -0.1616\n",
      "KKK                   -0.1604\n",
      "LP_FAMILIE_GROB_1.0   -0.1444\n",
      "LP_FAMILIE_FEIN_1.0   -0.1444\n",
      "LP_STATUS_FEIN_4.0    -0.1334\n",
      "KONSUMNAEHE           -0.1164\n",
      "Name: 3, dtype: float64\n"
     ]
    }
   ],
   "source": [
    "pos, neg = map_pca_weights(pca_e, scaled, 4)\n",
    "list_pos_neg(pos, neg, 4)"
   ]
  },
  {
   "cell_type": "markdown",
   "metadata": {},
   "source": [
    "### Component 4 Positive\n",
    "\n",
    "PRAEGENDE_JUNGENDJAHRE_MOVEMENT - Higher value indicates more avant-garde and less mainstream\n",
    "\n",
    "GREEN_AVANTGARDE - Higher value indicates interest during youth in environmental sustainability\n",
    "\n",
    "LP_STATUS_FEIN_10.0 - This categorical variable relates to top earners \n",
    "\n",
    "LP_STATUS_GROB_5.0 - Top earners (categorical)\n",
    "\n",
    "EWDICHTE - Density of households per km2 (high values indicate higher density)\n"
   ]
  },
  {
   "cell_type": "markdown",
   "metadata": {},
   "source": [
    "### Component 4 Negative\n",
    "\n",
    "LP_STATUS_GROB_4.0 - Homeowners (categorical)\n",
    "\n",
    "LP_STATUS_FEIN_9.0 - Homeowners (categorical)\n",
    "\n",
    "BALLRAUM - Distance to nearest urban center (higher means greater distance)\n",
    "\n",
    "INNENSTADT - Distance to city center (higher means greater distance)\n",
    "\n",
    "HH_EINKOMMEN_SCORE - Income (higher score means lower income)\n",
    "\n",
    "KKK - Purchasing power in region (higher score means lower purchasing power)\n"
   ]
  },
  {
   "cell_type": "markdown",
   "metadata": {},
   "source": [
    "### Component 4 Discussion\n",
    "\n",
    "Component 4 indicates:\n",
    "\n",
    "--higher income, from regions with higher purchasing power, greater representation of top earners\n",
    "\n",
    "--greater distance from city center, but higher housing per km2 (this could mean suburban areas)\n",
    "\n",
    "--more avantgarde and more likely to be involved with environmental sustainability\n",
    "\n",
    "--less likely to be homeowners\n"
   ]
  },
  {
   "cell_type": "markdown",
   "metadata": {},
   "source": [
    "## Step 3: Clustering\n",
    "\n",
    "### Step 3.1: Apply Clustering to General Population\n",
    "\n",
    "You've assessed and cleaned the demographics data, then scaled and transformed them. Now, it's time to see how the data clusters in the principal components space. In this substep, you will apply k-means clustering to the dataset and use the average within-cluster distances from each point to their assigned cluster's centroid to decide on a number of clusters to keep.\n",
    "\n",
    "- Use sklearn's [KMeans](http://scikit-learn.org/stable/modules/generated/sklearn.cluster.KMeans.html#sklearn.cluster.KMeans) class to perform k-means clustering on the PCA-transformed data.\n",
    "- Then, compute the average difference from each point to its assigned cluster's center. **Hint**: The KMeans object's `.score()` method might be useful here, but note that in sklearn, scores tend to be defined so that larger is better. Try applying it to a small, toy dataset, or use an internet search to help your understanding.\n",
    "- Perform the above two steps for a number of different cluster counts. You can then see how the average distance decreases with an increasing number of clusters. However, each additional cluster provides a smaller net benefit. Use this fact to select a final number of clusters in which to group the data. **Warning**: because of the large size of the dataset, it can take a long time for the algorithm to resolve. The more clusters to fit, the longer the algorithm will take. You should test for cluster counts through at least 10 clusters to get the full picture, but you shouldn't need to test for a number of clusters above about 30.\n",
    "- Once you've selected a final number of clusters to use, re-fit a KMeans instance to perform the clustering operation. Make sure that you also obtain the cluster assignments for the general demographics data, since you'll be using them in the final Step 3.3."
   ]
  },
  {
   "cell_type": "code",
   "execution_count": 71,
   "metadata": {},
   "outputs": [
    {
     "name": "stdout",
     "output_type": "stream",
     "text": [
      "Completed 5 with score 29360535.77023995\n",
      "Completed 6 with score 28009536.029679254\n",
      "Completed 7 with score 26892040.62002592\n",
      "Completed 8 with score 25964370.62125579\n",
      "Completed 9 with score 25116656.939602368\n",
      "Completed 10 with score 24345912.657562584\n",
      "Completed 11 with score 23767754.857518997\n",
      "Completed 12 with score 23213081.332643256\n",
      "Completed 13 with score 22737058.95577623\n",
      "Completed 14 with score 22386612.270487648\n",
      "Completed 15 with score 21891425.49604696\n",
      "Completed 16 with score 21575252.893535558\n",
      "Completed 17 with score 21303000.901744224\n",
      "Completed 18 with score 20938942.662899066\n",
      "Completed 19 with score 20598915.009102903\n"
     ]
    }
   ],
   "source": [
    "scores = {}\n",
    "for i in range(5,20):\n",
    "    kmeans = KMeans(n_clusters=i, n_jobs=-1)\n",
    "    kmeans = kmeans.fit(df_pca_e)\n",
    "    scores[i] = np.abs(kmeans.score(df_pca_e))\n",
    "    print(f'Completed {i} with score {scores[i]}')"
   ]
  },
  {
   "cell_type": "code",
   "execution_count": 73,
   "metadata": {},
   "outputs": [
    {
     "data": {
      "image/png": "[encoded data removed]",
      "text/plain": [
       "<matplotlib.figure.Figure at 0x7f5d281395c0>"
      ]
     },
     "metadata": {
      "needs_background": "light"
     },
     "output_type": "display_data"
    }
   ],
   "source": [
    "# Investigate the change in within-cluster distance across number of clusters.\n",
    "# HINT: Use matplotlib's plot function to visualize this relationship.\n",
    "fig, ax = plt.subplots(figsize=(14,6))    \n",
    "ax = pd.Series(scores).plot()\n",
    "ax.set_xticks(np.arange(5,20));  \n",
    "ax.set_xlabel(\"Clusters\")\n",
    "ax.set_ylabel(\"Total Distance\");\n"
   ]
  },
  {
   "cell_type": "markdown",
   "metadata": {},
   "source": [
    "From the visualization above, it seems that there is a slight elbow at 10, so we will use 10 as our number of clusters."
   ]
  },
  {
   "cell_type": "code",
   "execution_count": 104,
   "metadata": {},
   "outputs": [],
   "source": [
    "# Re-fit the k-means model with the selected number of clusters and obtain\n",
    "# cluster predictions for the general population demographics data.\n",
    "kmeans = KMeans(n_clusters=10, n_jobs=-1)\n",
    "kmeans = kmeans.fit(df_pca_e)"
   ]
  },
  {
   "cell_type": "markdown",
   "metadata": {},
   "source": [
    "### Discussion 3.1: Apply Clustering to General Population\n",
    "\n",
    "We tried many different cluster sizes to find out the cluster size that will give us the most insight in the data. In a line graph of the kmeans scores, we see a slight elbow at 10. The graph reflects the diminishing usefulness of each additional cluster, and we should try to find the smallest number of clusters that fits the data well. The elbow shows a smaller rate of change in the score, and thus is a logical value to choose for the number of clusters. So we go forward with 10 clusters."
   ]
  },
  {
   "cell_type": "markdown",
   "metadata": {},
   "source": [
    "### Step 3.2: Apply All Steps to the Customer Data\n",
    "\n",
    "Now that you have clusters and cluster centers for the general population, it's time to see how the customer data maps on to those clusters. Take care to not confuse this for re-fitting all of the models to the customer data. Instead, you're going to use the fits from the general population to clean, transform, and cluster the customer data. In the last step of the project, you will interpret how the general population fits apply to the customer data.\n",
    "\n",
    "- Don't forget when loading in the customers data, that it is semicolon (`;`) delimited.\n",
    "- Apply the same feature wrangling, selection, and engineering steps to the customer demographics using the `clean_data()` function you created earlier. (You can assume that the customer demographics data has similar meaning behind missing data patterns as the general demographics data.)\n",
    "- Use the sklearn objects from the general demographics data, and apply their transformations to the customers data. That is, you should not be using a `.fit()` or `.fit_transform()` method to re-fit the old objects, nor should you be creating new sklearn objects! Carry the data through the feature scaling, PCA, and clustering steps, obtaining cluster assignments for all of the data in the customer demographics data."
   ]
  },
  {
   "cell_type": "code",
   "execution_count": 105,
   "metadata": {},
   "outputs": [
    {
     "data": {
      "text/html": [
       "<div>\n",
       "<style scoped>\n",
       "    .dataframe tbody tr th:only-of-type {\n",
       "        vertical-align: middle;\n",
       "    }\n",
       "\n",
       "    .dataframe tbody tr th {\n",
       "        vertical-align: top;\n",
       "    }\n",
       "\n",
       "    .dataframe thead th {\n",
       "        text-align: right;\n",
       "    }\n",
       "</style>\n",
       "<table border=\"1\" class=\"dataframe\">\n",
       "  <thead>\n",
       "    <tr style=\"text-align: right;\">\n",
       "      <th></th>\n",
       "      <th>AGER_TYP</th>\n",
       "      <th>ALTERSKATEGORIE_GROB</th>\n",
       "      <th>ANREDE_KZ</th>\n",
       "      <th>CJT_GESAMTTYP</th>\n",
       "      <th>FINANZ_MINIMALIST</th>\n",
       "      <th>FINANZ_SPARER</th>\n",
       "      <th>FINANZ_VORSORGER</th>\n",
       "      <th>FINANZ_ANLEGER</th>\n",
       "      <th>FINANZ_UNAUFFAELLIGER</th>\n",
       "      <th>FINANZ_HAUSBAUER</th>\n",
       "      <th>...</th>\n",
       "      <th>PLZ8_ANTG1</th>\n",
       "      <th>PLZ8_ANTG2</th>\n",
       "      <th>PLZ8_ANTG3</th>\n",
       "      <th>PLZ8_ANTG4</th>\n",
       "      <th>PLZ8_BAUMAX</th>\n",
       "      <th>PLZ8_HHZ</th>\n",
       "      <th>PLZ8_GBZ</th>\n",
       "      <th>ARBEIT</th>\n",
       "      <th>ORTSGR_KLS9</th>\n",
       "      <th>RELAT_AB</th>\n",
       "    </tr>\n",
       "  </thead>\n",
       "  <tbody>\n",
       "    <tr>\n",
       "      <th>0</th>\n",
       "      <td>2</td>\n",
       "      <td>4</td>\n",
       "      <td>1</td>\n",
       "      <td>5.0</td>\n",
       "      <td>5</td>\n",
       "      <td>1</td>\n",
       "      <td>5</td>\n",
       "      <td>1</td>\n",
       "      <td>2</td>\n",
       "      <td>2</td>\n",
       "      <td>...</td>\n",
       "      <td>3.0</td>\n",
       "      <td>3.0</td>\n",
       "      <td>1.0</td>\n",
       "      <td>0.0</td>\n",
       "      <td>1.0</td>\n",
       "      <td>5.0</td>\n",
       "      <td>5.0</td>\n",
       "      <td>1.0</td>\n",
       "      <td>2.0</td>\n",
       "      <td>1.0</td>\n",
       "    </tr>\n",
       "    <tr>\n",
       "      <th>1</th>\n",
       "      <td>-1</td>\n",
       "      <td>4</td>\n",
       "      <td>1</td>\n",
       "      <td>NaN</td>\n",
       "      <td>5</td>\n",
       "      <td>1</td>\n",
       "      <td>5</td>\n",
       "      <td>1</td>\n",
       "      <td>3</td>\n",
       "      <td>2</td>\n",
       "      <td>...</td>\n",
       "      <td>NaN</td>\n",
       "      <td>NaN</td>\n",
       "      <td>NaN</td>\n",
       "      <td>NaN</td>\n",
       "      <td>NaN</td>\n",
       "      <td>NaN</td>\n",
       "      <td>NaN</td>\n",
       "      <td>NaN</td>\n",
       "      <td>NaN</td>\n",
       "      <td>NaN</td>\n",
       "    </tr>\n",
       "    <tr>\n",
       "      <th>2</th>\n",
       "      <td>-1</td>\n",
       "      <td>4</td>\n",
       "      <td>2</td>\n",
       "      <td>2.0</td>\n",
       "      <td>5</td>\n",
       "      <td>1</td>\n",
       "      <td>5</td>\n",
       "      <td>1</td>\n",
       "      <td>4</td>\n",
       "      <td>4</td>\n",
       "      <td>...</td>\n",
       "      <td>2.0</td>\n",
       "      <td>3.0</td>\n",
       "      <td>3.0</td>\n",
       "      <td>1.0</td>\n",
       "      <td>3.0</td>\n",
       "      <td>3.0</td>\n",
       "      <td>2.0</td>\n",
       "      <td>3.0</td>\n",
       "      <td>5.0</td>\n",
       "      <td>3.0</td>\n",
       "    </tr>\n",
       "    <tr>\n",
       "      <th>3</th>\n",
       "      <td>1</td>\n",
       "      <td>4</td>\n",
       "      <td>1</td>\n",
       "      <td>2.0</td>\n",
       "      <td>5</td>\n",
       "      <td>1</td>\n",
       "      <td>5</td>\n",
       "      <td>2</td>\n",
       "      <td>1</td>\n",
       "      <td>2</td>\n",
       "      <td>...</td>\n",
       "      <td>3.0</td>\n",
       "      <td>2.0</td>\n",
       "      <td>1.0</td>\n",
       "      <td>0.0</td>\n",
       "      <td>1.0</td>\n",
       "      <td>3.0</td>\n",
       "      <td>4.0</td>\n",
       "      <td>1.0</td>\n",
       "      <td>3.0</td>\n",
       "      <td>1.0</td>\n",
       "    </tr>\n",
       "    <tr>\n",
       "      <th>4</th>\n",
       "      <td>-1</td>\n",
       "      <td>3</td>\n",
       "      <td>1</td>\n",
       "      <td>6.0</td>\n",
       "      <td>3</td>\n",
       "      <td>1</td>\n",
       "      <td>4</td>\n",
       "      <td>4</td>\n",
       "      <td>5</td>\n",
       "      <td>2</td>\n",
       "      <td>...</td>\n",
       "      <td>2.0</td>\n",
       "      <td>4.0</td>\n",
       "      <td>2.0</td>\n",
       "      <td>1.0</td>\n",
       "      <td>2.0</td>\n",
       "      <td>3.0</td>\n",
       "      <td>3.0</td>\n",
       "      <td>3.0</td>\n",
       "      <td>5.0</td>\n",
       "      <td>1.0</td>\n",
       "    </tr>\n",
       "  </tbody>\n",
       "</table>\n",
       "<p>5 rows × 85 columns</p>\n",
       "</div>"
      ],
      "text/plain": [
       "   AGER_TYP  ALTERSKATEGORIE_GROB  ANREDE_KZ  CJT_GESAMTTYP  \\\n",
       "0         2                     4          1            5.0   \n",
       "1        -1                     4          1            NaN   \n",
       "2        -1                     4          2            2.0   \n",
       "3         1                     4          1            2.0   \n",
       "4        -1                     3          1            6.0   \n",
       "\n",
       "   FINANZ_MINIMALIST  FINANZ_SPARER  FINANZ_VORSORGER  FINANZ_ANLEGER  \\\n",
       "0                  5              1                 5               1   \n",
       "1                  5              1                 5               1   \n",
       "2                  5              1                 5               1   \n",
       "3                  5              1                 5               2   \n",
       "4                  3              1                 4               4   \n",
       "\n",
       "   FINANZ_UNAUFFAELLIGER  FINANZ_HAUSBAUER    ...     PLZ8_ANTG1  PLZ8_ANTG2  \\\n",
       "0                      2                 2    ...            3.0         3.0   \n",
       "1                      3                 2    ...            NaN         NaN   \n",
       "2                      4                 4    ...            2.0         3.0   \n",
       "3                      1                 2    ...            3.0         2.0   \n",
       "4                      5                 2    ...            2.0         4.0   \n",
       "\n",
       "   PLZ8_ANTG3  PLZ8_ANTG4  PLZ8_BAUMAX  PLZ8_HHZ  PLZ8_GBZ  ARBEIT  \\\n",
       "0         1.0         0.0          1.0       5.0       5.0     1.0   \n",
       "1         NaN         NaN          NaN       NaN       NaN     NaN   \n",
       "2         3.0         1.0          3.0       3.0       2.0     3.0   \n",
       "3         1.0         0.0          1.0       3.0       4.0     1.0   \n",
       "4         2.0         1.0          2.0       3.0       3.0     3.0   \n",
       "\n",
       "   ORTSGR_KLS9  RELAT_AB  \n",
       "0          2.0       1.0  \n",
       "1          NaN       NaN  \n",
       "2          5.0       3.0  \n",
       "3          3.0       1.0  \n",
       "4          5.0       1.0  \n",
       "\n",
       "[5 rows x 85 columns]"
      ]
     },
     "execution_count": 105,
     "metadata": {},
     "output_type": "execute_result"
    }
   ],
   "source": [
    "# Load in the customer demographics data.\n",
    "customers = pd.read_csv('Udacity_CUSTOMERS_Subset.csv', sep=';')\n",
    "customers.head()"
   ]
  },
  {
   "cell_type": "code",
   "execution_count": 106,
   "metadata": {},
   "outputs": [
    {
     "data": {
      "text/plain": [
       "(133427, 191)"
      ]
     },
     "execution_count": 106,
     "metadata": {},
     "output_type": "execute_result"
    }
   ],
   "source": [
    "# Apply preprocessing, feature transformation, and clustering from the general\n",
    "# demographics onto the customer data, obtaining cluster predictions for the\n",
    "# customer demographics data.\n",
    "customers = clean_data(customers)\n",
    "customers.shape"
   ]
  },
  {
   "cell_type": "code",
   "execution_count": 107,
   "metadata": {},
   "outputs": [
    {
     "name": "stdout",
     "output_type": "stream",
     "text": [
      "['GEBAEUDETYP_5.0']\n"
     ]
    }
   ],
   "source": [
    "customer_cols = list(customers.columns)\n",
    "azdias_cols = list(azdias.columns)\n",
    "for col in customers.columns:\n",
    "    azdias_cols.remove(col)\n",
    "print(azdias_cols)"
   ]
  },
  {
   "cell_type": "markdown",
   "metadata": {},
   "source": [
    "There is one column fewer for the customers data frame than for the azdias data frame. This is because of the categorical variable one-hot encoding - there was one fewer category represented in the customer data set. This is not a problem. We can see that the column is GEBAEUDETYP_5.0. So we will add this column to customers and fill it with 0's"
   ]
  },
  {
   "cell_type": "code",
   "execution_count": 108,
   "metadata": {},
   "outputs": [],
   "source": [
    "customers['GEBAEUDETYP_5.0'] = 0"
   ]
  },
  {
   "cell_type": "code",
   "execution_count": 109,
   "metadata": {},
   "outputs": [],
   "source": [
    "customers_imputed = imputer.transform(customers)"
   ]
  },
  {
   "cell_type": "code",
   "execution_count": 110,
   "metadata": {},
   "outputs": [
    {
     "data": {
      "text/html": [
       "<div>\n",
       "<style scoped>\n",
       "    .dataframe tbody tr th:only-of-type {\n",
       "        vertical-align: middle;\n",
       "    }\n",
       "\n",
       "    .dataframe tbody tr th {\n",
       "        vertical-align: top;\n",
       "    }\n",
       "\n",
       "    .dataframe thead th {\n",
       "        text-align: right;\n",
       "    }\n",
       "</style>\n",
       "<table border=\"1\" class=\"dataframe\">\n",
       "  <thead>\n",
       "    <tr style=\"text-align: right;\">\n",
       "      <th></th>\n",
       "      <th>ALTERSKATEGORIE_GROB</th>\n",
       "      <th>ANREDE_KZ</th>\n",
       "      <th>FINANZ_MINIMALIST</th>\n",
       "      <th>FINANZ_SPARER</th>\n",
       "      <th>FINANZ_VORSORGER</th>\n",
       "      <th>FINANZ_ANLEGER</th>\n",
       "      <th>FINANZ_UNAUFFAELLIGER</th>\n",
       "      <th>FINANZ_HAUSBAUER</th>\n",
       "      <th>GREEN_AVANTGARDE</th>\n",
       "      <th>HEALTH_TYP</th>\n",
       "      <th>...</th>\n",
       "      <th>CAMEO_DEU_2015_9A</th>\n",
       "      <th>CAMEO_DEU_2015_9B</th>\n",
       "      <th>CAMEO_DEU_2015_9C</th>\n",
       "      <th>CAMEO_DEU_2015_9D</th>\n",
       "      <th>CAMEO_DEU_2015_9E</th>\n",
       "      <th>PRAEGENDE_JUNGENDJAHRE_DECADE</th>\n",
       "      <th>PRAEGENDE_JUNGENDJAHRE_MOVEMENT</th>\n",
       "      <th>CAMEO_INTL_2015_WEALTH</th>\n",
       "      <th>CAMEO_INTL_2015_STAGE</th>\n",
       "      <th>GEBAEUDETYP_5.0</th>\n",
       "    </tr>\n",
       "  </thead>\n",
       "  <tbody>\n",
       "    <tr>\n",
       "      <th>0</th>\n",
       "      <td>-1.754375</td>\n",
       "      <td>0.962859</td>\n",
       "      <td>-1.503661</td>\n",
       "      <td>1.559941</td>\n",
       "      <td>-1.049535</td>\n",
       "      <td>1.490708</td>\n",
       "      <td>1.013168</td>\n",
       "      <td>1.331159</td>\n",
       "      <td>-0.536372</td>\n",
       "      <td>1.065804</td>\n",
       "      <td>...</td>\n",
       "      <td>-0.164254</td>\n",
       "      <td>-0.19162</td>\n",
       "      <td>-0.180623</td>\n",
       "      <td>-0.195966</td>\n",
       "      <td>-0.087052</td>\n",
       "      <td>1.164694</td>\n",
       "      <td>-0.549948</td>\n",
       "      <td>1.173102</td>\n",
       "      <td>-1.259383</td>\n",
       "      <td>-0.001157</td>\n",
       "    </tr>\n",
       "    <tr>\n",
       "      <th>1</th>\n",
       "      <td>0.198908</td>\n",
       "      <td>0.962859</td>\n",
       "      <td>-1.503661</td>\n",
       "      <td>0.884836</td>\n",
       "      <td>-1.773085</td>\n",
       "      <td>-0.555630</td>\n",
       "      <td>0.291141</td>\n",
       "      <td>1.331159</td>\n",
       "      <td>1.864378</td>\n",
       "      <td>1.065804</td>\n",
       "      <td>...</td>\n",
       "      <td>-0.164254</td>\n",
       "      <td>-0.19162</td>\n",
       "      <td>-0.180623</td>\n",
       "      <td>-0.195966</td>\n",
       "      <td>-0.087052</td>\n",
       "      <td>1.164694</td>\n",
       "      <td>1.858454</td>\n",
       "      <td>-0.877743</td>\n",
       "      <td>0.756001</td>\n",
       "      <td>-0.001157</td>\n",
       "    </tr>\n",
       "    <tr>\n",
       "      <th>2</th>\n",
       "      <td>1.175549</td>\n",
       "      <td>0.962859</td>\n",
       "      <td>0.685685</td>\n",
       "      <td>-0.465374</td>\n",
       "      <td>1.121117</td>\n",
       "      <td>-0.555630</td>\n",
       "      <td>-1.152912</td>\n",
       "      <td>-0.831846</td>\n",
       "      <td>-0.536372</td>\n",
       "      <td>-0.280182</td>\n",
       "      <td>...</td>\n",
       "      <td>-0.164254</td>\n",
       "      <td>-0.19162</td>\n",
       "      <td>-0.180623</td>\n",
       "      <td>-0.195966</td>\n",
       "      <td>-0.087052</td>\n",
       "      <td>-0.219810</td>\n",
       "      <td>-0.549948</td>\n",
       "      <td>-1.561358</td>\n",
       "      <td>-0.587588</td>\n",
       "      <td>-0.001157</td>\n",
       "    </tr>\n",
       "    <tr>\n",
       "      <th>3</th>\n",
       "      <td>0.198908</td>\n",
       "      <td>-1.038573</td>\n",
       "      <td>0.685685</td>\n",
       "      <td>0.209731</td>\n",
       "      <td>0.397566</td>\n",
       "      <td>-1.237743</td>\n",
       "      <td>0.291141</td>\n",
       "      <td>-0.831846</td>\n",
       "      <td>-0.536372</td>\n",
       "      <td>1.065804</td>\n",
       "      <td>...</td>\n",
       "      <td>-0.164254</td>\n",
       "      <td>-0.19162</td>\n",
       "      <td>-0.180623</td>\n",
       "      <td>-0.195966</td>\n",
       "      <td>-0.087052</td>\n",
       "      <td>-0.219810</td>\n",
       "      <td>-0.549948</td>\n",
       "      <td>0.489487</td>\n",
       "      <td>0.084207</td>\n",
       "      <td>-0.001157</td>\n",
       "    </tr>\n",
       "    <tr>\n",
       "      <th>4</th>\n",
       "      <td>-1.754375</td>\n",
       "      <td>0.962859</td>\n",
       "      <td>-0.044097</td>\n",
       "      <td>-1.140479</td>\n",
       "      <td>1.121117</td>\n",
       "      <td>-0.555630</td>\n",
       "      <td>-0.430886</td>\n",
       "      <td>1.331159</td>\n",
       "      <td>-0.536372</td>\n",
       "      <td>1.065804</td>\n",
       "      <td>...</td>\n",
       "      <td>-0.164254</td>\n",
       "      <td>-0.19162</td>\n",
       "      <td>-0.180623</td>\n",
       "      <td>-0.195966</td>\n",
       "      <td>-0.087052</td>\n",
       "      <td>-1.604315</td>\n",
       "      <td>-0.549948</td>\n",
       "      <td>1.173102</td>\n",
       "      <td>0.756001</td>\n",
       "      <td>-0.001157</td>\n",
       "    </tr>\n",
       "  </tbody>\n",
       "</table>\n",
       "<p>5 rows × 192 columns</p>\n",
       "</div>"
      ],
      "text/plain": [
       "   ALTERSKATEGORIE_GROB  ANREDE_KZ  FINANZ_MINIMALIST  FINANZ_SPARER  \\\n",
       "0             -1.754375   0.962859          -1.503661       1.559941   \n",
       "1              0.198908   0.962859          -1.503661       0.884836   \n",
       "2              1.175549   0.962859           0.685685      -0.465374   \n",
       "3              0.198908  -1.038573           0.685685       0.209731   \n",
       "4             -1.754375   0.962859          -0.044097      -1.140479   \n",
       "\n",
       "   FINANZ_VORSORGER  FINANZ_ANLEGER  FINANZ_UNAUFFAELLIGER  FINANZ_HAUSBAUER  \\\n",
       "0         -1.049535        1.490708               1.013168          1.331159   \n",
       "1         -1.773085       -0.555630               0.291141          1.331159   \n",
       "2          1.121117       -0.555630              -1.152912         -0.831846   \n",
       "3          0.397566       -1.237743               0.291141         -0.831846   \n",
       "4          1.121117       -0.555630              -0.430886          1.331159   \n",
       "\n",
       "   GREEN_AVANTGARDE  HEALTH_TYP       ...         CAMEO_DEU_2015_9A  \\\n",
       "0         -0.536372    1.065804       ...                 -0.164254   \n",
       "1          1.864378    1.065804       ...                 -0.164254   \n",
       "2         -0.536372   -0.280182       ...                 -0.164254   \n",
       "3         -0.536372    1.065804       ...                 -0.164254   \n",
       "4         -0.536372    1.065804       ...                 -0.164254   \n",
       "\n",
       "   CAMEO_DEU_2015_9B  CAMEO_DEU_2015_9C  CAMEO_DEU_2015_9D  CAMEO_DEU_2015_9E  \\\n",
       "0           -0.19162          -0.180623          -0.195966          -0.087052   \n",
       "1           -0.19162          -0.180623          -0.195966          -0.087052   \n",
       "2           -0.19162          -0.180623          -0.195966          -0.087052   \n",
       "3           -0.19162          -0.180623          -0.195966          -0.087052   \n",
       "4           -0.19162          -0.180623          -0.195966          -0.087052   \n",
       "\n",
       "   PRAEGENDE_JUNGENDJAHRE_DECADE  PRAEGENDE_JUNGENDJAHRE_MOVEMENT  \\\n",
       "0                       1.164694                        -0.549948   \n",
       "1                       1.164694                         1.858454   \n",
       "2                      -0.219810                        -0.549948   \n",
       "3                      -0.219810                        -0.549948   \n",
       "4                      -1.604315                        -0.549948   \n",
       "\n",
       "   CAMEO_INTL_2015_WEALTH  CAMEO_INTL_2015_STAGE  GEBAEUDETYP_5.0  \n",
       "0                1.173102              -1.259383        -0.001157  \n",
       "1               -0.877743               0.756001        -0.001157  \n",
       "2               -1.561358              -0.587588        -0.001157  \n",
       "3                0.489487               0.084207        -0.001157  \n",
       "4                1.173102               0.756001        -0.001157  \n",
       "\n",
       "[5 rows x 192 columns]"
      ]
     },
     "execution_count": 110,
     "metadata": {},
     "output_type": "execute_result"
    }
   ],
   "source": [
    "customers_scaled = scaler.transform(customers_imputed)\n",
    "customers_scaled = pd.DataFrame(scaled, columns=customers.columns)\n",
    "customers_scaled.head()"
   ]
  },
  {
   "cell_type": "code",
   "execution_count": 111,
   "metadata": {},
   "outputs": [
    {
     "data": {
      "text/plain": [
       "(747109, 13)"
      ]
     },
     "execution_count": 111,
     "metadata": {},
     "output_type": "execute_result"
    }
   ],
   "source": [
    "customers_pca = pca_e.transform(customers_scaled)\n",
    "customers_pca.shape"
   ]
  },
  {
   "cell_type": "code",
   "execution_count": 112,
   "metadata": {},
   "outputs": [],
   "source": [
    "cust_labels = kmeans.predict(customers_pca)"
   ]
  },
  {
   "cell_type": "code",
   "execution_count": 113,
   "metadata": {},
   "outputs": [
    {
     "data": {
      "text/plain": [
       "(array([0, 1, 2, 3, 4, 5, 6, 7, 8, 9], dtype=int32),\n",
       " array([ 58897,  74426,  61181,  81613,  74502, 105600,  30576,  80852,\n",
       "         99459,  80003]))"
      ]
     },
     "execution_count": 113,
     "metadata": {},
     "output_type": "execute_result"
    }
   ],
   "source": [
    "cust_unique = np.unique(cust_labels, return_counts=True)\n",
    "cust_unique"
   ]
  },
  {
   "cell_type": "markdown",
   "metadata": {},
   "source": [
    "Above we see that our customers dataset has been clustered into 10 clusters, following the same scaling, imputing and clustering algorithms as used for the general population."
   ]
  },
  {
   "cell_type": "markdown",
   "metadata": {},
   "source": [
    "### Step 3.3: Compare Customer Data to Demographics Data\n",
    "\n",
    "At this point, you have clustered data based on demographics of the general population of Germany, and seen how the customer data for a mail-order sales company maps onto those demographic clusters. In this final substep, you will compare the two cluster distributions to see where the strongest customer base for the company is.\n",
    "\n",
    "Consider the proportion of persons in each cluster for the general population, and the proportions for the customers. If we think the company's customer base to be universal, then the cluster assignment proportions should be fairly similar between the two. If there are only particular segments of the population that are interested in the company's products, then we should see a mismatch from one to the other. If there is a higher proportion of persons in a cluster for the customer data compared to the general population (e.g. 5% of persons are assigned to a cluster for the general population, but 15% of the customer data is closest to that cluster's centroid) then that suggests the people in that cluster to be a target audience for the company. On the other hand, the proportion of the data in a cluster being larger in the general population than the customer data (e.g. only 2% of customers closest to a population centroid that captures 6% of the data) suggests that group of persons to be outside of the target demographics.\n",
    "\n",
    "Take a look at the following points in this step:\n",
    "\n",
    "- Compute the proportion of data points in each cluster for the general population and the customer data. Visualizations will be useful here: both for the individual dataset proportions, but also to visualize the ratios in cluster representation between groups. Seaborn's [`countplot()`](https://seaborn.pydata.org/generated/seaborn.countplot.html) or [`barplot()`](https://seaborn.pydata.org/generated/seaborn.barplot.html) function could be handy.\n",
    "  - Recall the analysis you performed in step 1.1.3 of the project, where you separated out certain data points from the dataset if they had more than a specified threshold of missing values. If you found that this group was qualitatively different from the main bulk of the data, you should treat this as an additional data cluster in this analysis. Make sure that you account for the number of data points in this subset, for both the general population and customer datasets, when making your computations!\n",
    "- Which cluster or clusters are overrepresented in the customer dataset compared to the general population? Select at least one such cluster and infer what kind of people might be represented by that cluster. Use the principal component interpretations from step 2.3 or look at additional components to help you make this inference. Alternatively, you can use the `.inverse_transform()` method of the PCA and StandardScaler objects to transform centroids back to the original data space and interpret the retrieved values directly.\n",
    "- Perform a similar investigation for the underrepresented clusters. Which cluster or clusters are underrepresented in the customer dataset compared to the general population, and what kinds of people are typified by these clusters?"
   ]
  },
  {
   "cell_type": "code",
   "execution_count": 114,
   "metadata": {},
   "outputs": [
    {
     "data": {
      "text/plain": [
       "747109"
      ]
     },
     "execution_count": 114,
     "metadata": {},
     "output_type": "execute_result"
    }
   ],
   "source": [
    "# Compare the proportion of data in each cluster for the customer data to the\n",
    "# proportion of data in each cluster for the general population.\n",
    "pop_labels = kmeans.labels_\n",
    "len(pop_labels)"
   ]
  },
  {
   "cell_type": "code",
   "execution_count": 115,
   "metadata": {},
   "outputs": [
    {
     "data": {
      "text/plain": [
       "(array([0, 1, 2, 3, 4, 5, 6, 7, 8, 9], dtype=int32),\n",
       " array([ 56242,  70247,  64082,  93479,  72717, 101455,  30088,  83017,\n",
       "         96124,  79658]))"
      ]
     },
     "execution_count": 115,
     "metadata": {},
     "output_type": "execute_result"
    }
   ],
   "source": [
    "pop_unique = np.unique(pop_labels, return_counts=True)\n",
    "pop_unique"
   ]
  },
  {
   "cell_type": "code",
   "execution_count": 116,
   "metadata": {},
   "outputs": [
    {
     "data": {
      "text/plain": [
       "(array([0, 1, 2, 3, 4, 5, 6, 7, 8, 9], dtype=int32),\n",
       " array([ 58897,  74426,  61181,  81613,  74502, 105600,  30576,  80852,\n",
       "         99459,  80003]))"
      ]
     },
     "execution_count": 116,
     "metadata": {},
     "output_type": "execute_result"
    }
   ],
   "source": [
    "cust_unique"
   ]
  },
  {
   "cell_type": "code",
   "execution_count": 117,
   "metadata": {},
   "outputs": [
    {
     "data": {
      "image/png": "[encoded data removed]",
      "text/plain": [
       "<matplotlib.figure.Figure at 0x7f117f2e5208>"
      ]
     },
     "metadata": {
      "needs_background": "light"
     },
     "output_type": "display_data"
    }
   ],
   "source": [
    "fig, axes = plt.subplots(1,2, figsize=(16, 10), sharey=True)\n",
    "sns.barplot(x=pop_unique[0], y=pop_unique[1], color='b', ax=axes[0]);\n",
    "sns.barplot(x=cust_unique[0], y=cust_unique[1], color='g', ax=axes[1]);\n",
    "\n",
    "axes[0].set_title('General Population')\n",
    "axes[1].set_title('Customer Data');"
   ]
  },
  {
   "cell_type": "markdown",
   "metadata": {},
   "source": [
    "The charts are different, but the differences are not well visualized. So now we will look at the differences:"
   ]
  },
  {
   "cell_type": "code",
   "execution_count": 118,
   "metadata": {},
   "outputs": [
    {
     "data": {
      "text/plain": [
       "array([  2655,   4179,  -2901, -11866,   1785,   4145,    488,  -2165,\n",
       "         3335,    345])"
      ]
     },
     "execution_count": 118,
     "metadata": {},
     "output_type": "execute_result"
    }
   ],
   "source": [
    "difference = np.subtract(cust_unique[1], pop_unique[1])\n",
    "difference"
   ]
  },
  {
   "cell_type": "code",
   "execution_count": 119,
   "metadata": {},
   "outputs": [
    {
     "data": {
      "image/png": "[encoded data removed]",
      "text/plain": [
       "<matplotlib.figure.Figure at 0x7f117f5e72e8>"
      ]
     },
     "metadata": {
      "needs_background": "light"
     },
     "output_type": "display_data"
    }
   ],
   "source": [
    "sns.barplot(x=pop_unique[0], y=difference, color='b');"
   ]
  },
  {
   "cell_type": "markdown",
   "metadata": {},
   "source": [
    "### Discussion\n",
    "We see that our customers are unlikely to be in cluster 3. That is the by far the strongest result. Furthermore, they are likely to be in cluster 1 and cluster 5, but that effect is much weaker. So let's explore what features cluster 3 represents. First we add the labels into a dataframe with the PCA features."
   ]
  },
  {
   "cell_type": "code",
   "execution_count": 120,
   "metadata": {},
   "outputs": [
    {
     "data": {
      "text/html": [
       "<div>\n",
       "<style scoped>\n",
       "    .dataframe tbody tr th:only-of-type {\n",
       "        vertical-align: middle;\n",
       "    }\n",
       "\n",
       "    .dataframe tbody tr th {\n",
       "        vertical-align: top;\n",
       "    }\n",
       "\n",
       "    .dataframe thead th {\n",
       "        text-align: right;\n",
       "    }\n",
       "</style>\n",
       "<table border=\"1\" class=\"dataframe\">\n",
       "  <thead>\n",
       "    <tr style=\"text-align: right;\">\n",
       "      <th></th>\n",
       "      <th>1</th>\n",
       "      <th>2</th>\n",
       "      <th>3</th>\n",
       "      <th>4</th>\n",
       "      <th>5</th>\n",
       "      <th>6</th>\n",
       "      <th>7</th>\n",
       "      <th>8</th>\n",
       "      <th>9</th>\n",
       "      <th>10</th>\n",
       "      <th>11</th>\n",
       "      <th>12</th>\n",
       "      <th>13</th>\n",
       "      <th>cluster</th>\n",
       "    </tr>\n",
       "  </thead>\n",
       "  <tbody>\n",
       "    <tr>\n",
       "      <th>count</th>\n",
       "      <td>7.471090e+05</td>\n",
       "      <td>7.471090e+05</td>\n",
       "      <td>7.471090e+05</td>\n",
       "      <td>7.471090e+05</td>\n",
       "      <td>7.471090e+05</td>\n",
       "      <td>7.471090e+05</td>\n",
       "      <td>7.471090e+05</td>\n",
       "      <td>7.471090e+05</td>\n",
       "      <td>7.471090e+05</td>\n",
       "      <td>7.471090e+05</td>\n",
       "      <td>7.471090e+05</td>\n",
       "      <td>7.471090e+05</td>\n",
       "      <td>7.471090e+05</td>\n",
       "      <td>747109.000000</td>\n",
       "    </tr>\n",
       "    <tr>\n",
       "      <th>mean</th>\n",
       "      <td>4.864463e-16</td>\n",
       "      <td>-2.461619e-16</td>\n",
       "      <td>-1.080533e-15</td>\n",
       "      <td>-7.821297e-16</td>\n",
       "      <td>6.238264e-16</td>\n",
       "      <td>1.456828e-16</td>\n",
       "      <td>3.527753e-16</td>\n",
       "      <td>-3.058787e-16</td>\n",
       "      <td>6.935103e-17</td>\n",
       "      <td>1.009261e-16</td>\n",
       "      <td>-1.628208e-17</td>\n",
       "      <td>5.848711e-16</td>\n",
       "      <td>-1.941391e-16</td>\n",
       "      <td>4.728566</td>\n",
       "    </tr>\n",
       "    <tr>\n",
       "      <th>std</th>\n",
       "      <td>3.420840e+00</td>\n",
       "      <td>3.117848e+00</td>\n",
       "      <td>2.580790e+00</td>\n",
       "      <td>2.061164e+00</td>\n",
       "      <td>1.904167e+00</td>\n",
       "      <td>1.673989e+00</td>\n",
       "      <td>1.587994e+00</td>\n",
       "      <td>1.403894e+00</td>\n",
       "      <td>1.439101e+00</td>\n",
       "      <td>1.536362e+00</td>\n",
       "      <td>1.449162e+00</td>\n",
       "      <td>1.157566e+00</td>\n",
       "      <td>1.101616e+00</td>\n",
       "      <td>2.854823</td>\n",
       "    </tr>\n",
       "    <tr>\n",
       "      <th>min</th>\n",
       "      <td>-9.307187e+01</td>\n",
       "      <td>-8.804873e+00</td>\n",
       "      <td>-9.669468e+00</td>\n",
       "      <td>-6.831736e+00</td>\n",
       "      <td>-5.070503e+01</td>\n",
       "      <td>-5.458039e+00</td>\n",
       "      <td>-8.394290e+01</td>\n",
       "      <td>-1.346261e+02</td>\n",
       "      <td>-6.360304e+00</td>\n",
       "      <td>-4.082542e+00</td>\n",
       "      <td>-7.307687e+00</td>\n",
       "      <td>-4.997784e+00</td>\n",
       "      <td>-5.261259e+00</td>\n",
       "      <td>0.000000</td>\n",
       "    </tr>\n",
       "    <tr>\n",
       "      <th>25%</th>\n",
       "      <td>-2.984769e+00</td>\n",
       "      <td>-2.503227e+00</td>\n",
       "      <td>-2.305696e+00</td>\n",
       "      <td>-1.488779e+00</td>\n",
       "      <td>-1.452113e+00</td>\n",
       "      <td>-1.224338e+00</td>\n",
       "      <td>-1.079027e+00</td>\n",
       "      <td>-8.997190e-01</td>\n",
       "      <td>-9.282381e-01</td>\n",
       "      <td>-1.028493e+00</td>\n",
       "      <td>-8.912944e-01</td>\n",
       "      <td>-7.361066e-01</td>\n",
       "      <td>-7.219725e-01</td>\n",
       "      <td>2.000000</td>\n",
       "    </tr>\n",
       "    <tr>\n",
       "      <th>50%</th>\n",
       "      <td>-2.948234e-02</td>\n",
       "      <td>1.064898e-01</td>\n",
       "      <td>-6.279557e-01</td>\n",
       "      <td>6.465369e-02</td>\n",
       "      <td>-1.491271e-01</td>\n",
       "      <td>-2.399354e-01</td>\n",
       "      <td>-1.710858e-01</td>\n",
       "      <td>4.052583e-02</td>\n",
       "      <td>9.459942e-03</td>\n",
       "      <td>-3.359478e-01</td>\n",
       "      <td>4.146842e-02</td>\n",
       "      <td>-1.586859e-02</td>\n",
       "      <td>-2.337505e-02</td>\n",
       "      <td>5.000000</td>\n",
       "    </tr>\n",
       "    <tr>\n",
       "      <th>75%</th>\n",
       "      <td>2.832055e+00</td>\n",
       "      <td>2.397182e+00</td>\n",
       "      <td>2.404942e+00</td>\n",
       "      <td>1.457838e+00</td>\n",
       "      <td>1.447253e+00</td>\n",
       "      <td>1.096536e+00</td>\n",
       "      <td>8.744988e-01</td>\n",
       "      <td>9.430643e-01</td>\n",
       "      <td>9.504941e-01</td>\n",
       "      <td>5.555355e-01</td>\n",
       "      <td>9.308827e-01</td>\n",
       "      <td>7.158270e-01</td>\n",
       "      <td>7.126443e-01</td>\n",
       "      <td>7.000000</td>\n",
       "    </tr>\n",
       "    <tr>\n",
       "      <th>max</th>\n",
       "      <td>1.133323e+01</td>\n",
       "      <td>1.055407e+01</td>\n",
       "      <td>7.046478e+00</td>\n",
       "      <td>2.541472e+01</td>\n",
       "      <td>1.549565e+01</td>\n",
       "      <td>4.892667e+01</td>\n",
       "      <td>1.532221e+01</td>\n",
       "      <td>7.077974e+00</td>\n",
       "      <td>1.871732e+02</td>\n",
       "      <td>3.385123e+01</td>\n",
       "      <td>9.559793e+00</td>\n",
       "      <td>2.395272e+02</td>\n",
       "      <td>5.633249e+01</td>\n",
       "      <td>9.000000</td>\n",
       "    </tr>\n",
       "  </tbody>\n",
       "</table>\n",
       "</div>"
      ],
      "text/plain": [
       "                  1             2             3             4             5  \\\n",
       "count  7.471090e+05  7.471090e+05  7.471090e+05  7.471090e+05  7.471090e+05   \n",
       "mean   4.864463e-16 -2.461619e-16 -1.080533e-15 -7.821297e-16  6.238264e-16   \n",
       "std    3.420840e+00  3.117848e+00  2.580790e+00  2.061164e+00  1.904167e+00   \n",
       "min   -9.307187e+01 -8.804873e+00 -9.669468e+00 -6.831736e+00 -5.070503e+01   \n",
       "25%   -2.984769e+00 -2.503227e+00 -2.305696e+00 -1.488779e+00 -1.452113e+00   \n",
       "50%   -2.948234e-02  1.064898e-01 -6.279557e-01  6.465369e-02 -1.491271e-01   \n",
       "75%    2.832055e+00  2.397182e+00  2.404942e+00  1.457838e+00  1.447253e+00   \n",
       "max    1.133323e+01  1.055407e+01  7.046478e+00  2.541472e+01  1.549565e+01   \n",
       "\n",
       "                  6             7             8             9            10  \\\n",
       "count  7.471090e+05  7.471090e+05  7.471090e+05  7.471090e+05  7.471090e+05   \n",
       "mean   1.456828e-16  3.527753e-16 -3.058787e-16  6.935103e-17  1.009261e-16   \n",
       "std    1.673989e+00  1.587994e+00  1.403894e+00  1.439101e+00  1.536362e+00   \n",
       "min   -5.458039e+00 -8.394290e+01 -1.346261e+02 -6.360304e+00 -4.082542e+00   \n",
       "25%   -1.224338e+00 -1.079027e+00 -8.997190e-01 -9.282381e-01 -1.028493e+00   \n",
       "50%   -2.399354e-01 -1.710858e-01  4.052583e-02  9.459942e-03 -3.359478e-01   \n",
       "75%    1.096536e+00  8.744988e-01  9.430643e-01  9.504941e-01  5.555355e-01   \n",
       "max    4.892667e+01  1.532221e+01  7.077974e+00  1.871732e+02  3.385123e+01   \n",
       "\n",
       "                 11            12            13        cluster  \n",
       "count  7.471090e+05  7.471090e+05  7.471090e+05  747109.000000  \n",
       "mean  -1.628208e-17  5.848711e-16 -1.941391e-16       4.728566  \n",
       "std    1.449162e+00  1.157566e+00  1.101616e+00       2.854823  \n",
       "min   -7.307687e+00 -4.997784e+00 -5.261259e+00       0.000000  \n",
       "25%   -8.912944e-01 -7.361066e-01 -7.219725e-01       2.000000  \n",
       "50%    4.146842e-02 -1.586859e-02 -2.337505e-02       5.000000  \n",
       "75%    9.308827e-01  7.158270e-01  7.126443e-01       7.000000  \n",
       "max    9.559793e+00  2.395272e+02  5.633249e+01       9.000000  "
      ]
     },
     "execution_count": 120,
     "metadata": {},
     "output_type": "execute_result"
    }
   ],
   "source": [
    "# What kinds of people are part of a cluster that is overrepresented in the\n",
    "# customer data compared to the general population?\n",
    "df_cust_pca = pd.DataFrame(customers_pca, columns=np.arange(1, 14))\n",
    "df_cust_pca['cluster'] = cust_labels\n",
    "df_cust_pca.describe()"
   ]
  },
  {
   "cell_type": "code",
   "execution_count": 121,
   "metadata": {},
   "outputs": [
    {
     "data": {
      "text/plain": [
       "(747109, 14)"
      ]
     },
     "execution_count": 121,
     "metadata": {},
     "output_type": "execute_result"
    }
   ],
   "source": [
    "df_cust_pca.shape"
   ]
  },
  {
   "cell_type": "code",
   "execution_count": 126,
   "metadata": {},
   "outputs": [
    {
     "data": {
      "text/plain": [
       "(81613, 14)"
      ]
     },
     "execution_count": 126,
     "metadata": {},
     "output_type": "execute_result"
    }
   ],
   "source": [
    "cluster_3 = df_cust_pca[df_cust_pca.cluster == 3]\n",
    "cluster_3.shape"
   ]
  },
  {
   "cell_type": "code",
   "execution_count": 131,
   "metadata": {},
   "outputs": [
    {
     "data": {
      "text/html": [
       "<div>\n",
       "<style scoped>\n",
       "    .dataframe tbody tr th:only-of-type {\n",
       "        vertical-align: middle;\n",
       "    }\n",
       "\n",
       "    .dataframe tbody tr th {\n",
       "        vertical-align: top;\n",
       "    }\n",
       "\n",
       "    .dataframe thead th {\n",
       "        text-align: right;\n",
       "    }\n",
       "</style>\n",
       "<table border=\"1\" class=\"dataframe\">\n",
       "  <thead>\n",
       "    <tr style=\"text-align: right;\">\n",
       "      <th></th>\n",
       "      <th>1</th>\n",
       "      <th>2</th>\n",
       "      <th>3</th>\n",
       "      <th>4</th>\n",
       "      <th>5</th>\n",
       "      <th>6</th>\n",
       "      <th>7</th>\n",
       "      <th>8</th>\n",
       "      <th>9</th>\n",
       "      <th>10</th>\n",
       "      <th>11</th>\n",
       "      <th>12</th>\n",
       "      <th>13</th>\n",
       "    </tr>\n",
       "  </thead>\n",
       "  <tbody>\n",
       "    <tr>\n",
       "      <th>13</th>\n",
       "      <td>-1.869597</td>\n",
       "      <td>0.364450</td>\n",
       "      <td>2.883141</td>\n",
       "      <td>3.714371</td>\n",
       "      <td>-0.765420</td>\n",
       "      <td>-0.933149</td>\n",
       "      <td>-0.805632</td>\n",
       "      <td>-0.727363</td>\n",
       "      <td>-2.195075</td>\n",
       "      <td>2.850953</td>\n",
       "      <td>1.750960</td>\n",
       "      <td>-1.404544</td>\n",
       "      <td>-0.542349</td>\n",
       "    </tr>\n",
       "    <tr>\n",
       "      <th>19</th>\n",
       "      <td>-4.654742</td>\n",
       "      <td>1.443856</td>\n",
       "      <td>-0.742814</td>\n",
       "      <td>1.408042</td>\n",
       "      <td>-2.597031</td>\n",
       "      <td>-2.696695</td>\n",
       "      <td>0.028599</td>\n",
       "      <td>-0.144443</td>\n",
       "      <td>1.366690</td>\n",
       "      <td>-1.204623</td>\n",
       "      <td>0.000811</td>\n",
       "      <td>-0.314799</td>\n",
       "      <td>0.566831</td>\n",
       "    </tr>\n",
       "    <tr>\n",
       "      <th>23</th>\n",
       "      <td>-1.263302</td>\n",
       "      <td>0.938485</td>\n",
       "      <td>-0.804098</td>\n",
       "      <td>2.896482</td>\n",
       "      <td>-2.786117</td>\n",
       "      <td>-3.548885</td>\n",
       "      <td>-0.908595</td>\n",
       "      <td>0.595051</td>\n",
       "      <td>0.949497</td>\n",
       "      <td>-0.432480</td>\n",
       "      <td>1.224614</td>\n",
       "      <td>0.001194</td>\n",
       "      <td>-0.497436</td>\n",
       "    </tr>\n",
       "    <tr>\n",
       "      <th>27</th>\n",
       "      <td>-4.175310</td>\n",
       "      <td>-2.056171</td>\n",
       "      <td>3.836836</td>\n",
       "      <td>2.034792</td>\n",
       "      <td>2.498494</td>\n",
       "      <td>-0.612930</td>\n",
       "      <td>-0.785604</td>\n",
       "      <td>1.255952</td>\n",
       "      <td>0.027800</td>\n",
       "      <td>-1.893309</td>\n",
       "      <td>-1.061896</td>\n",
       "      <td>-0.204491</td>\n",
       "      <td>0.413661</td>\n",
       "    </tr>\n",
       "    <tr>\n",
       "      <th>51</th>\n",
       "      <td>-3.113091</td>\n",
       "      <td>-2.512439</td>\n",
       "      <td>2.318547</td>\n",
       "      <td>3.039137</td>\n",
       "      <td>0.778727</td>\n",
       "      <td>-1.641272</td>\n",
       "      <td>-0.040456</td>\n",
       "      <td>-2.259533</td>\n",
       "      <td>-1.738625</td>\n",
       "      <td>0.518515</td>\n",
       "      <td>-2.137736</td>\n",
       "      <td>2.396889</td>\n",
       "      <td>0.932152</td>\n",
       "    </tr>\n",
       "  </tbody>\n",
       "</table>\n",
       "</div>"
      ],
      "text/plain": [
       "          1         2         3         4         5         6         7   \\\n",
       "13 -1.869597  0.364450  2.883141  3.714371 -0.765420 -0.933149 -0.805632   \n",
       "19 -4.654742  1.443856 -0.742814  1.408042 -2.597031 -2.696695  0.028599   \n",
       "23 -1.263302  0.938485 -0.804098  2.896482 -2.786117 -3.548885 -0.908595   \n",
       "27 -4.175310 -2.056171  3.836836  2.034792  2.498494 -0.612930 -0.785604   \n",
       "51 -3.113091 -2.512439  2.318547  3.039137  0.778727 -1.641272 -0.040456   \n",
       "\n",
       "          8         9         10        11        12        13  \n",
       "13 -0.727363 -2.195075  2.850953  1.750960 -1.404544 -0.542349  \n",
       "19 -0.144443  1.366690 -1.204623  0.000811 -0.314799  0.566831  \n",
       "23  0.595051  0.949497 -0.432480  1.224614  0.001194 -0.497436  \n",
       "27  1.255952  0.027800 -1.893309 -1.061896 -0.204491  0.413661  \n",
       "51 -2.259533 -1.738625  0.518515 -2.137736  2.396889  0.932152  "
      ]
     },
     "execution_count": 131,
     "metadata": {},
     "output_type": "execute_result"
    }
   ],
   "source": [
    "cluster_3 = cluster_3.drop(columns='cluster')\n",
    "cluster_3.head()"
   ]
  },
  {
   "cell_type": "code",
   "execution_count": 132,
   "metadata": {},
   "outputs": [],
   "source": [
    "sums = cluster_3.sum(axis=0)"
   ]
  },
  {
   "cell_type": "code",
   "execution_count": 134,
   "metadata": {},
   "outputs": [
    {
     "data": {
      "image/png": "[encoded data removed]",
      "text/plain": [
       "<matplotlib.figure.Figure at 0x7f117f3707f0>"
      ]
     },
     "metadata": {
      "needs_background": "light"
     },
     "output_type": "display_data"
    }
   ],
   "source": [
    "sns.barplot(x=sums.keys(), y=sums, color='b');"
   ]
  },
  {
   "cell_type": "markdown",
   "metadata": {},
   "source": [
    "### Component 1 Discussion\n",
    "\n",
    "We see from the chart above that the PCA component 1 has by far the strongest effect. As a reminder of what we concluded about component 1:\n",
    "\n",
    "\"We can summarize this component as low income people in high density housing\"\n",
    "\n",
    "Customers are underrepresented in this component, so we can conclude that the customers are likely to have higher income and to come from less densely populated areas (for example, greater percentage of 1-2 family homes, and less houses in the microcell)."
   ]
  },
  {
   "cell_type": "markdown",
   "metadata": {},
   "source": [
    "### Component 2 Discussion\n",
    "\n",
    "PCA component two is slightly overrepresented in customer data. As a reminder:\n",
    "\n",
    "\"Component two is characterized by a number of traits that seem to possibly be correlated with older age and conservativism:\n",
    "\n",
    "-- lower financial preparation and financially inconspicuous, but higher rates of saving and investing\n",
    "\n",
    "-- religious, traditional minded, low affinity for sensuality and events\"\n",
    "\n",
    "We can conclude that customers are somewhat likely to be older, conservative, and traditionally minded."
   ]
  },
  {
   "cell_type": "markdown",
   "metadata": {},
   "source": [
    "### Component 3 Discussion\n",
    "PCA component three is also slightly overrepresented in the customer data. As a reminder:\n",
    "\n",
    "\"Component 3 centers around a cluster of personality traits:\n",
    "\n",
    "-male\n",
    "\n",
    "-down to earth, not particularly socially or family oriented, less interested in culture\n",
    "\n",
    "-combative, dominant, critical, event oriented and rational\"\n",
    "\n",
    "So we can conclude that customers are somewhat more likely to be male, down to earth, less socially and culturally oriented, rational, assertive and critical. \n"
   ]
  },
  {
   "cell_type": "markdown",
   "metadata": {},
   "source": [
    "### Component 4 Discussion\n",
    "\n",
    "PCA component four is overrepresented in the customer data. As a reminder:\n",
    "\n",
    "\"Component 4 centers around these traits:\n",
    "\n",
    "--higher income, from regions with higher purchasing power, greater representation of top earners\n",
    "\n",
    "--greater distance from city center, but higher housing per km2 (this could mean suburban areas)\n",
    "\n",
    "--more avantgarde and more likely to be involved with environmental sustainability\n",
    "\n",
    "--less likely to be homeowners\"\n",
    "\n",
    "So we can conclude that customers are more likely to be living in suburban areas, with higher purchasing power, avantgarde and environmentally aware, but less likely to be homeowners."
   ]
  },
  {
   "cell_type": "markdown",
   "metadata": {},
   "source": [
    "### Conclusions about Customers\n",
    "\n",
    "Combining the results, we can conclude that customers are likely to have a higher income and to live outside city centers. They are likely to live in the suburbs. They are more likely to be males with higher purchasing power, and are on average slightly older than the general population. They are rational, assertive and critical, and somewhat conservative. They are somewhat avantgarde and environmentally aware, but not likely to own their own home.\n",
    "\n",
    "Underrepresented in the customers are younger people, people with a lower income, women, and people that are less traditional minded and more socially/culturally minded."
   ]
  },
  {
   "cell_type": "code",
   "execution_count": null,
   "metadata": {},
   "outputs": [],
   "source": []
  }
 ],
 "metadata": {
  "kernelspec": {
   "display_name": "Python 3",
   "language": "python",
   "name": "python3"
  },
  "language_info": {
   "codemirror_mode": {
    "name": "ipython",
    "version": 3
   },
   "file_extension": ".py",
   "mimetype": "text/x-python",
   "name": "python",
   "nbconvert_exporter": "python",
   "pygments_lexer": "ipython3",
   "version": "3.7.1"
  }
 },
 "nbformat": 4,
 "nbformat_minor": 2
}
